{
 "cells": [
  {
   "cell_type": "markdown",
   "id": "ba5884dd",
   "metadata": {},
   "source": [
    "<a id='FEMB'></a>\n",
    "\n",
    "# Restaurant Fake Review Detection # 3\n",
    "\n",
    "- __[Feature Engineering](#FE)__\n",
    "- __[Model Building](#MB)__\n",
    "\n",
    "    - [Text Analysis (CNN, LSTM)](#TA)\n",
    "\n",
    "    - [Classification Algorithms](#CA)\n",
    "    \n",
    "    \n",
    "To navigate to each section and subsection, please use this [link]() where you can use embedded internal links within this notebook. "
   ]
  },
  {
   "cell_type": "markdown",
   "id": "91257fcd",
   "metadata": {},
   "source": [
    "\n"
   ]
  },
  {
   "cell_type": "markdown",
   "id": "f6070cd5",
   "metadata": {},
   "source": [
    "<a id='FE'></a>\n",
    "\n",
    "# Feature Engineering"
   ]
  },
  {
   "cell_type": "code",
   "execution_count": 1,
   "id": "a021a614",
   "metadata": {},
   "outputs": [],
   "source": [
    "# Import libraries required for analysis\n",
    "\n",
    "import sqlite3\n",
    "import pandas as pd\n",
    "import numpy as np\n",
    "import seaborn as sns\n",
    "import matplotlib.pyplot as plt\n",
    "from operator import attrgetter\n",
    "import re\n",
    "import string\n",
    "from sklearn.feature_extraction.text import CountVectorizer\n",
    "from wordcloud import WordCloud\n",
    "from textblob import TextBlob"
   ]
  },
  {
   "cell_type": "code",
   "execution_count": 2,
   "id": "306ae586",
   "metadata": {},
   "outputs": [],
   "source": [
    "df_join = pd.read_pickle(\"./org_df.pkl\")"
   ]
  },
  {
   "cell_type": "markdown",
   "id": "ed649451",
   "metadata": {},
   "source": [
    "\n"
   ]
  },
  {
   "cell_type": "markdown",
   "id": "feb31995",
   "metadata": {},
   "source": [
    "\n"
   ]
  },
  {
   "cell_type": "code",
   "execution_count": 3,
   "id": "e96fce7d",
   "metadata": {},
   "outputs": [],
   "source": [
    "# Find out the maximum number of reviews each reviewer has left in a day and drop the reviewerID.\n",
    "\n",
    "max_temp = df_join.groupby(['reviewerID','date'])['reviewerID'].count().reset_index(name='count')\n",
    "max_temp_new = max_temp.groupby(\"reviewerID\", as_index = False).max()\n",
    "\n",
    "df_join = pd.merge(df_join,\n",
    "                 max_temp_new[['reviewerID', 'count']],\n",
    "                 on='reviewerID')\n",
    "df_join.rename({'count': 'maxReview_a_day'}, axis=1, inplace=True)  # rename the count column"
   ]
  },
  {
   "cell_type": "code",
   "execution_count": 4,
   "id": "ed42e189",
   "metadata": {},
   "outputs": [
    {
     "data": {
      "text/html": [
       "<div>\n",
       "<style scoped>\n",
       "    .dataframe tbody tr th:only-of-type {\n",
       "        vertical-align: middle;\n",
       "    }\n",
       "\n",
       "    .dataframe tbody tr th {\n",
       "        vertical-align: top;\n",
       "    }\n",
       "\n",
       "    .dataframe thead th {\n",
       "        text-align: right;\n",
       "    }\n",
       "</style>\n",
       "<table border=\"1\" class=\"dataframe\">\n",
       "  <thead>\n",
       "    <tr style=\"text-align: right;\">\n",
       "      <th></th>\n",
       "      <th>date</th>\n",
       "      <th>reviewContent</th>\n",
       "      <th>rating</th>\n",
       "      <th>flagged</th>\n",
       "      <th>reviewer_location</th>\n",
       "      <th>yelpJoinDate</th>\n",
       "      <th>reviewer_friendCount</th>\n",
       "      <th>reviewer_reviewCount</th>\n",
       "      <th>reviewer_firstCount</th>\n",
       "      <th>reviewer_usefulCount</th>\n",
       "      <th>reviewer_coolCount</th>\n",
       "      <th>reviewer_funnyCount</th>\n",
       "      <th>reviewer_complimentCount</th>\n",
       "      <th>reviewer_tipCount</th>\n",
       "      <th>reviewer_fanCount</th>\n",
       "      <th>restaurant_reviewCount</th>\n",
       "      <th>restaurant_rating</th>\n",
       "      <th>categories</th>\n",
       "      <th>PriceRange</th>\n",
       "      <th>maxReview_a_day</th>\n",
       "    </tr>\n",
       "  </thead>\n",
       "  <tbody>\n",
       "    <tr>\n",
       "      <th>7226</th>\n",
       "      <td>2012-04-12</td>\n",
       "      <td>probably the best meal i have ever had everyth...</td>\n",
       "      <td>5</td>\n",
       "      <td>N</td>\n",
       "      <td>Chicago, IL</td>\n",
       "      <td>2006-01</td>\n",
       "      <td>8</td>\n",
       "      <td>48</td>\n",
       "      <td>0</td>\n",
       "      <td>7</td>\n",
       "      <td>2</td>\n",
       "      <td>2</td>\n",
       "      <td>0</td>\n",
       "      <td>0</td>\n",
       "      <td>0</td>\n",
       "      <td>841</td>\n",
       "      <td>4.5</td>\n",
       "      <td>Restaurants, American (New)</td>\n",
       "      <td>Over $61</td>\n",
       "      <td>12</td>\n",
       "    </tr>\n",
       "    <tr>\n",
       "      <th>7227</th>\n",
       "      <td>2012-04-12</td>\n",
       "      <td>great atmosphere nice wines try the homemade r...</td>\n",
       "      <td>4</td>\n",
       "      <td>N</td>\n",
       "      <td>Chicago, IL</td>\n",
       "      <td>2006-01</td>\n",
       "      <td>8</td>\n",
       "      <td>48</td>\n",
       "      <td>0</td>\n",
       "      <td>7</td>\n",
       "      <td>2</td>\n",
       "      <td>2</td>\n",
       "      <td>0</td>\n",
       "      <td>0</td>\n",
       "      <td>0</td>\n",
       "      <td>578</td>\n",
       "      <td>4.0</td>\n",
       "      <td>Restaurants, Italian</td>\n",
       "      <td>$11-30</td>\n",
       "      <td>12</td>\n",
       "    </tr>\n",
       "    <tr>\n",
       "      <th>7228</th>\n",
       "      <td>2012-04-12</td>\n",
       "      <td>very good homemade pasta wonderful outdoor sea...</td>\n",
       "      <td>4</td>\n",
       "      <td>N</td>\n",
       "      <td>Chicago, IL</td>\n",
       "      <td>2006-01</td>\n",
       "      <td>8</td>\n",
       "      <td>48</td>\n",
       "      <td>0</td>\n",
       "      <td>7</td>\n",
       "      <td>2</td>\n",
       "      <td>2</td>\n",
       "      <td>0</td>\n",
       "      <td>0</td>\n",
       "      <td>0</td>\n",
       "      <td>481</td>\n",
       "      <td>4.0</td>\n",
       "      <td>Restaurants, Italian</td>\n",
       "      <td>$31-60</td>\n",
       "      <td>12</td>\n",
       "    </tr>\n",
       "    <tr>\n",
       "      <th>7229</th>\n",
       "      <td>2012-04-12</td>\n",
       "      <td>their pizza is very good i dont like their atm...</td>\n",
       "      <td>3</td>\n",
       "      <td>N</td>\n",
       "      <td>Chicago, IL</td>\n",
       "      <td>2006-01</td>\n",
       "      <td>8</td>\n",
       "      <td>48</td>\n",
       "      <td>0</td>\n",
       "      <td>7</td>\n",
       "      <td>2</td>\n",
       "      <td>2</td>\n",
       "      <td>0</td>\n",
       "      <td>0</td>\n",
       "      <td>0</td>\n",
       "      <td>1543</td>\n",
       "      <td>4.0</td>\n",
       "      <td>Other</td>\n",
       "      <td>$11-30</td>\n",
       "      <td>12</td>\n",
       "    </tr>\n",
       "    <tr>\n",
       "      <th>7230</th>\n",
       "      <td>2012-04-12</td>\n",
       "      <td>great sandwiches worth the quickly moving line...</td>\n",
       "      <td>4</td>\n",
       "      <td>N</td>\n",
       "      <td>Chicago, IL</td>\n",
       "      <td>2006-01</td>\n",
       "      <td>8</td>\n",
       "      <td>48</td>\n",
       "      <td>0</td>\n",
       "      <td>7</td>\n",
       "      <td>2</td>\n",
       "      <td>2</td>\n",
       "      <td>0</td>\n",
       "      <td>0</td>\n",
       "      <td>0</td>\n",
       "      <td>1461</td>\n",
       "      <td>4.0</td>\n",
       "      <td>Restaurants, Mexican</td>\n",
       "      <td>$11-30</td>\n",
       "      <td>12</td>\n",
       "    </tr>\n",
       "    <tr>\n",
       "      <th>7231</th>\n",
       "      <td>2012-04-12</td>\n",
       "      <td>my favorite chinese restaurant in chicago best...</td>\n",
       "      <td>4</td>\n",
       "      <td>N</td>\n",
       "      <td>Chicago, IL</td>\n",
       "      <td>2006-01</td>\n",
       "      <td>8</td>\n",
       "      <td>48</td>\n",
       "      <td>0</td>\n",
       "      <td>7</td>\n",
       "      <td>2</td>\n",
       "      <td>2</td>\n",
       "      <td>0</td>\n",
       "      <td>0</td>\n",
       "      <td>0</td>\n",
       "      <td>607</td>\n",
       "      <td>4.0</td>\n",
       "      <td>Restaurants, Chinese</td>\n",
       "      <td>$11-30</td>\n",
       "      <td>12</td>\n",
       "    </tr>\n",
       "    <tr>\n",
       "      <th>7232</th>\n",
       "      <td>2012-04-12</td>\n",
       "      <td>i started out liking this place much more but ...</td>\n",
       "      <td>3</td>\n",
       "      <td>N</td>\n",
       "      <td>Chicago, IL</td>\n",
       "      <td>2006-01</td>\n",
       "      <td>8</td>\n",
       "      <td>48</td>\n",
       "      <td>0</td>\n",
       "      <td>7</td>\n",
       "      <td>2</td>\n",
       "      <td>2</td>\n",
       "      <td>0</td>\n",
       "      <td>0</td>\n",
       "      <td>0</td>\n",
       "      <td>947</td>\n",
       "      <td>4.0</td>\n",
       "      <td>Other</td>\n",
       "      <td>$11-30</td>\n",
       "      <td>12</td>\n",
       "    </tr>\n",
       "    <tr>\n",
       "      <th>7233</th>\n",
       "      <td>2012-04-12</td>\n",
       "      <td>this place is steady its got a nice fun atmosp...</td>\n",
       "      <td>4</td>\n",
       "      <td>N</td>\n",
       "      <td>Chicago, IL</td>\n",
       "      <td>2006-01</td>\n",
       "      <td>8</td>\n",
       "      <td>48</td>\n",
       "      <td>0</td>\n",
       "      <td>7</td>\n",
       "      <td>2</td>\n",
       "      <td>2</td>\n",
       "      <td>0</td>\n",
       "      <td>0</td>\n",
       "      <td>0</td>\n",
       "      <td>702</td>\n",
       "      <td>4.0</td>\n",
       "      <td>Other</td>\n",
       "      <td>$31-60</td>\n",
       "      <td>12</td>\n",
       "    </tr>\n",
       "    <tr>\n",
       "      <th>7234</th>\n",
       "      <td>2012-04-12</td>\n",
       "      <td>uninspired nice atmosphere and service but the...</td>\n",
       "      <td>3</td>\n",
       "      <td>N</td>\n",
       "      <td>Chicago, IL</td>\n",
       "      <td>2006-01</td>\n",
       "      <td>8</td>\n",
       "      <td>48</td>\n",
       "      <td>0</td>\n",
       "      <td>7</td>\n",
       "      <td>2</td>\n",
       "      <td>2</td>\n",
       "      <td>0</td>\n",
       "      <td>0</td>\n",
       "      <td>0</td>\n",
       "      <td>581</td>\n",
       "      <td>4.0</td>\n",
       "      <td>Restaurants, American (New)</td>\n",
       "      <td>Over $61</td>\n",
       "      <td>12</td>\n",
       "    </tr>\n",
       "    <tr>\n",
       "      <th>7235</th>\n",
       "      <td>2012-04-12</td>\n",
       "      <td>if you can get over the occasionally terrible ...</td>\n",
       "      <td>4</td>\n",
       "      <td>N</td>\n",
       "      <td>Chicago, IL</td>\n",
       "      <td>2006-01</td>\n",
       "      <td>8</td>\n",
       "      <td>48</td>\n",
       "      <td>0</td>\n",
       "      <td>7</td>\n",
       "      <td>2</td>\n",
       "      <td>2</td>\n",
       "      <td>0</td>\n",
       "      <td>0</td>\n",
       "      <td>0</td>\n",
       "      <td>684</td>\n",
       "      <td>3.5</td>\n",
       "      <td>Other</td>\n",
       "      <td>$11-30</td>\n",
       "      <td>12</td>\n",
       "    </tr>\n",
       "    <tr>\n",
       "      <th>7236</th>\n",
       "      <td>2012-04-12</td>\n",
       "      <td>good pho nothing amazing but good pho</td>\n",
       "      <td>3</td>\n",
       "      <td>N</td>\n",
       "      <td>Chicago, IL</td>\n",
       "      <td>2006-01</td>\n",
       "      <td>8</td>\n",
       "      <td>48</td>\n",
       "      <td>0</td>\n",
       "      <td>7</td>\n",
       "      <td>2</td>\n",
       "      <td>2</td>\n",
       "      <td>0</td>\n",
       "      <td>0</td>\n",
       "      <td>0</td>\n",
       "      <td>800</td>\n",
       "      <td>4.0</td>\n",
       "      <td>Other</td>\n",
       "      <td>Under $10</td>\n",
       "      <td>12</td>\n",
       "    </tr>\n",
       "    <tr>\n",
       "      <th>7237</th>\n",
       "      <td>2012-04-12</td>\n",
       "      <td>overrated for brunch really didnt love the food</td>\n",
       "      <td>3</td>\n",
       "      <td>N</td>\n",
       "      <td>Chicago, IL</td>\n",
       "      <td>2006-01</td>\n",
       "      <td>8</td>\n",
       "      <td>48</td>\n",
       "      <td>0</td>\n",
       "      <td>7</td>\n",
       "      <td>2</td>\n",
       "      <td>2</td>\n",
       "      <td>0</td>\n",
       "      <td>0</td>\n",
       "      <td>0</td>\n",
       "      <td>1303</td>\n",
       "      <td>4.0</td>\n",
       "      <td>Other</td>\n",
       "      <td>$31-60</td>\n",
       "      <td>12</td>\n",
       "    </tr>\n",
       "  </tbody>\n",
       "</table>\n",
       "</div>"
      ],
      "text/plain": [
       "           date                                      reviewContent  rating  \\\n",
       "7226 2012-04-12  probably the best meal i have ever had everyth...       5   \n",
       "7227 2012-04-12  great atmosphere nice wines try the homemade r...       4   \n",
       "7228 2012-04-12  very good homemade pasta wonderful outdoor sea...       4   \n",
       "7229 2012-04-12  their pizza is very good i dont like their atm...       3   \n",
       "7230 2012-04-12  great sandwiches worth the quickly moving line...       4   \n",
       "7231 2012-04-12  my favorite chinese restaurant in chicago best...       4   \n",
       "7232 2012-04-12  i started out liking this place much more but ...       3   \n",
       "7233 2012-04-12  this place is steady its got a nice fun atmosp...       4   \n",
       "7234 2012-04-12  uninspired nice atmosphere and service but the...       3   \n",
       "7235 2012-04-12  if you can get over the occasionally terrible ...       4   \n",
       "7236 2012-04-12              good pho nothing amazing but good pho       3   \n",
       "7237 2012-04-12    overrated for brunch really didnt love the food       3   \n",
       "\n",
       "     flagged reviewer_location yelpJoinDate  reviewer_friendCount  \\\n",
       "7226       N       Chicago, IL      2006-01                     8   \n",
       "7227       N       Chicago, IL      2006-01                     8   \n",
       "7228       N       Chicago, IL      2006-01                     8   \n",
       "7229       N       Chicago, IL      2006-01                     8   \n",
       "7230       N       Chicago, IL      2006-01                     8   \n",
       "7231       N       Chicago, IL      2006-01                     8   \n",
       "7232       N       Chicago, IL      2006-01                     8   \n",
       "7233       N       Chicago, IL      2006-01                     8   \n",
       "7234       N       Chicago, IL      2006-01                     8   \n",
       "7235       N       Chicago, IL      2006-01                     8   \n",
       "7236       N       Chicago, IL      2006-01                     8   \n",
       "7237       N       Chicago, IL      2006-01                     8   \n",
       "\n",
       "      reviewer_reviewCount  reviewer_firstCount  reviewer_usefulCount  \\\n",
       "7226                    48                    0                     7   \n",
       "7227                    48                    0                     7   \n",
       "7228                    48                    0                     7   \n",
       "7229                    48                    0                     7   \n",
       "7230                    48                    0                     7   \n",
       "7231                    48                    0                     7   \n",
       "7232                    48                    0                     7   \n",
       "7233                    48                    0                     7   \n",
       "7234                    48                    0                     7   \n",
       "7235                    48                    0                     7   \n",
       "7236                    48                    0                     7   \n",
       "7237                    48                    0                     7   \n",
       "\n",
       "      reviewer_coolCount  reviewer_funnyCount  reviewer_complimentCount  \\\n",
       "7226                   2                    2                         0   \n",
       "7227                   2                    2                         0   \n",
       "7228                   2                    2                         0   \n",
       "7229                   2                    2                         0   \n",
       "7230                   2                    2                         0   \n",
       "7231                   2                    2                         0   \n",
       "7232                   2                    2                         0   \n",
       "7233                   2                    2                         0   \n",
       "7234                   2                    2                         0   \n",
       "7235                   2                    2                         0   \n",
       "7236                   2                    2                         0   \n",
       "7237                   2                    2                         0   \n",
       "\n",
       "      reviewer_tipCount  reviewer_fanCount  restaurant_reviewCount  \\\n",
       "7226                  0                  0                     841   \n",
       "7227                  0                  0                     578   \n",
       "7228                  0                  0                     481   \n",
       "7229                  0                  0                    1543   \n",
       "7230                  0                  0                    1461   \n",
       "7231                  0                  0                     607   \n",
       "7232                  0                  0                     947   \n",
       "7233                  0                  0                     702   \n",
       "7234                  0                  0                     581   \n",
       "7235                  0                  0                     684   \n",
       "7236                  0                  0                     800   \n",
       "7237                  0                  0                    1303   \n",
       "\n",
       "      restaurant_rating                   categories PriceRange  \\\n",
       "7226                4.5  Restaurants, American (New)   Over $61   \n",
       "7227                4.0         Restaurants, Italian     $11-30   \n",
       "7228                4.0         Restaurants, Italian     $31-60   \n",
       "7229                4.0                        Other     $11-30   \n",
       "7230                4.0         Restaurants, Mexican     $11-30   \n",
       "7231                4.0         Restaurants, Chinese     $11-30   \n",
       "7232                4.0                        Other     $11-30   \n",
       "7233                4.0                        Other     $31-60   \n",
       "7234                4.0  Restaurants, American (New)   Over $61   \n",
       "7235                3.5                        Other     $11-30   \n",
       "7236                4.0                        Other  Under $10   \n",
       "7237                4.0                        Other     $31-60   \n",
       "\n",
       "      maxReview_a_day  \n",
       "7226               12  \n",
       "7227               12  \n",
       "7228               12  \n",
       "7229               12  \n",
       "7230               12  \n",
       "7231               12  \n",
       "7232               12  \n",
       "7233               12  \n",
       "7234               12  \n",
       "7235               12  \n",
       "7236               12  \n",
       "7237               12  "
      ]
     },
     "execution_count": 4,
     "metadata": {},
     "output_type": "execute_result"
    }
   ],
   "source": [
    "# Reviews left by a reviewer whose maxReview_a_day = 12\n",
    "\n",
    "max_review = df_join.loc[df_join['maxReview_a_day'].idxmax()].reviewerID   \n",
    "df_join.loc[df_join['reviewerID']==max_review, df_join.columns != 'reviewerID']"
   ]
  },
  {
   "cell_type": "markdown",
   "id": "ec4c08d3",
   "metadata": {},
   "source": [
    "\n"
   ]
  },
  {
   "cell_type": "markdown",
   "id": "2c0a7718",
   "metadata": {},
   "source": [
    "\n"
   ]
  },
  {
   "cell_type": "code",
   "execution_count": 5,
   "id": "1eacf75f",
   "metadata": {},
   "outputs": [],
   "source": [
    "# Calcuate the standard deviation of ratings of each reviewer.\n",
    "\n",
    "meansd = df_join.groupby(['reviewerID'], as_index=False).agg({'rating':['std']})\n",
    "meansd.columns = ['reviewerID', 'rating_std']\n",
    "df_join = pd.merge(df_join, meansd[['reviewerID', 'rating_std']], on='reviewerID')\n",
    "\n",
    "df_join['rating_std'] = df_join['rating_std'].fillna(0)"
   ]
  },
  {
   "cell_type": "markdown",
   "id": "fd93ede4",
   "metadata": {},
   "source": [
    "\n"
   ]
  },
  {
   "cell_type": "markdown",
   "id": "613d8a25",
   "metadata": {},
   "source": [
    "\n"
   ]
  },
  {
   "cell_type": "code",
   "execution_count": 6,
   "id": "2fea1dc7",
   "metadata": {},
   "outputs": [],
   "source": [
    "# Calculate the time differences between 'date' and 'yelpJoinDate', and remove 'yelpJoinDate' and 'date_mo_yr'. \n",
    "\n",
    "df_join['date_mo_yr'] = pd.to_datetime(df_join['date']).dt.to_period('M')\n",
    "df_join['sinceJoin_months'] = (df_join['date_mo_yr'] - df_join['yelpJoinDate']).apply(attrgetter('n'))\n",
    "\n",
    "df_join = df_join.drop(['yelpJoinDate', 'date_mo_yr'], axis=1)"
   ]
  },
  {
   "cell_type": "markdown",
   "id": "125c1abc",
   "metadata": {},
   "source": [
    "\n"
   ]
  },
  {
   "cell_type": "markdown",
   "id": "d4e1c103",
   "metadata": {},
   "source": [
    "\n"
   ]
  },
  {
   "cell_type": "code",
   "execution_count": 7,
   "id": "c35c7d41",
   "metadata": {},
   "outputs": [],
   "source": [
    "# Count the number of words and uppercase letters in each reviewContent.\n",
    "\n",
    "df_join['wordCount'] = df_join.reviewContent.apply(lambda x: len(x.split()))\n",
    "df_join['uppercaseCount'] = df_join.reviewContent.apply(lambda x: sum(1 for c in x if c.isupper()))"
   ]
  },
  {
   "cell_type": "markdown",
   "id": "ba9da626",
   "metadata": {},
   "source": [
    "\n"
   ]
  },
  {
   "cell_type": "markdown",
   "id": "af504e95",
   "metadata": {},
   "source": [
    "\n"
   ]
  },
  {
   "cell_type": "markdown",
   "id": "4dad6c79",
   "metadata": {},
   "source": [
    "Most of the reviewers are in Chicago, IL. Rather than having all infrequent location information, create a new column 'reviewer_restaurant_loc_match' to indicate whether reviewers are in Chicago or not as the restaurants in this dataset are in the Chicago area. "
   ]
  },
  {
   "cell_type": "code",
   "execution_count": 8,
   "id": "5c6212a4",
   "metadata": {},
   "outputs": [],
   "source": [
    "# Rename 'reviewer_location' to 'reviewer_restaurant_loc_match'\n",
    "df_join.rename(columns = {'reviewer_location':'reviewer_restaurant_loc_match'}, inplace = True)\n",
    "\n",
    "# Compare reviewer's location & restuarant location (Chicago, IL) and see if they match (Y/N)\n",
    "for i in range(df_join.shape[0]):\n",
    "    if df_join.loc[df_join.index[i], 'reviewer_restaurant_loc_match'] == 'Chicago, IL':\n",
    "        df_join.loc[df_join.index[i], 'reviewer_restaurant_loc_match'] = 'Y'\n",
    "    else:\n",
    "        df_join.loc[df_join.index[i], 'reviewer_restaurant_loc_match'] = 'N'"
   ]
  },
  {
   "cell_type": "markdown",
   "id": "99756c1e",
   "metadata": {},
   "source": [
    "\n"
   ]
  },
  {
   "cell_type": "markdown",
   "id": "7342ce71",
   "metadata": {},
   "source": [
    "\n"
   ]
  },
  {
   "cell_type": "code",
   "execution_count": 9,
   "id": "dfbb7ea2",
   "metadata": {},
   "outputs": [],
   "source": [
    "# Create two columns (polarity and subjectivity) using sentiment analysis with review contents.\n",
    "\n",
    "pol = lambda x: TextBlob(x).sentiment.polarity\n",
    "sub = lambda x: TextBlob(x).sentiment.subjectivity\n",
    "\n",
    "df_join[\"polarity\"] = df_join[\"reviewContent\"].apply(pol)\n",
    "df_join[\"subjectivity\"] = df_join[\"reviewContent\"].apply(sub)"
   ]
  },
  {
   "cell_type": "markdown",
   "id": "4c39ef3f",
   "metadata": {},
   "source": [
    "\n"
   ]
  },
  {
   "cell_type": "markdown",
   "id": "4324387f",
   "metadata": {},
   "source": [
    "\n"
   ]
  },
  {
   "cell_type": "markdown",
   "id": "06da062c",
   "metadata": {},
   "source": [
    "The 'reviewer_usefulCount', 'reviewer_coolCount', 'reviewer_funnyCount', 'reviewer_complimentCount', 'reviewer_tipCount' have very high correlations with each other. Hence, we create a new feature 'reviewer_upvoteCount' by summing the above features, and drop them to avoid multicolliearity."
   ]
  },
  {
   "cell_type": "code",
   "execution_count": 10,
   "id": "5c04fb56",
   "metadata": {},
   "outputs": [],
   "source": [
    "# Drop columns to avoid multicolliearity. \n",
    "\n",
    "df_join['reviewer_upvoteCount'] = df_join['reviewer_usefulCount'] + df_join['reviewer_coolCount'] + df_join['reviewer_funnyCount'] + df_join['reviewer_complimentCount'] + df_join['reviewer_tipCount']\n",
    "df_join = df_join.drop(['reviewer_usefulCount', 'reviewer_coolCount', 'reviewer_funnyCount', 'reviewer_complimentCount', 'reviewer_tipCount'], axis=1)"
   ]
  },
  {
   "cell_type": "markdown",
   "id": "66670d1f",
   "metadata": {},
   "source": [
    "\n"
   ]
  },
  {
   "cell_type": "markdown",
   "id": "d366cd9d",
   "metadata": {},
   "source": [
    "\n"
   ]
  },
  {
   "cell_type": "markdown",
   "id": "ca33bbc3",
   "metadata": {},
   "source": [
    "Also, the 'reviewer_fanCount' and 'reviewer_friendCount' have a correlation of 0.89. Both of them represent the number of connections of each reviewer. We keep the 'reviewer_friendCount' and drop the 'reviewer_fanCount'."
   ]
  },
  {
   "cell_type": "code",
   "execution_count": 11,
   "id": "f955562e",
   "metadata": {},
   "outputs": [],
   "source": [
    "# Drop the 'reviewer_fanCount'.\n",
    "\n",
    "df_join = df_join.drop(['reviewer_fanCount'], axis=1)"
   ]
  },
  {
   "cell_type": "markdown",
   "id": "88255abf",
   "metadata": {},
   "source": [
    "\n"
   ]
  },
  {
   "cell_type": "markdown",
   "id": "154b8593",
   "metadata": {},
   "source": [
    "\n"
   ]
  },
  {
   "cell_type": "code",
   "execution_count": 12,
   "id": "b1a7920f",
   "metadata": {},
   "outputs": [],
   "source": [
    "# Create 'month', 'day', 'weekday' columns using the 'date' column. \n",
    "\n",
    "df_join['month'] = df_join.date.dt.month\n",
    "df_join['day'] = df_join.date.dt.day\n",
    "df_join['weekday'] = df_join.date.dt.day_name()"
   ]
  },
  {
   "cell_type": "markdown",
   "id": "29f763cf",
   "metadata": {},
   "source": [
    "\n"
   ]
  },
  {
   "cell_type": "markdown",
   "id": "12c1d2d8",
   "metadata": {},
   "source": [
    "\n"
   ]
  },
  {
   "cell_type": "code",
   "execution_count": 13,
   "id": "a7ccc3f6",
   "metadata": {},
   "outputs": [],
   "source": [
    "# Lastly, drop 'reviewerID' and 'date'. \n",
    "\n",
    "df_join = df_join.drop(['reviewerID', 'date'], axis=1)"
   ]
  },
  {
   "cell_type": "markdown",
   "id": "af07e6e7",
   "metadata": {},
   "source": [
    "\n"
   ]
  },
  {
   "cell_type": "markdown",
   "id": "2383a5d5",
   "metadata": {},
   "source": [
    "\n"
   ]
  },
  {
   "cell_type": "code",
   "execution_count": 14,
   "id": "7eb2655b",
   "metadata": {},
   "outputs": [],
   "source": [
    "# One Hot Encoding (3 attributes)\n",
    "df_encoded = pd.get_dummies(data=df_join, columns=['categories', 'PriceRange', 'weekday'])\n",
    "\n",
    "\n",
    "\n",
    "# Label Encoding (1 attribute, 1 class)\n",
    "from sklearn import preprocessing\n",
    "\n",
    "le = preprocessing.LabelEncoder()\n",
    "df_encoded['reviewer_restaurant_loc_match'] = le.fit_transform(df_encoded.reviewer_restaurant_loc_match.values)\n",
    "\n",
    "le = preprocessing.LabelEncoder()\n",
    "df_encoded['flagged'] = le.fit_transform(df_encoded.flagged.values)\n"
   ]
  },
  {
   "cell_type": "markdown",
   "id": "994322df",
   "metadata": {},
   "source": [
    "\n"
   ]
  },
  {
   "cell_type": "markdown",
   "id": "9f5891b0",
   "metadata": {},
   "source": [
    "\n"
   ]
  },
  {
   "cell_type": "markdown",
   "id": "ac122d66",
   "metadata": {},
   "source": [
    "Now we have 37 attributes including the response with approximately 27,000 reviews. "
   ]
  },
  {
   "cell_type": "code",
   "execution_count": 15,
   "id": "1d705687",
   "metadata": {},
   "outputs": [
    {
     "name": "stdout",
     "output_type": "stream",
     "text": [
      "<class 'pandas.core.frame.DataFrame'>\n",
      "Int64Index: 26956 entries, 0 to 26955\n",
      "Data columns (total 38 columns):\n",
      " #   Column                                   Non-Null Count  Dtype  \n",
      "---  ------                                   --------------  -----  \n",
      " 0   reviewContent                            26956 non-null  object \n",
      " 1   rating                                   26956 non-null  int64  \n",
      " 2   flagged                                  26956 non-null  int32  \n",
      " 3   reviewer_restaurant_loc_match            26956 non-null  int32  \n",
      " 4   reviewer_friendCount                     26956 non-null  int64  \n",
      " 5   reviewer_reviewCount                     26956 non-null  int64  \n",
      " 6   reviewer_firstCount                      26956 non-null  int64  \n",
      " 7   restaurant_reviewCount                   26956 non-null  int64  \n",
      " 8   restaurant_rating                        26956 non-null  float64\n",
      " 9   maxReview_a_day                          26956 non-null  int64  \n",
      " 10  rating_std                               26956 non-null  float64\n",
      " 11  sinceJoin_months                         26956 non-null  int64  \n",
      " 12  wordCount                                26956 non-null  int64  \n",
      " 13  uppercaseCount                           26956 non-null  int64  \n",
      " 14  polarity                                 26956 non-null  float64\n",
      " 15  subjectivity                             26956 non-null  float64\n",
      " 16  reviewer_upvoteCount                     26956 non-null  int64  \n",
      " 17  month                                    26956 non-null  int64  \n",
      " 18  day                                      26956 non-null  int64  \n",
      " 19  categories_Other                         26956 non-null  uint8  \n",
      " 20  categories_Restaurants, American (New)   26956 non-null  uint8  \n",
      " 21  categories_Restaurants, Chinese          26956 non-null  uint8  \n",
      " 22  categories_Restaurants, Italian          26956 non-null  uint8  \n",
      " 23  categories_Restaurants, Mexican          26956 non-null  uint8  \n",
      " 24  categories_Restaurants, Modern European  26956 non-null  uint8  \n",
      " 25  categories_Restaurants, Pizza            26956 non-null  uint8  \n",
      " 26  categories_Restaurants, Steakhouses      26956 non-null  uint8  \n",
      " 27  PriceRange_$11-30                        26956 non-null  uint8  \n",
      " 28  PriceRange_$31-60                        26956 non-null  uint8  \n",
      " 29  PriceRange_Over $61                      26956 non-null  uint8  \n",
      " 30  PriceRange_Under $10                     26956 non-null  uint8  \n",
      " 31  weekday_Friday                           26956 non-null  uint8  \n",
      " 32  weekday_Monday                           26956 non-null  uint8  \n",
      " 33  weekday_Saturday                         26956 non-null  uint8  \n",
      " 34  weekday_Sunday                           26956 non-null  uint8  \n",
      " 35  weekday_Thursday                         26956 non-null  uint8  \n",
      " 36  weekday_Tuesday                          26956 non-null  uint8  \n",
      " 37  weekday_Wednesday                        26956 non-null  uint8  \n",
      "dtypes: float64(4), int32(2), int64(12), object(1), uint8(19)\n",
      "memory usage: 5.4+ MB\n"
     ]
    }
   ],
   "source": [
    "df_encoded.info()"
   ]
  },
  {
   "cell_type": "markdown",
   "id": "18cb18a8",
   "metadata": {},
   "source": [
    "\n"
   ]
  },
  {
   "cell_type": "markdown",
   "id": "abca0485",
   "metadata": {},
   "source": [
    "\n"
   ]
  },
  {
   "cell_type": "code",
   "execution_count": 16,
   "id": "0c065622",
   "metadata": {},
   "outputs": [
    {
     "name": "stdout",
     "output_type": "stream",
     "text": [
      "(20217, 37) (6739, 37) (20217,) (6739,)\n"
     ]
    }
   ],
   "source": [
    "# Split data into training and test sets.\n",
    "\n",
    "from sklearn.model_selection import train_test_split\n",
    "from sklearn.metrics import classification_report\n",
    "\n",
    "\n",
    "X = df_encoded.drop(['flagged'], axis=1)\n",
    "Y = df_encoded['flagged'].values\n",
    "\n",
    "X_train, X_test, Y_train, Y_test = train_test_split(X, Y, test_size=0.25, random_state=42)\n",
    "print(X_train.shape, X_test.shape, Y_train.shape, Y_test.shape)"
   ]
  },
  {
   "cell_type": "markdown",
   "id": "f143ec5b",
   "metadata": {},
   "source": [
    "\n"
   ]
  },
  {
   "cell_type": "markdown",
   "id": "5683e291",
   "metadata": {},
   "source": [
    "\n"
   ]
  },
  {
   "cell_type": "code",
   "execution_count": 17,
   "id": "fcb8a62c",
   "metadata": {},
   "outputs": [],
   "source": [
    "# Separate 'reviewContent' from the training and test sets.\n",
    "\n",
    "X_train_num_cat = X_train.drop('reviewContent', axis=1)\n",
    "X_train_text = X_train['reviewContent'].copy()\n",
    "\n",
    "X_test_num_cat = X_test.drop('reviewContent', axis=1)\n",
    "X_test_text = X_test['reviewContent'].copy()"
   ]
  },
  {
   "cell_type": "markdown",
   "id": "f38f6bbe",
   "metadata": {},
   "source": [
    "\n"
   ]
  },
  {
   "cell_type": "markdown",
   "id": "dd6d9159",
   "metadata": {},
   "source": [
    "\n"
   ]
  },
  {
   "cell_type": "code",
   "execution_count": 18,
   "id": "1b00a27f",
   "metadata": {},
   "outputs": [],
   "source": [
    "# Feature scaling (min-max sclaing)\n",
    "\n",
    "from sklearn.preprocessing import MinMaxScaler\n",
    "from pandas import DataFrame\n",
    "\n",
    "minmaxscale = MinMaxScaler()\n",
    "\n",
    "col_names = X_train_num_cat.columns\n",
    "\n",
    "X_train_num_cat_scaled = minmaxscale.fit_transform(X_train_num_cat)\n",
    "X_train_num_cat_scaled = DataFrame(X_train_num_cat_scaled, columns = col_names)\n",
    "\n",
    "X_test_num_cat_scaled = minmaxscale.transform(X_test_num_cat)\n",
    "X_test_num_cat_scaled = DataFrame(X_test_num_cat_scaled, columns = col_names)"
   ]
  },
  {
   "cell_type": "code",
   "execution_count": 19,
   "id": "43435073",
   "metadata": {},
   "outputs": [
    {
     "data": {
      "text/html": [
       "<div>\n",
       "<style scoped>\n",
       "    .dataframe tbody tr th:only-of-type {\n",
       "        vertical-align: middle;\n",
       "    }\n",
       "\n",
       "    .dataframe tbody tr th {\n",
       "        vertical-align: top;\n",
       "    }\n",
       "\n",
       "    .dataframe thead th {\n",
       "        text-align: right;\n",
       "    }\n",
       "</style>\n",
       "<table border=\"1\" class=\"dataframe\">\n",
       "  <thead>\n",
       "    <tr style=\"text-align: right;\">\n",
       "      <th></th>\n",
       "      <th>rating</th>\n",
       "      <th>reviewer_restaurant_loc_match</th>\n",
       "      <th>reviewer_friendCount</th>\n",
       "      <th>reviewer_reviewCount</th>\n",
       "      <th>reviewer_firstCount</th>\n",
       "      <th>restaurant_reviewCount</th>\n",
       "      <th>restaurant_rating</th>\n",
       "      <th>maxReview_a_day</th>\n",
       "      <th>rating_std</th>\n",
       "      <th>sinceJoin_months</th>\n",
       "      <th>...</th>\n",
       "      <th>PriceRange_$31-60</th>\n",
       "      <th>PriceRange_Over $61</th>\n",
       "      <th>PriceRange_Under $10</th>\n",
       "      <th>weekday_Friday</th>\n",
       "      <th>weekday_Monday</th>\n",
       "      <th>weekday_Saturday</th>\n",
       "      <th>weekday_Sunday</th>\n",
       "      <th>weekday_Thursday</th>\n",
       "      <th>weekday_Tuesday</th>\n",
       "      <th>weekday_Wednesday</th>\n",
       "    </tr>\n",
       "  </thead>\n",
       "  <tbody>\n",
       "    <tr>\n",
       "      <th>0</th>\n",
       "      <td>0.50</td>\n",
       "      <td>0.0</td>\n",
       "      <td>0.002975</td>\n",
       "      <td>0.020307</td>\n",
       "      <td>0.003476</td>\n",
       "      <td>0.268339</td>\n",
       "      <td>0.000000</td>\n",
       "      <td>0.0</td>\n",
       "      <td>0.000000</td>\n",
       "      <td>0.317647</td>\n",
       "      <td>...</td>\n",
       "      <td>0.0</td>\n",
       "      <td>0.0</td>\n",
       "      <td>0.0</td>\n",
       "      <td>0.0</td>\n",
       "      <td>0.0</td>\n",
       "      <td>0.0</td>\n",
       "      <td>0.0</td>\n",
       "      <td>0.0</td>\n",
       "      <td>1.0</td>\n",
       "      <td>0.0</td>\n",
       "    </tr>\n",
       "    <tr>\n",
       "      <th>1</th>\n",
       "      <td>0.00</td>\n",
       "      <td>1.0</td>\n",
       "      <td>0.000000</td>\n",
       "      <td>0.005364</td>\n",
       "      <td>0.001159</td>\n",
       "      <td>0.443919</td>\n",
       "      <td>0.333333</td>\n",
       "      <td>0.0</td>\n",
       "      <td>0.000000</td>\n",
       "      <td>0.352941</td>\n",
       "      <td>...</td>\n",
       "      <td>0.0</td>\n",
       "      <td>0.0</td>\n",
       "      <td>0.0</td>\n",
       "      <td>0.0</td>\n",
       "      <td>1.0</td>\n",
       "      <td>0.0</td>\n",
       "      <td>0.0</td>\n",
       "      <td>0.0</td>\n",
       "      <td>0.0</td>\n",
       "      <td>0.0</td>\n",
       "    </tr>\n",
       "    <tr>\n",
       "      <th>2</th>\n",
       "      <td>1.00</td>\n",
       "      <td>1.0</td>\n",
       "      <td>0.001275</td>\n",
       "      <td>0.039847</td>\n",
       "      <td>0.002317</td>\n",
       "      <td>0.191197</td>\n",
       "      <td>0.333333</td>\n",
       "      <td>0.0</td>\n",
       "      <td>0.350382</td>\n",
       "      <td>0.047059</td>\n",
       "      <td>...</td>\n",
       "      <td>0.0</td>\n",
       "      <td>0.0</td>\n",
       "      <td>0.0</td>\n",
       "      <td>1.0</td>\n",
       "      <td>0.0</td>\n",
       "      <td>0.0</td>\n",
       "      <td>0.0</td>\n",
       "      <td>0.0</td>\n",
       "      <td>0.0</td>\n",
       "      <td>0.0</td>\n",
       "    </tr>\n",
       "    <tr>\n",
       "      <th>3</th>\n",
       "      <td>0.75</td>\n",
       "      <td>1.0</td>\n",
       "      <td>0.002125</td>\n",
       "      <td>0.001149</td>\n",
       "      <td>0.000000</td>\n",
       "      <td>0.426881</td>\n",
       "      <td>0.333333</td>\n",
       "      <td>0.0</td>\n",
       "      <td>0.000000</td>\n",
       "      <td>0.000000</td>\n",
       "      <td>...</td>\n",
       "      <td>1.0</td>\n",
       "      <td>0.0</td>\n",
       "      <td>0.0</td>\n",
       "      <td>0.0</td>\n",
       "      <td>0.0</td>\n",
       "      <td>0.0</td>\n",
       "      <td>1.0</td>\n",
       "      <td>0.0</td>\n",
       "      <td>0.0</td>\n",
       "      <td>0.0</td>\n",
       "    </tr>\n",
       "    <tr>\n",
       "      <th>4</th>\n",
       "      <td>0.75</td>\n",
       "      <td>1.0</td>\n",
       "      <td>0.000000</td>\n",
       "      <td>0.007280</td>\n",
       "      <td>0.002317</td>\n",
       "      <td>0.158069</td>\n",
       "      <td>0.333333</td>\n",
       "      <td>0.0</td>\n",
       "      <td>0.000000</td>\n",
       "      <td>0.564706</td>\n",
       "      <td>...</td>\n",
       "      <td>0.0</td>\n",
       "      <td>0.0</td>\n",
       "      <td>0.0</td>\n",
       "      <td>0.0</td>\n",
       "      <td>1.0</td>\n",
       "      <td>0.0</td>\n",
       "      <td>0.0</td>\n",
       "      <td>0.0</td>\n",
       "      <td>0.0</td>\n",
       "      <td>0.0</td>\n",
       "    </tr>\n",
       "  </tbody>\n",
       "</table>\n",
       "<p>5 rows × 36 columns</p>\n",
       "</div>"
      ],
      "text/plain": [
       "   rating  reviewer_restaurant_loc_match  reviewer_friendCount  \\\n",
       "0    0.50                            0.0              0.002975   \n",
       "1    0.00                            1.0              0.000000   \n",
       "2    1.00                            1.0              0.001275   \n",
       "3    0.75                            1.0              0.002125   \n",
       "4    0.75                            1.0              0.000000   \n",
       "\n",
       "   reviewer_reviewCount  reviewer_firstCount  restaurant_reviewCount  \\\n",
       "0              0.020307             0.003476                0.268339   \n",
       "1              0.005364             0.001159                0.443919   \n",
       "2              0.039847             0.002317                0.191197   \n",
       "3              0.001149             0.000000                0.426881   \n",
       "4              0.007280             0.002317                0.158069   \n",
       "\n",
       "   restaurant_rating  maxReview_a_day  rating_std  sinceJoin_months  ...  \\\n",
       "0           0.000000              0.0    0.000000          0.317647  ...   \n",
       "1           0.333333              0.0    0.000000          0.352941  ...   \n",
       "2           0.333333              0.0    0.350382          0.047059  ...   \n",
       "3           0.333333              0.0    0.000000          0.000000  ...   \n",
       "4           0.333333              0.0    0.000000          0.564706  ...   \n",
       "\n",
       "   PriceRange_$31-60  PriceRange_Over $61  PriceRange_Under $10  \\\n",
       "0                0.0                  0.0                   0.0   \n",
       "1                0.0                  0.0                   0.0   \n",
       "2                0.0                  0.0                   0.0   \n",
       "3                1.0                  0.0                   0.0   \n",
       "4                0.0                  0.0                   0.0   \n",
       "\n",
       "   weekday_Friday  weekday_Monday  weekday_Saturday  weekday_Sunday  \\\n",
       "0             0.0             0.0               0.0             0.0   \n",
       "1             0.0             1.0               0.0             0.0   \n",
       "2             1.0             0.0               0.0             0.0   \n",
       "3             0.0             0.0               0.0             1.0   \n",
       "4             0.0             1.0               0.0             0.0   \n",
       "\n",
       "   weekday_Thursday  weekday_Tuesday  weekday_Wednesday  \n",
       "0               0.0              1.0                0.0  \n",
       "1               0.0              0.0                0.0  \n",
       "2               0.0              0.0                0.0  \n",
       "3               0.0              0.0                0.0  \n",
       "4               0.0              0.0                0.0  \n",
       "\n",
       "[5 rows x 36 columns]"
      ]
     },
     "execution_count": 19,
     "metadata": {},
     "output_type": "execute_result"
    }
   ],
   "source": [
    "X_train_num_cat_scaled.head()"
   ]
  },
  {
   "cell_type": "code",
   "execution_count": 20,
   "id": "2f49de9f",
   "metadata": {
    "scrolled": true
   },
   "outputs": [
    {
     "data": {
      "text/html": [
       "<div>\n",
       "<style scoped>\n",
       "    .dataframe tbody tr th:only-of-type {\n",
       "        vertical-align: middle;\n",
       "    }\n",
       "\n",
       "    .dataframe tbody tr th {\n",
       "        vertical-align: top;\n",
       "    }\n",
       "\n",
       "    .dataframe thead th {\n",
       "        text-align: right;\n",
       "    }\n",
       "</style>\n",
       "<table border=\"1\" class=\"dataframe\">\n",
       "  <thead>\n",
       "    <tr style=\"text-align: right;\">\n",
       "      <th></th>\n",
       "      <th>rating</th>\n",
       "      <th>reviewer_restaurant_loc_match</th>\n",
       "      <th>reviewer_friendCount</th>\n",
       "      <th>reviewer_reviewCount</th>\n",
       "      <th>reviewer_firstCount</th>\n",
       "      <th>restaurant_reviewCount</th>\n",
       "      <th>restaurant_rating</th>\n",
       "      <th>maxReview_a_day</th>\n",
       "      <th>rating_std</th>\n",
       "      <th>sinceJoin_months</th>\n",
       "      <th>...</th>\n",
       "      <th>PriceRange_$31-60</th>\n",
       "      <th>PriceRange_Over $61</th>\n",
       "      <th>PriceRange_Under $10</th>\n",
       "      <th>weekday_Friday</th>\n",
       "      <th>weekday_Monday</th>\n",
       "      <th>weekday_Saturday</th>\n",
       "      <th>weekday_Sunday</th>\n",
       "      <th>weekday_Thursday</th>\n",
       "      <th>weekday_Tuesday</th>\n",
       "      <th>weekday_Wednesday</th>\n",
       "    </tr>\n",
       "  </thead>\n",
       "  <tbody>\n",
       "    <tr>\n",
       "      <th>0</th>\n",
       "      <td>0.75</td>\n",
       "      <td>1.0</td>\n",
       "      <td>0.010625</td>\n",
       "      <td>0.172031</td>\n",
       "      <td>0.022016</td>\n",
       "      <td>0.327970</td>\n",
       "      <td>0.333333</td>\n",
       "      <td>0.090909</td>\n",
       "      <td>0.253546</td>\n",
       "      <td>0.411765</td>\n",
       "      <td>...</td>\n",
       "      <td>1.0</td>\n",
       "      <td>0.0</td>\n",
       "      <td>0.0</td>\n",
       "      <td>0.0</td>\n",
       "      <td>1.0</td>\n",
       "      <td>0.0</td>\n",
       "      <td>0.0</td>\n",
       "      <td>0.0</td>\n",
       "      <td>0.0</td>\n",
       "      <td>0.0</td>\n",
       "    </tr>\n",
       "    <tr>\n",
       "      <th>1</th>\n",
       "      <td>1.00</td>\n",
       "      <td>0.0</td>\n",
       "      <td>0.024012</td>\n",
       "      <td>0.052490</td>\n",
       "      <td>0.030127</td>\n",
       "      <td>0.191197</td>\n",
       "      <td>0.333333</td>\n",
       "      <td>0.000000</td>\n",
       "      <td>0.000000</td>\n",
       "      <td>0.152941</td>\n",
       "      <td>...</td>\n",
       "      <td>0.0</td>\n",
       "      <td>0.0</td>\n",
       "      <td>0.0</td>\n",
       "      <td>0.0</td>\n",
       "      <td>0.0</td>\n",
       "      <td>0.0</td>\n",
       "      <td>0.0</td>\n",
       "      <td>0.0</td>\n",
       "      <td>1.0</td>\n",
       "      <td>0.0</td>\n",
       "    </tr>\n",
       "    <tr>\n",
       "      <th>2</th>\n",
       "      <td>1.00</td>\n",
       "      <td>0.0</td>\n",
       "      <td>0.003612</td>\n",
       "      <td>0.062835</td>\n",
       "      <td>0.013905</td>\n",
       "      <td>0.323237</td>\n",
       "      <td>0.333333</td>\n",
       "      <td>0.000000</td>\n",
       "      <td>0.000000</td>\n",
       "      <td>0.000000</td>\n",
       "      <td>...</td>\n",
       "      <td>0.0</td>\n",
       "      <td>0.0</td>\n",
       "      <td>1.0</td>\n",
       "      <td>0.0</td>\n",
       "      <td>0.0</td>\n",
       "      <td>0.0</td>\n",
       "      <td>0.0</td>\n",
       "      <td>0.0</td>\n",
       "      <td>0.0</td>\n",
       "      <td>1.0</td>\n",
       "    </tr>\n",
       "    <tr>\n",
       "      <th>3</th>\n",
       "      <td>1.00</td>\n",
       "      <td>1.0</td>\n",
       "      <td>0.000000</td>\n",
       "      <td>0.001916</td>\n",
       "      <td>0.000000</td>\n",
       "      <td>0.287269</td>\n",
       "      <td>0.333333</td>\n",
       "      <td>0.000000</td>\n",
       "      <td>0.000000</td>\n",
       "      <td>0.000000</td>\n",
       "      <td>...</td>\n",
       "      <td>1.0</td>\n",
       "      <td>0.0</td>\n",
       "      <td>0.0</td>\n",
       "      <td>0.0</td>\n",
       "      <td>0.0</td>\n",
       "      <td>0.0</td>\n",
       "      <td>0.0</td>\n",
       "      <td>0.0</td>\n",
       "      <td>0.0</td>\n",
       "      <td>1.0</td>\n",
       "    </tr>\n",
       "    <tr>\n",
       "      <th>4</th>\n",
       "      <td>0.50</td>\n",
       "      <td>0.0</td>\n",
       "      <td>0.000425</td>\n",
       "      <td>0.005364</td>\n",
       "      <td>0.000000</td>\n",
       "      <td>0.323237</td>\n",
       "      <td>0.333333</td>\n",
       "      <td>0.000000</td>\n",
       "      <td>0.000000</td>\n",
       "      <td>0.011765</td>\n",
       "      <td>...</td>\n",
       "      <td>0.0</td>\n",
       "      <td>0.0</td>\n",
       "      <td>1.0</td>\n",
       "      <td>0.0</td>\n",
       "      <td>1.0</td>\n",
       "      <td>0.0</td>\n",
       "      <td>0.0</td>\n",
       "      <td>0.0</td>\n",
       "      <td>0.0</td>\n",
       "      <td>0.0</td>\n",
       "    </tr>\n",
       "  </tbody>\n",
       "</table>\n",
       "<p>5 rows × 36 columns</p>\n",
       "</div>"
      ],
      "text/plain": [
       "   rating  reviewer_restaurant_loc_match  reviewer_friendCount  \\\n",
       "0    0.75                            1.0              0.010625   \n",
       "1    1.00                            0.0              0.024012   \n",
       "2    1.00                            0.0              0.003612   \n",
       "3    1.00                            1.0              0.000000   \n",
       "4    0.50                            0.0              0.000425   \n",
       "\n",
       "   reviewer_reviewCount  reviewer_firstCount  restaurant_reviewCount  \\\n",
       "0              0.172031             0.022016                0.327970   \n",
       "1              0.052490             0.030127                0.191197   \n",
       "2              0.062835             0.013905                0.323237   \n",
       "3              0.001916             0.000000                0.287269   \n",
       "4              0.005364             0.000000                0.323237   \n",
       "\n",
       "   restaurant_rating  maxReview_a_day  rating_std  sinceJoin_months  ...  \\\n",
       "0           0.333333         0.090909    0.253546          0.411765  ...   \n",
       "1           0.333333         0.000000    0.000000          0.152941  ...   \n",
       "2           0.333333         0.000000    0.000000          0.000000  ...   \n",
       "3           0.333333         0.000000    0.000000          0.000000  ...   \n",
       "4           0.333333         0.000000    0.000000          0.011765  ...   \n",
       "\n",
       "   PriceRange_$31-60  PriceRange_Over $61  PriceRange_Under $10  \\\n",
       "0                1.0                  0.0                   0.0   \n",
       "1                0.0                  0.0                   0.0   \n",
       "2                0.0                  0.0                   1.0   \n",
       "3                1.0                  0.0                   0.0   \n",
       "4                0.0                  0.0                   1.0   \n",
       "\n",
       "   weekday_Friday  weekday_Monday  weekday_Saturday  weekday_Sunday  \\\n",
       "0             0.0             1.0               0.0             0.0   \n",
       "1             0.0             0.0               0.0             0.0   \n",
       "2             0.0             0.0               0.0             0.0   \n",
       "3             0.0             0.0               0.0             0.0   \n",
       "4             0.0             1.0               0.0             0.0   \n",
       "\n",
       "   weekday_Thursday  weekday_Tuesday  weekday_Wednesday  \n",
       "0               0.0              0.0                0.0  \n",
       "1               0.0              1.0                0.0  \n",
       "2               0.0              0.0                1.0  \n",
       "3               0.0              0.0                1.0  \n",
       "4               0.0              0.0                0.0  \n",
       "\n",
       "[5 rows x 36 columns]"
      ]
     },
     "execution_count": 20,
     "metadata": {},
     "output_type": "execute_result"
    }
   ],
   "source": [
    "X_test_num_cat_scaled.head()"
   ]
  },
  {
   "cell_type": "markdown",
   "id": "16944b19",
   "metadata": {},
   "source": [
    "\n"
   ]
  },
  {
   "cell_type": "markdown",
   "id": "c57decc9",
   "metadata": {},
   "source": [
    "\n"
   ]
  },
  {
   "cell_type": "markdown",
   "id": "763b1aae",
   "metadata": {},
   "source": [
    "<a id='MB'></a>\n",
    "\n",
    "# Model Building"
   ]
  },
  {
   "cell_type": "code",
   "execution_count": 21,
   "id": "55fdb5cf",
   "metadata": {},
   "outputs": [
    {
     "name": "stdout",
     "output_type": "stream",
     "text": [
      "Total number of genuine reviews:  20750 \n",
      "Total number of fake reviews:  6206 \n",
      "Baseline model (initial guess) - Accuracy:  76.98 %\n"
     ]
    }
   ],
   "source": [
    "print(\"Total number of genuine reviews: \", np.count_nonzero(Y == 0), \"\\nTotal number of fake reviews: \", np.count_nonzero(Y == 1), \"\\nBaseline model (initial guess) - Accuracy: \", round(np.count_nonzero(Y == 0) / Y.shape[0], 4) * 100, '%')"
   ]
  },
  {
   "cell_type": "markdown",
   "id": "45b6ff0c",
   "metadata": {},
   "source": [
    "<a id='TA'></a>\n",
    "\n",
    "## Text Analysis (Natural Language Processing & Deep Learning)"
   ]
  },
  {
   "cell_type": "markdown",
   "id": "0d3d84f2",
   "metadata": {},
   "source": [
    "My original idea was to build a classifier using only text data (reviewContent) with Natural Language Processing and Deep Learning techniques, and add the binary outcomes (Fake / Genuine) to the original dataset as a new column, so that I can take into account the raw text data, in addition to the characteristics of text data (word count, polarity score, uppercase letter count, etc). \n",
    "\n",
    "Unfortunately, the text classifier is overfitting even after numerous attempts to resolve the problem by dropping out nodes, adjusting embedding size, etc. So the outcome from this classifier will not be used since the results would negatively affect the performance if the new feature is added to the original dataset. \n",
    "\n",
    "But I am leaving the code/results in this notebook so I can come back to this later and retry improving it, or get feedbacks from other experts. "
   ]
  },
  {
   "cell_type": "code",
   "execution_count": 22,
   "id": "506b9844",
   "metadata": {},
   "outputs": [],
   "source": [
    "from tensorflow.keras.preprocessing.text import Tokenizer\n",
    "from tensorflow.keras.preprocessing.sequence import pad_sequences\n",
    "from tensorflow.keras.layers import Dense, Flatten, Embedding, LSTM\n",
    "\n",
    "# Tokenization - train\n",
    "docs_train = X_train_text.astype(str).values.tolist()\n",
    "token = Tokenizer(num_words = 500)\n",
    "token.fit_on_texts(docs_train)\n",
    "X_train_seq = token.texts_to_sequences(docs_train)\n",
    "\n",
    "# Padding (make each list of the same length) - train\n",
    "padded_X_train = pad_sequences(X_train_seq, 100)"
   ]
  },
  {
   "cell_type": "code",
   "execution_count": 23,
   "id": "26ce974e",
   "metadata": {},
   "outputs": [],
   "source": [
    "# Tokenization & Padding - test\n",
    "docs_test = X_test_text.astype(str).values.tolist()\n",
    "x_test_seq = token.texts_to_sequences(docs_test)\n",
    "padded_X_test = pad_sequences(x_test_seq, 100) "
   ]
  },
  {
   "cell_type": "code",
   "execution_count": 24,
   "id": "978e1905",
   "metadata": {},
   "outputs": [
    {
     "name": "stdout",
     "output_type": "stream",
     "text": [
      "Epoch 1/10\n",
      "203/203 [==============================] - 20s 93ms/step - loss: 0.5130 - accuracy: 0.7666 - val_loss: 0.5127 - val_accuracy: 0.7682\n",
      "Epoch 2/10\n",
      "203/203 [==============================] - 19s 95ms/step - loss: 0.4928 - accuracy: 0.7713 - val_loss: 0.5025 - val_accuracy: 0.7664\n",
      "Epoch 3/10\n",
      "203/203 [==============================] - 19s 94ms/step - loss: 0.4797 - accuracy: 0.7695 - val_loss: 0.5007 - val_accuracy: 0.7712\n",
      "Epoch 4/10\n",
      "203/203 [==============================] - 19s 94ms/step - loss: 0.4716 - accuracy: 0.7751 - val_loss: 0.5098 - val_accuracy: 0.7506\n",
      "Epoch 5/10\n",
      "203/203 [==============================] - 19s 94ms/step - loss: 0.4602 - accuracy: 0.7808 - val_loss: 0.4997 - val_accuracy: 0.7709\n",
      "Epoch 6/10\n",
      "203/203 [==============================] - 19s 95ms/step - loss: 0.4472 - accuracy: 0.7888 - val_loss: 0.5300 - val_accuracy: 0.7293\n",
      "Epoch 7/10\n",
      "203/203 [==============================] - 19s 96ms/step - loss: 0.4198 - accuracy: 0.8042 - val_loss: 0.5523 - val_accuracy: 0.7093\n",
      "Epoch 8/10\n",
      "203/203 [==============================] - 22s 109ms/step - loss: 0.3882 - accuracy: 0.8242 - val_loss: 0.5858 - val_accuracy: 0.6891\n",
      "Epoch 9/10\n",
      "203/203 [==============================] - 20s 100ms/step - loss: 0.3506 - accuracy: 0.8400 - val_loss: 0.6123 - val_accuracy: 0.7040\n",
      "Epoch 10/10\n",
      "203/203 [==============================] - 20s 100ms/step - loss: 0.3077 - accuracy: 0.8628 - val_loss: 0.7236 - val_accuracy: 0.6597\n",
      "211/211 [==============================] - 4s 21ms/step - loss: 0.7236 - accuracy: 0.6597\n",
      "\n",
      " Accuracy: 0.6597\n"
     ]
    },
    {
     "data": {
      "image/png": "[encoded data removed]",
      "text/plain": [
       "<Figure size 432x288 with 1 Axes>"
      ]
     },
     "metadata": {
      "needs_background": "light"
     },
     "output_type": "display_data"
    }
   ],
   "source": [
    "# Using CNN and LSTM\n",
    "import matplotlib.pyplot as plt\n",
    "import numpy\n",
    "from tensorflow.keras.preprocessing import sequence\n",
    "from tensorflow.keras.layers import Dense, Dropout, Activation\n",
    "from tensorflow.keras.layers import LSTM\n",
    "from tensorflow.keras.layers import Conv1D, MaxPooling1D\n",
    "from tensorflow.keras.models import Sequential\n",
    "\n",
    "\n",
    "model = Sequential()\n",
    "model.add(Embedding(500, 100))\n",
    "model.add(Dropout(0.2))\n",
    "model.add(Conv1D(64, 5, padding='valid', activation='relu', strides=1))\n",
    "model.add(MaxPooling1D(pool_size=4))\n",
    "model.add(LSTM(300))\n",
    "model.add(Dense(1))\n",
    "model.add(Activation('sigmoid'))\n",
    "\n",
    "model.compile(optimizer='adam', loss='binary_crossentropy', metrics=['accuracy'])\n",
    "\n",
    "record = model.fit(padded_X_train, Y_train, batch_size=100, epochs=10, validation_data=(padded_X_test, Y_test))\n",
    "print(\"\\n Accuracy: %.4f\" % (model.evaluate(padded_X_test, Y_test)[1]))\n",
    "\n",
    "\n",
    "Y_val_loss = record.history['val_loss']\n",
    "Y_loss = record.history['loss']\n",
    "X_len = numpy.arange(len(Y_loss))\n",
    "plt.plot(X_len, Y_val_loss, marker='.', c=\"red\", label=\"Loss from Test\")\n",
    "plt.plot(X_len, Y_loss, marker='.', c=\"blue\", label=\"Loss from Train\")\n",
    "\n",
    "plt.legend(loc=\"upper left\")\n",
    "plt.grid()\n",
    "plt.xlabel('epoch')\n",
    "plt.ylabel('loss')\n",
    "plt.show()"
   ]
  },
  {
   "cell_type": "markdown",
   "id": "c593c9cc",
   "metadata": {},
   "source": [
    "\n"
   ]
  },
  {
   "cell_type": "markdown",
   "id": "5fe5591e",
   "metadata": {},
   "source": [
    "<a id='CA'></a>\n",
    "\n",
    "## Classification Algorithms"
   ]
  },
  {
   "cell_type": "markdown",
   "id": "b854b162",
   "metadata": {},
   "source": [
    "For classification problems, there are several metrics in addition to accuracy, which can be used to evaluate classifiers, such as recall and precision.\n",
    "\n",
    "\n",
    "- Recall = $\\frac{TP}{TP + FN}$\n",
    "\n",
    "- Precision = $\\frac{TP}{TP + FP}$\n",
    "\n",
    "\n",
    "where TP: true positive, FP: false positive, and FN: false negative which can be obtained from confusion matrix. \n",
    "\n",
    "The relative importance of recall and precision dependes on situations. In the context of this problem where the goal is to filter out fake reviews and hide them from other users, it would be better to show only genuine reviews even if some of genuine reviews could be filtered out due to classifiers' errors, than failing to filter out fake reviews and letting other users to see them because a single review could bring a negative effect to businesses and customers. In this case, high precision is desired instead of high recall. \n",
    "\n",
    "The following is the summary of the classification results based on 10-fold cross validations:\n",
    "\n",
    "- [XGBoost](#XGB) (Accuracy: 90.5% / Precision: 80.1% / Recall: 77.8%)\n",
    "- [Random Forest](#RF) (Accuracy: 88.3% / Precision: 78.1% / Recall: 67.8%)\n",
    "- [Neural Networks](#NN) (Accuracy: 87.3% / Precision: 72.9% / Recall: 70.1%)\n",
    "- [Logistic Regression](#LR) (Accuracy: 84.9% / Precision: 70.7% / Recall: 58.7%)\n",
    "- [Support Vector Machine](#SVM) (Accuracy: 82.8% / Precision: 71.2% / Recall: 42.7%)\n",
    "- [SGD Classifier](#SGD) (Accuracy: 82.5% / Precision: 67.2% / Recall: 46.8%)\n",
    "- [KNN](#KNN) (Accuracy: 78.0% / Precision: 54.5% / Recall: 27.5%)\n",
    "\n",
    "The three models that give the best results are selected for hyperparameter tunings to improve the performance. "
   ]
  },
  {
   "cell_type": "markdown",
   "id": "54c24c16",
   "metadata": {},
   "source": [
    "\n"
   ]
  },
  {
   "cell_type": "code",
   "execution_count": 25,
   "id": "2272fe9a",
   "metadata": {},
   "outputs": [],
   "source": [
    "from sklearn.model_selection import cross_val_score, cross_val_predict\n",
    "from sklearn.metrics import accuracy_score, confusion_matrix, precision_score, recall_score, precision_recall_curve\n",
    "from sklearn.model_selection import GridSearchCV\n",
    "from sklearn.model_selection import RandomizedSearchCV\n",
    "\n",
    "\n",
    "from sklearn.linear_model import SGDClassifier\n",
    "from sklearn.linear_model import LogisticRegression\n",
    "from sklearn.svm import SVC\n",
    "from tensorflow.keras.models import Sequential\n",
    "from tensorflow.keras.layers import Dense\n",
    "import tensorflow as tf\n",
    "from tensorflow.keras.wrappers.scikit_learn import KerasClassifier\n",
    "from sklearn.ensemble import RandomForestClassifier\n",
    "import xgboost as xgb\n",
    "from sklearn.neighbors import KNeighborsClassifier\n",
    "from catboost import CatBoostClassifier\n",
    "import lightgbm as lgb\n",
    "from sklearn.ensemble import VotingClassifier"
   ]
  },
  {
   "cell_type": "code",
   "execution_count": 26,
   "id": "d8dfaedf",
   "metadata": {},
   "outputs": [],
   "source": [
    "def prec_rec_threshold(precisions, recalls, thresholds):\n",
    "    \"\"\"\n",
    "    Plot precisions and recalls based on thresholds\n",
    "    \"\"\"\n",
    "    \n",
    "    plt.plot(thresholds, precisions[:-1], 'g--', label=\"Precision\")\n",
    "    plt.plot(thresholds, recalls[:-1], 'y-', label=\"Recall\")\n",
    "    plt.xlabel(\"Threshold\")\n",
    "    plt.legend(loc=\"center left\")\n",
    "    plt.ylim([0, 1])"
   ]
  },
  {
   "cell_type": "markdown",
   "id": "ec3df85c",
   "metadata": {},
   "source": [
    "\n"
   ]
  },
  {
   "cell_type": "markdown",
   "id": "5b7f9a70",
   "metadata": {},
   "source": [
    "<a id='XGB'></a>\n",
    "\n",
    "### XGBoost (Accuracy: 90.5% / Precision: 80.1% / Recall: 77.8%)"
   ]
  },
  {
   "cell_type": "code",
   "execution_count": 60,
   "id": "900022f4",
   "metadata": {},
   "outputs": [],
   "source": [
    "# 10-fold Cross Validation\n",
    "\n",
    "xgb_cl = xgb.XGBClassifier(objective= 'binary:logistic', eval_metric='error', use_label_encoder=False)\n",
    "xgb_cl.fit(X_train_num_cat_scaled, Y_train)\n",
    "Y_train_pred = cross_val_predict(xgb_cl, X_train_num_cat_scaled, Y_train, cv=10)"
   ]
  },
  {
   "cell_type": "code",
   "execution_count": 61,
   "id": "9b0f765c",
   "metadata": {},
   "outputs": [
    {
     "name": "stdout",
     "output_type": "stream",
     "text": [
      "Accuracy:  0.9045353413294924\n",
      "Precision:  0.8005754758742807\n",
      "Recall:  0.7785191562634525\n"
     ]
    }
   ],
   "source": [
    "print(\"Accuracy: \", np.mean(cross_val_score(xgb_cl, X_train_num_cat_scaled, Y_train, cv=10, scoring='accuracy')))\n",
    "print(\"Precision: \", precision_score(Y_train, Y_train_pred))\n",
    "print(\"Recall: \", recall_score(Y_train, Y_train_pred))"
   ]
  },
  {
   "cell_type": "markdown",
   "id": "0afcba19",
   "metadata": {},
   "source": [
    "\n"
   ]
  },
  {
   "cell_type": "code",
   "execution_count": 70,
   "id": "d6be4f4e",
   "metadata": {},
   "outputs": [
    {
     "name": "stdout",
     "output_type": "stream",
     "text": [
      "Fitting 5 folds for each of 20 candidates, totalling 100 fits\n"
     ]
    },
    {
     "data": {
      "text/plain": [
       "({'max_depth': 5, 'min_child_weight': 3}, 0.9055745077704488)"
      ]
     },
     "execution_count": 70,
     "metadata": {},
     "output_type": "execute_result"
    }
   ],
   "source": [
    "# Hyperparameter Tuning (1st)\n",
    "# Tune 'max_depth' and 'min_child_weight' with wide steps\n",
    "\n",
    "xgb_cl = xgb.XGBClassifier(learning_rate = 0.1, objective= 'binary:logistic', n_estimators = 180, \n",
    "                           scale_pos_weight=1, eval_metric='error', use_label_encoder=False)\n",
    "param_1 = {\n",
    "    'max_depth': range(1, 10, 2),\n",
    "    'min_child_weight' : range(1, 8, 2)\n",
    "}\n",
    "\n",
    "grid_search_1 = GridSearchCV(estimator = xgb_cl, param_grid = param_1, scoring = 'accuracy', n_jobs = -1, cv = 5, verbose=True)\n",
    "grid_search_1.fit(X_train_num_cat_scaled, Y_train)\n",
    "grid_search_1.best_params_, grid_search_1.best_score_"
   ]
  },
  {
   "cell_type": "code",
   "execution_count": 71,
   "id": "910d609b",
   "metadata": {},
   "outputs": [
    {
     "name": "stdout",
     "output_type": "stream",
     "text": [
      "Fitting 5 folds for each of 9 candidates, totalling 45 fits\n"
     ]
    },
    {
     "data": {
      "text/plain": [
       "({'max_depth': 5, 'min_child_weight': 2}, 0.9060196727904992)"
      ]
     },
     "execution_count": 71,
     "metadata": {},
     "output_type": "execute_result"
    }
   ],
   "source": [
    "# Hyperparameter Tuning (2nd)\n",
    "# Tune 'max_depth' and 'min_child_weight' with small steps\n",
    "\n",
    "xgb_cl = xgb.XGBClassifier(learning_rate = 0.1, objective= 'binary:logistic', n_estimators = 180, \n",
    "                           scale_pos_weight=1, eval_metric='error', use_label_encoder=False)\n",
    "param_2 = {\n",
    "    'max_depth': [4,5,6],\n",
    "    'min_child_weight' : [2,3,4]\n",
    "}\n",
    "\n",
    "grid_search_2 = GridSearchCV(estimator = xgb_cl, param_grid = param_2, scoring = 'accuracy', n_jobs = -1, cv = 5, verbose=True)\n",
    "grid_search_2.fit(X_train_num_cat_scaled, Y_train)\n",
    "grid_search_2.best_params_, grid_search_2.best_score_"
   ]
  },
  {
   "cell_type": "code",
   "execution_count": 73,
   "id": "3d9e6c8c",
   "metadata": {},
   "outputs": [
    {
     "name": "stdout",
     "output_type": "stream",
     "text": [
      "Fitting 5 folds for each of 5 candidates, totalling 25 fits\n"
     ]
    },
    {
     "data": {
      "text/plain": [
       "({'gamma': 0.0}, 0.9060196727904992)"
      ]
     },
     "execution_count": 73,
     "metadata": {},
     "output_type": "execute_result"
    }
   ],
   "source": [
    "# Hyperparameter Tuning (3rd)\n",
    "# Tune 'gamma' \n",
    "\n",
    "xgb_cl = xgb.XGBClassifier(max_depth = 5, min_child_weight = 2, \n",
    "                           learning_rate = 0.1, objective= 'binary:logistic', n_estimators = 180, \n",
    "                           scale_pos_weight=1, eval_metric='error', use_label_encoder=False)\n",
    "param_3 = {\n",
    "    'gamma' : [0.0, 0.1, 0.2, 0.3, 0.4]\n",
    "}\n",
    "\n",
    "grid_search_3 = GridSearchCV(estimator = xgb_cl, param_grid = param_3, scoring = 'accuracy', n_jobs = -1, cv = 5, verbose=True)\n",
    "grid_search_3.fit(X_train_num_cat_scaled, Y_train)\n",
    "grid_search_3.best_params_, grid_search_3.best_score_"
   ]
  },
  {
   "cell_type": "code",
   "execution_count": 77,
   "id": "97393703",
   "metadata": {},
   "outputs": [
    {
     "name": "stdout",
     "output_type": "stream",
     "text": [
      "Fitting 5 folds for each of 36 candidates, totalling 180 fits\n"
     ]
    },
    {
     "data": {
      "text/plain": [
       "({'colsample_bytree': 0.5, 'subsample': 1.0}, 0.9064153084313953)"
      ]
     },
     "execution_count": 77,
     "metadata": {},
     "output_type": "execute_result"
    }
   ],
   "source": [
    "# Hyperparameter Tuning (4th)\n",
    "# Tune 'subsample' and 'colsample_bytree'\n",
    "\n",
    "xgb_cl = xgb.XGBClassifier(gamma = 0.0, max_depth = 5, min_child_weight = 2, \n",
    "                           learning_rate = 0.1, objective= 'binary:logistic', n_estimators = 180, \n",
    "                           scale_pos_weight=1, eval_metric='error', use_label_encoder=False)\n",
    "param_4 = {\n",
    "    'subsample' : [0.5, 0.6, 0.7, 0.8, 0.9, 1.0],\n",
    "    'colsample_bytree' : [0.5, 0.6, 0.7, 0.8, 0.9, 1.0]\n",
    "}\n",
    "\n",
    "grid_search_4 = GridSearchCV(estimator = xgb_cl, param_grid = param_4, scoring = 'accuracy', n_jobs = -1, cv = 5, verbose=True)\n",
    "grid_search_4.fit(X_train_num_cat_scaled, Y_train)\n",
    "grid_search_4.best_params_, grid_search_4.best_score_"
   ]
  },
  {
   "cell_type": "code",
   "execution_count": 80,
   "id": "54fab8b9",
   "metadata": {},
   "outputs": [
    {
     "name": "stdout",
     "output_type": "stream",
     "text": [
      "Fitting 5 folds for each of 25 candidates, totalling 125 fits\n"
     ]
    },
    {
     "data": {
      "text/plain": [
       "({'learning_rate': 0.15, 'n_estimators': 180}, 0.9082950395024018)"
      ]
     },
     "execution_count": 80,
     "metadata": {},
     "output_type": "execute_result"
    }
   ],
   "source": [
    "# Hyperparameter Tuning (5th)\n",
    "# Tune 'subsample' and 'colsample_bytree' \n",
    "\n",
    "xgb_cl = xgb.XGBClassifier(colsample_bytree = 0.5, subsample = 1.0, gamma = 0.0, max_depth = 5, min_child_weight = 2, \n",
    "                           objective= 'binary:logistic',  \n",
    "                           scale_pos_weight=1, eval_metric='error', use_label_encoder=False)\n",
    "param_5 = {\n",
    "    'n_estimators' : [160, 170, 180, 190, 200],\n",
    "    'learning_rate' : [0.01, 0.05, 0.1, 0.15, 0.3]\n",
    "}\n",
    "\n",
    "grid_search_5 = GridSearchCV(estimator = xgb_cl, param_grid = param_5, scoring = 'accuracy', n_jobs = -1, cv = 5, verbose=True)\n",
    "grid_search_5.fit(X_train_num_cat_scaled, Y_train)\n",
    "grid_search_5.best_params_, grid_search_5.best_score_"
   ]
  },
  {
   "cell_type": "code",
   "execution_count": 81,
   "id": "bfa3d039",
   "metadata": {},
   "outputs": [
    {
     "name": "stdout",
     "output_type": "stream",
     "text": [
      "Fitting 5 folds for each of 15 candidates, totalling 75 fits\n"
     ]
    },
    {
     "data": {
      "text/plain": [
       "({'learning_rate': 0.17, 'n_estimators': 170}, 0.9083940615632201)"
      ]
     },
     "execution_count": 81,
     "metadata": {},
     "output_type": "execute_result"
    }
   ],
   "source": [
    "# Hyperparameter Tuning (6th)\n",
    "# Tune 'subsample' and 'colsample_bytree' \n",
    "\n",
    "xgb_cl = xgb.XGBClassifier(colsample_bytree = 0.5, subsample = 1.0, gamma = 0.0, max_depth = 5, min_child_weight = 2, \n",
    "                           objective= 'binary:logistic',  \n",
    "                           scale_pos_weight=1, eval_metric='error', use_label_encoder=False)\n",
    "param_6 = {\n",
    "    'n_estimators' : [170, 175, 180],\n",
    "    'learning_rate' : [0.13, 0.14, 0.15, 0.16, 0.17]\n",
    "}\n",
    "\n",
    "grid_search_6 = GridSearchCV(estimator = xgb_cl, param_grid = param_6, scoring = 'accuracy', n_jobs = -1, cv = 5, verbose=True)\n",
    "grid_search_6.fit(X_train_num_cat_scaled, Y_train)\n",
    "grid_search_6.best_params_, grid_search_6.best_score_"
   ]
  },
  {
   "cell_type": "markdown",
   "id": "f867ad11",
   "metadata": {},
   "source": [
    "\n"
   ]
  },
  {
   "cell_type": "code",
   "execution_count": 82,
   "id": "e67aa0bb",
   "metadata": {},
   "outputs": [],
   "source": [
    "# 10-fold Cross Validation with tuned hyperparameters \n",
    "\n",
    "xgb_cl = xgb.XGBClassifier(learning_rate = 0.17, n_estimators = 170, colsample_bytree = 0.5, \n",
    "                           subsample = 1.0, gamma = 0.0, max_depth = 5, min_child_weight = 2, objective= 'binary:logistic',  \n",
    "                           scale_pos_weight=1, eval_metric='error', use_label_encoder=False)\n",
    "xgb_cl.fit(X_train_num_cat_scaled, Y_train)\n",
    "Y_train_pred = cross_val_predict(xgb_cl, X_train_num_cat_scaled, Y_train, cv=10)"
   ]
  },
  {
   "cell_type": "code",
   "execution_count": 83,
   "id": "52476ccf",
   "metadata": {},
   "outputs": [
    {
     "name": "stdout",
     "output_type": "stream",
     "text": [
      "Accuracy:  0.9082450295634708\n",
      "Precision:  0.8094921268573964\n",
      "Recall:  0.785622040464916\n"
     ]
    }
   ],
   "source": [
    "print(\"Accuracy: \", np.mean(cross_val_score(xgb_cl, X_train_num_cat_scaled, Y_train, cv=10, scoring='accuracy')))\n",
    "print(\"Precision: \", precision_score(Y_train, Y_train_pred))\n",
    "print(\"Recall: \", recall_score(Y_train, Y_train_pred))"
   ]
  },
  {
   "cell_type": "markdown",
   "id": "0555ad46",
   "metadata": {},
   "source": [
    "Although all metrics (accuracy, precision, and recall) have increased after hyperparameter tuning, it is not a huge improvement. \n",
    "\n",
    "Source: https://www.analyticsvidhya.com/blog/2016/03/complete-guide-parameter-tuning-xgboost-with-codes-python/"
   ]
  },
  {
   "cell_type": "markdown",
   "id": "d20e4a5e",
   "metadata": {},
   "source": [
    "\n"
   ]
  },
  {
   "cell_type": "markdown",
   "id": "c05307f7",
   "metadata": {},
   "source": [
    "<a id='RF'></a>\n",
    "\n",
    "### Random Forest (Accuracy: 88.3% / Precision: 78.1% / Recall: 67.8%)"
   ]
  },
  {
   "cell_type": "code",
   "execution_count": 87,
   "id": "9c4d1456",
   "metadata": {},
   "outputs": [],
   "source": [
    "# 10-fold Cross Validation\n",
    "\n",
    "rnd_cl = RandomForestClassifier(n_estimators=300, max_leaf_nodes=20, n_jobs=-1, oob_score=True, max_features = \"auto\")\n",
    "rnd_cl.fit(X_train_num_cat_scaled, Y_train)\n",
    "Y_train_pred = cross_val_predict(rnd_cl, X_train_num_cat_scaled, Y_train, cv=10)"
   ]
  },
  {
   "cell_type": "code",
   "execution_count": 88,
   "id": "bbdf6172",
   "metadata": {},
   "outputs": [
    {
     "name": "stdout",
     "output_type": "stream",
     "text": [
      "Accuracy:  0.8822774811071289\n",
      "Precision:  0.7842551071250623\n",
      "Recall:  0.6775721050365906\n"
     ]
    }
   ],
   "source": [
    "print(\"Accuracy: \", np.mean(cross_val_score(rnd_cl, X_train_num_cat_scaled, Y_train, cv=10, scoring='accuracy')))\n",
    "print(\"Precision: \", precision_score(Y_train, Y_train_pred))\n",
    "print(\"Recall: \", recall_score(Y_train, Y_train_pred))"
   ]
  },
  {
   "cell_type": "markdown",
   "id": "6f8724f9",
   "metadata": {},
   "source": [
    "\n"
   ]
  },
  {
   "cell_type": "code",
   "execution_count": 100,
   "id": "f722cc28",
   "metadata": {},
   "outputs": [
    {
     "name": "stdout",
     "output_type": "stream",
     "text": [
      "Fitting 5 folds for each of 100 candidates, totalling 500 fits\n"
     ]
    },
    {
     "data": {
      "text/plain": [
       "({'n_estimators': 700,\n",
       "  'min_samples_split': 2,\n",
       "  'min_samples_leaf': 1,\n",
       "  'max_depth': 50},\n",
       " 0.8960775643044003)"
      ]
     },
     "execution_count": 100,
     "metadata": {},
     "output_type": "execute_result"
    }
   ],
   "source": [
    "# Hyperparameter Tuning (1st)\n",
    "\n",
    "rnd_cl = RandomForestClassifier(n_jobs=-1, oob_score=True)\n",
    "random_param = {'n_estimators': range(200, 1000, 100),\n",
    "               'max_depth': range(10, 100, 10),\n",
    "               'min_samples_split': range(2,10,1),\n",
    "               'min_samples_leaf': range(1,5,1)}\n",
    "\n",
    "random_search1 = RandomizedSearchCV(estimator = rnd_cl, param_distributions = random_param, \n",
    "                               n_iter = 100, cv = 5, verbose=2, n_jobs = -1)\n",
    "random_search1.fit(X_train_num_cat_scaled, Y_train)\n",
    "random_search1.best_params_, random_search1.best_score_"
   ]
  },
  {
   "cell_type": "code",
   "execution_count": 101,
   "id": "3b9bc48d",
   "metadata": {},
   "outputs": [
    {
     "name": "stdout",
     "output_type": "stream",
     "text": [
      "Fitting 5 folds for each of 30 candidates, totalling 150 fits\n"
     ]
    },
    {
     "data": {
      "text/plain": [
       "({'max_depth': 45, 'n_estimators': 670}, 0.8961270936835545)"
      ]
     },
     "execution_count": 101,
     "metadata": {},
     "output_type": "execute_result"
    }
   ],
   "source": [
    "# Hyperparameter Tuning (2nd)\n",
    "# Tune 'max_depth' and 'n_estimators' with small steps\n",
    "\n",
    "rnd_cl = RandomForestClassifier(min_samples_split = 2, min_samples_leaf = 1, \n",
    "                                n_jobs=-1, oob_score=True, max_features = \"auto\")\n",
    "\n",
    "param_2 = {\n",
    "    'n_estimators' : range(650, 750, 10),\n",
    "    'max_depth' : [45, 50, 55]\n",
    "}\n",
    "\n",
    "grid_search_2 = GridSearchCV(estimator = rnd_cl, param_grid = param_2, scoring = 'accuracy', n_jobs = -1, cv = 5, verbose=True)\n",
    "grid_search_2.fit(X_train_num_cat_scaled, Y_train)\n",
    "grid_search_2.best_params_, grid_search_2.best_score_"
   ]
  },
  {
   "cell_type": "markdown",
   "id": "ef7cfe21",
   "metadata": {},
   "source": [
    "\n"
   ]
  },
  {
   "cell_type": "code",
   "execution_count": 102,
   "id": "e8755ef5",
   "metadata": {},
   "outputs": [],
   "source": [
    "# 10-fold Cross Validation with tuned hyperparameters \n",
    "\n",
    "rnd_cl = RandomForestClassifier(max_depth = 45, n_estimators = 670, min_samples_split = 2, min_samples_leaf = 1, \n",
    "                                n_jobs=-1, oob_score=True, max_features = \"auto\")\n",
    "rnd_cl.fit(X_train_num_cat_scaled, Y_train)\n",
    "Y_train_pred = cross_val_predict(rnd_cl, X_train_num_cat_scaled, Y_train, cv=10)"
   ]
  },
  {
   "cell_type": "code",
   "execution_count": 103,
   "id": "c79e9778",
   "metadata": {},
   "outputs": [
    {
     "name": "stdout",
     "output_type": "stream",
     "text": [
      "Accuracy:  0.8960280800359822\n",
      "Precision:  0.7939267501159017\n",
      "Recall:  0.7371932845458459\n"
     ]
    }
   ],
   "source": [
    "print(\"Accuracy: \", np.mean(cross_val_score(rnd_cl, X_train_num_cat_scaled, Y_train, cv=10, scoring='accuracy')))\n",
    "print(\"Precision: \", precision_score(Y_train, Y_train_pred))\n",
    "print(\"Recall: \", recall_score(Y_train, Y_train_pred))"
   ]
  },
  {
   "cell_type": "markdown",
   "id": "6283a864",
   "metadata": {},
   "source": [
    "\n"
   ]
  },
  {
   "cell_type": "markdown",
   "id": "5d2e9018",
   "metadata": {},
   "source": [
    "<a id='NN'></a>\n",
    "\n",
    "### Neural Networks (Accuracy: 87.3% / Precision: 72.9% / Recall: 70.1%)"
   ]
  },
  {
   "cell_type": "code",
   "execution_count": 31,
   "id": "c796057f",
   "metadata": {},
   "outputs": [],
   "source": [
    "n_features = X_test_num_cat.shape[1]\n",
    "\n",
    "def create_network():\n",
    "    model = Sequential()\n",
    "    model.add(Dense(20, activation='relu', kernel_initializer='he_normal', input_shape=(n_features,)))\n",
    "    model.add(Dense(10, activation='relu', kernel_initializer='he_normal'))\n",
    "    model.add(Dense(8, activation='relu', kernel_initializer='he_normal'))\n",
    "    model.add(Dense(1, activation='sigmoid'))\n",
    "    # compile the model\n",
    "    model.compile(optimizer='adam', loss='binary_crossentropy', metrics=['accuracy'])\n",
    "    \n",
    "    return model"
   ]
  },
  {
   "cell_type": "code",
   "execution_count": 32,
   "id": "8d5d9e90",
   "metadata": {},
   "outputs": [
    {
     "name": "stderr",
     "output_type": "stream",
     "text": [
      "C:\\Users\\sjung\\Anaconda3\\lib\\site-packages\\tensorflow\\python\\keras\\engine\\sequential.py:455: UserWarning: `model.predict_classes()` is deprecated and will be removed after 2021-01-01. Please use instead:* `np.argmax(model.predict(x), axis=-1)`,   if your model does multi-class classification   (e.g. if it uses a `softmax` last-layer activation).* `(model.predict(x) > 0.5).astype(\"int32\")`,   if your model does binary classification   (e.g. if it uses a `sigmoid` last-layer activation).\n",
      "  warnings.warn('`model.predict_classes()` is deprecated and '\n",
      "C:\\Users\\sjung\\Anaconda3\\lib\\site-packages\\tensorflow\\python\\keras\\engine\\sequential.py:455: UserWarning: `model.predict_classes()` is deprecated and will be removed after 2021-01-01. Please use instead:* `np.argmax(model.predict(x), axis=-1)`,   if your model does multi-class classification   (e.g. if it uses a `softmax` last-layer activation).* `(model.predict(x) > 0.5).astype(\"int32\")`,   if your model does binary classification   (e.g. if it uses a `sigmoid` last-layer activation).\n",
      "  warnings.warn('`model.predict_classes()` is deprecated and '\n",
      "C:\\Users\\sjung\\Anaconda3\\lib\\site-packages\\tensorflow\\python\\keras\\engine\\sequential.py:455: UserWarning: `model.predict_classes()` is deprecated and will be removed after 2021-01-01. Please use instead:* `np.argmax(model.predict(x), axis=-1)`,   if your model does multi-class classification   (e.g. if it uses a `softmax` last-layer activation).* `(model.predict(x) > 0.5).astype(\"int32\")`,   if your model does binary classification   (e.g. if it uses a `sigmoid` last-layer activation).\n",
      "  warnings.warn('`model.predict_classes()` is deprecated and '\n",
      "C:\\Users\\sjung\\Anaconda3\\lib\\site-packages\\tensorflow\\python\\keras\\engine\\sequential.py:455: UserWarning: `model.predict_classes()` is deprecated and will be removed after 2021-01-01. Please use instead:* `np.argmax(model.predict(x), axis=-1)`,   if your model does multi-class classification   (e.g. if it uses a `softmax` last-layer activation).* `(model.predict(x) > 0.5).astype(\"int32\")`,   if your model does binary classification   (e.g. if it uses a `sigmoid` last-layer activation).\n",
      "  warnings.warn('`model.predict_classes()` is deprecated and '\n",
      "C:\\Users\\sjung\\Anaconda3\\lib\\site-packages\\tensorflow\\python\\keras\\engine\\sequential.py:455: UserWarning: `model.predict_classes()` is deprecated and will be removed after 2021-01-01. Please use instead:* `np.argmax(model.predict(x), axis=-1)`,   if your model does multi-class classification   (e.g. if it uses a `softmax` last-layer activation).* `(model.predict(x) > 0.5).astype(\"int32\")`,   if your model does binary classification   (e.g. if it uses a `sigmoid` last-layer activation).\n",
      "  warnings.warn('`model.predict_classes()` is deprecated and '\n",
      "C:\\Users\\sjung\\Anaconda3\\lib\\site-packages\\tensorflow\\python\\keras\\engine\\sequential.py:455: UserWarning: `model.predict_classes()` is deprecated and will be removed after 2021-01-01. Please use instead:* `np.argmax(model.predict(x), axis=-1)`,   if your model does multi-class classification   (e.g. if it uses a `softmax` last-layer activation).* `(model.predict(x) > 0.5).astype(\"int32\")`,   if your model does binary classification   (e.g. if it uses a `sigmoid` last-layer activation).\n",
      "  warnings.warn('`model.predict_classes()` is deprecated and '\n",
      "C:\\Users\\sjung\\Anaconda3\\lib\\site-packages\\tensorflow\\python\\keras\\engine\\sequential.py:455: UserWarning: `model.predict_classes()` is deprecated and will be removed after 2021-01-01. Please use instead:* `np.argmax(model.predict(x), axis=-1)`,   if your model does multi-class classification   (e.g. if it uses a `softmax` last-layer activation).* `(model.predict(x) > 0.5).astype(\"int32\")`,   if your model does binary classification   (e.g. if it uses a `sigmoid` last-layer activation).\n",
      "  warnings.warn('`model.predict_classes()` is deprecated and '\n",
      "C:\\Users\\sjung\\Anaconda3\\lib\\site-packages\\tensorflow\\python\\keras\\engine\\sequential.py:455: UserWarning: `model.predict_classes()` is deprecated and will be removed after 2021-01-01. Please use instead:* `np.argmax(model.predict(x), axis=-1)`,   if your model does multi-class classification   (e.g. if it uses a `softmax` last-layer activation).* `(model.predict(x) > 0.5).astype(\"int32\")`,   if your model does binary classification   (e.g. if it uses a `sigmoid` last-layer activation).\n",
      "  warnings.warn('`model.predict_classes()` is deprecated and '\n",
      "C:\\Users\\sjung\\Anaconda3\\lib\\site-packages\\tensorflow\\python\\keras\\engine\\sequential.py:455: UserWarning: `model.predict_classes()` is deprecated and will be removed after 2021-01-01. Please use instead:* `np.argmax(model.predict(x), axis=-1)`,   if your model does multi-class classification   (e.g. if it uses a `softmax` last-layer activation).* `(model.predict(x) > 0.5).astype(\"int32\")`,   if your model does binary classification   (e.g. if it uses a `sigmoid` last-layer activation).\n",
      "  warnings.warn('`model.predict_classes()` is deprecated and '\n",
      "C:\\Users\\sjung\\Anaconda3\\lib\\site-packages\\tensorflow\\python\\keras\\engine\\sequential.py:455: UserWarning: `model.predict_classes()` is deprecated and will be removed after 2021-01-01. Please use instead:* `np.argmax(model.predict(x), axis=-1)`,   if your model does multi-class classification   (e.g. if it uses a `softmax` last-layer activation).* `(model.predict(x) > 0.5).astype(\"int32\")`,   if your model does binary classification   (e.g. if it uses a `sigmoid` last-layer activation).\n",
      "  warnings.warn('`model.predict_classes()` is deprecated and '\n"
     ]
    },
    {
     "data": {
      "text/plain": [
       "0.8748570523841896"
      ]
     },
     "execution_count": 32,
     "metadata": {},
     "output_type": "execute_result"
    }
   ],
   "source": [
    "neural_network = KerasClassifier(build_fn=create_network, \n",
    "                                 epochs=100, \n",
    "                                 batch_size=32, \n",
    "                                 verbose=0)\n",
    "\n",
    "np.mean(cross_val_score(neural_network, X_train_num_cat_scaled, Y_train, cv=10, scoring='accuracy'))"
   ]
  },
  {
   "cell_type": "code",
   "execution_count": 33,
   "id": "f7058c02",
   "metadata": {},
   "outputs": [
    {
     "name": "stderr",
     "output_type": "stream",
     "text": [
      "C:\\Users\\sjung\\Anaconda3\\lib\\site-packages\\tensorflow\\python\\keras\\engine\\sequential.py:455: UserWarning: `model.predict_classes()` is deprecated and will be removed after 2021-01-01. Please use instead:* `np.argmax(model.predict(x), axis=-1)`,   if your model does multi-class classification   (e.g. if it uses a `softmax` last-layer activation).* `(model.predict(x) > 0.5).astype(\"int32\")`,   if your model does binary classification   (e.g. if it uses a `sigmoid` last-layer activation).\n",
      "  warnings.warn('`model.predict_classes()` is deprecated and '\n",
      "C:\\Users\\sjung\\Anaconda3\\lib\\site-packages\\tensorflow\\python\\keras\\engine\\sequential.py:455: UserWarning: `model.predict_classes()` is deprecated and will be removed after 2021-01-01. Please use instead:* `np.argmax(model.predict(x), axis=-1)`,   if your model does multi-class classification   (e.g. if it uses a `softmax` last-layer activation).* `(model.predict(x) > 0.5).astype(\"int32\")`,   if your model does binary classification   (e.g. if it uses a `sigmoid` last-layer activation).\n",
      "  warnings.warn('`model.predict_classes()` is deprecated and '\n",
      "C:\\Users\\sjung\\Anaconda3\\lib\\site-packages\\tensorflow\\python\\keras\\engine\\sequential.py:455: UserWarning: `model.predict_classes()` is deprecated and will be removed after 2021-01-01. Please use instead:* `np.argmax(model.predict(x), axis=-1)`,   if your model does multi-class classification   (e.g. if it uses a `softmax` last-layer activation).* `(model.predict(x) > 0.5).astype(\"int32\")`,   if your model does binary classification   (e.g. if it uses a `sigmoid` last-layer activation).\n",
      "  warnings.warn('`model.predict_classes()` is deprecated and '\n",
      "C:\\Users\\sjung\\Anaconda3\\lib\\site-packages\\tensorflow\\python\\keras\\engine\\sequential.py:455: UserWarning: `model.predict_classes()` is deprecated and will be removed after 2021-01-01. Please use instead:* `np.argmax(model.predict(x), axis=-1)`,   if your model does multi-class classification   (e.g. if it uses a `softmax` last-layer activation).* `(model.predict(x) > 0.5).astype(\"int32\")`,   if your model does binary classification   (e.g. if it uses a `sigmoid` last-layer activation).\n",
      "  warnings.warn('`model.predict_classes()` is deprecated and '\n",
      "C:\\Users\\sjung\\Anaconda3\\lib\\site-packages\\tensorflow\\python\\keras\\engine\\sequential.py:455: UserWarning: `model.predict_classes()` is deprecated and will be removed after 2021-01-01. Please use instead:* `np.argmax(model.predict(x), axis=-1)`,   if your model does multi-class classification   (e.g. if it uses a `softmax` last-layer activation).* `(model.predict(x) > 0.5).astype(\"int32\")`,   if your model does binary classification   (e.g. if it uses a `sigmoid` last-layer activation).\n",
      "  warnings.warn('`model.predict_classes()` is deprecated and '\n",
      "C:\\Users\\sjung\\Anaconda3\\lib\\site-packages\\tensorflow\\python\\keras\\engine\\sequential.py:455: UserWarning: `model.predict_classes()` is deprecated and will be removed after 2021-01-01. Please use instead:* `np.argmax(model.predict(x), axis=-1)`,   if your model does multi-class classification   (e.g. if it uses a `softmax` last-layer activation).* `(model.predict(x) > 0.5).astype(\"int32\")`,   if your model does binary classification   (e.g. if it uses a `sigmoid` last-layer activation).\n",
      "  warnings.warn('`model.predict_classes()` is deprecated and '\n",
      "C:\\Users\\sjung\\Anaconda3\\lib\\site-packages\\tensorflow\\python\\keras\\engine\\sequential.py:455: UserWarning: `model.predict_classes()` is deprecated and will be removed after 2021-01-01. Please use instead:* `np.argmax(model.predict(x), axis=-1)`,   if your model does multi-class classification   (e.g. if it uses a `softmax` last-layer activation).* `(model.predict(x) > 0.5).astype(\"int32\")`,   if your model does binary classification   (e.g. if it uses a `sigmoid` last-layer activation).\n",
      "  warnings.warn('`model.predict_classes()` is deprecated and '\n",
      "C:\\Users\\sjung\\Anaconda3\\lib\\site-packages\\tensorflow\\python\\keras\\engine\\sequential.py:455: UserWarning: `model.predict_classes()` is deprecated and will be removed after 2021-01-01. Please use instead:* `np.argmax(model.predict(x), axis=-1)`,   if your model does multi-class classification   (e.g. if it uses a `softmax` last-layer activation).* `(model.predict(x) > 0.5).astype(\"int32\")`,   if your model does binary classification   (e.g. if it uses a `sigmoid` last-layer activation).\n",
      "  warnings.warn('`model.predict_classes()` is deprecated and '\n",
      "C:\\Users\\sjung\\Anaconda3\\lib\\site-packages\\tensorflow\\python\\keras\\engine\\sequential.py:455: UserWarning: `model.predict_classes()` is deprecated and will be removed after 2021-01-01. Please use instead:* `np.argmax(model.predict(x), axis=-1)`,   if your model does multi-class classification   (e.g. if it uses a `softmax` last-layer activation).* `(model.predict(x) > 0.5).astype(\"int32\")`,   if your model does binary classification   (e.g. if it uses a `sigmoid` last-layer activation).\n",
      "  warnings.warn('`model.predict_classes()` is deprecated and '\n"
     ]
    },
    {
     "name": "stdout",
     "output_type": "stream",
     "text": [
      "0.7420918956361118 0.6917778734395179\n"
     ]
    },
    {
     "name": "stderr",
     "output_type": "stream",
     "text": [
      "C:\\Users\\sjung\\Anaconda3\\lib\\site-packages\\tensorflow\\python\\keras\\engine\\sequential.py:455: UserWarning: `model.predict_classes()` is deprecated and will be removed after 2021-01-01. Please use instead:* `np.argmax(model.predict(x), axis=-1)`,   if your model does multi-class classification   (e.g. if it uses a `softmax` last-layer activation).* `(model.predict(x) > 0.5).astype(\"int32\")`,   if your model does binary classification   (e.g. if it uses a `sigmoid` last-layer activation).\n",
      "  warnings.warn('`model.predict_classes()` is deprecated and '\n"
     ]
    }
   ],
   "source": [
    "Y_train_pred = cross_val_predict(neural_network, X_train_num_cat_scaled, Y_train, cv=10)\n",
    "print(precision_score(Y_train, Y_train_pred), recall_score(Y_train, Y_train_pred))"
   ]
  },
  {
   "cell_type": "code",
   "execution_count": 34,
   "id": "ab753590",
   "metadata": {},
   "outputs": [
    {
     "name": "stdout",
     "output_type": "stream",
     "text": [
      "Epoch 1/200\n",
      "632/632 [==============================] - 1s 477us/step - loss: 0.5072 - accuracy: 0.7616\n",
      "Epoch 2/200\n",
      "632/632 [==============================] - 0s 488us/step - loss: 0.3815 - accuracy: 0.8247\n",
      "Epoch 3/200\n",
      "632/632 [==============================] - 0s 489us/step - loss: 0.3630 - accuracy: 0.8380\n",
      "Epoch 4/200\n",
      "632/632 [==============================] - 0s 564us/step - loss: 0.3528 - accuracy: 0.8435\n",
      "Epoch 5/200\n",
      "632/632 [==============================] - 0s 586us/step - loss: 0.3440 - accuracy: 0.8449\n",
      "Epoch 6/200\n",
      "632/632 [==============================] - 0s 591us/step - loss: 0.3344 - accuracy: 0.8467\n",
      "Epoch 7/200\n",
      "632/632 [==============================] - 0s 560us/step - loss: 0.3261 - accuracy: 0.8503\n",
      "Epoch 8/200\n",
      "632/632 [==============================] - 0s 602us/step - loss: 0.3173 - accuracy: 0.8556\n",
      "Epoch 9/200\n",
      "632/632 [==============================] - 0s 605us/step - loss: 0.3096 - accuracy: 0.8595\n",
      "Epoch 10/200\n",
      "632/632 [==============================] - 0s 564us/step - loss: 0.3060 - accuracy: 0.8612\n",
      "Epoch 11/200\n",
      "632/632 [==============================] - 0s 570us/step - loss: 0.3007 - accuracy: 0.8630\n",
      "Epoch 12/200\n",
      "632/632 [==============================] - 0s 637us/step - loss: 0.2962 - accuracy: 0.8664\n",
      "Epoch 13/200\n",
      "632/632 [==============================] - 0s 605us/step - loss: 0.2946 - accuracy: 0.8655\n",
      "Epoch 14/200\n",
      "632/632 [==============================] - 0s 562us/step - loss: 0.2929 - accuracy: 0.8675\n",
      "Epoch 15/200\n",
      "632/632 [==============================] - 0s 581us/step - loss: 0.2904 - accuracy: 0.8689\n",
      "Epoch 16/200\n",
      "632/632 [==============================] - 0s 609us/step - loss: 0.2888 - accuracy: 0.8711\n",
      "Epoch 17/200\n",
      "632/632 [==============================] - 0s 620us/step - loss: 0.2889 - accuracy: 0.8684\n",
      "Epoch 18/200\n",
      "632/632 [==============================] - 0s 589us/step - loss: 0.2871 - accuracy: 0.8685\n",
      "Epoch 19/200\n",
      "632/632 [==============================] - 0s 593us/step - loss: 0.2863 - accuracy: 0.8710\n",
      "Epoch 20/200\n",
      "632/632 [==============================] - 0s 563us/step - loss: 0.2840 - accuracy: 0.8721\n",
      "Epoch 21/200\n",
      "632/632 [==============================] - 0s 573us/step - loss: 0.2830 - accuracy: 0.8723\n",
      "Epoch 22/200\n",
      "632/632 [==============================] - 0s 621us/step - loss: 0.2842 - accuracy: 0.8723\n",
      "Epoch 23/200\n",
      "632/632 [==============================] - 0s 672us/step - loss: 0.2814 - accuracy: 0.8733\n",
      "Epoch 24/200\n",
      "632/632 [==============================] - 0s 610us/step - loss: 0.2812 - accuracy: 0.8727\n",
      "Epoch 25/200\n",
      "632/632 [==============================] - 0s 623us/step - loss: 0.2790 - accuracy: 0.8746\n",
      "Epoch 26/200\n",
      "632/632 [==============================] - 0s 590us/step - loss: 0.2792 - accuracy: 0.8758\n",
      "Epoch 27/200\n",
      "632/632 [==============================] - 0s 530us/step - loss: 0.2797 - accuracy: 0.8733\n",
      "Epoch 28/200\n",
      "632/632 [==============================] - 0s 584us/step - loss: 0.2773 - accuracy: 0.8754\n",
      "Epoch 29/200\n",
      "632/632 [==============================] - 0s 574us/step - loss: 0.2774 - accuracy: 0.8764\n",
      "Epoch 30/200\n",
      "632/632 [==============================] - 0s 594us/step - loss: 0.2759 - accuracy: 0.8755\n",
      "Epoch 31/200\n",
      "632/632 [==============================] - 0s 545us/step - loss: 0.2761 - accuracy: 0.8758\n",
      "Epoch 32/200\n",
      "632/632 [==============================] - 0s 562us/step - loss: 0.2747 - accuracy: 0.8776\n",
      "Epoch 33/200\n",
      "632/632 [==============================] - 0s 621us/step - loss: 0.2745 - accuracy: 0.8772\n",
      "Epoch 34/200\n",
      "632/632 [==============================] - 0s 600us/step - loss: 0.2730 - accuracy: 0.8774\n",
      "Epoch 35/200\n",
      "632/632 [==============================] - 0s 603us/step - loss: 0.2714 - accuracy: 0.8790\n",
      "Epoch 36/200\n",
      "632/632 [==============================] - 0s 557us/step - loss: 0.2720 - accuracy: 0.8780\n",
      "Epoch 37/200\n",
      "632/632 [==============================] - 0s 552us/step - loss: 0.2725 - accuracy: 0.8766\n",
      "Epoch 38/200\n",
      "632/632 [==============================] - 0s 624us/step - loss: 0.2710 - accuracy: 0.8783\n",
      "Epoch 39/200\n",
      "632/632 [==============================] - 0s 594us/step - loss: 0.2712 - accuracy: 0.8778\n",
      "Epoch 40/200\n",
      "632/632 [==============================] - 0s 569us/step - loss: 0.2709 - accuracy: 0.8754\n",
      "Epoch 41/200\n",
      "632/632 [==============================] - 0s 575us/step - loss: 0.2708 - accuracy: 0.8769\n",
      "Epoch 42/200\n",
      "632/632 [==============================] - 0s 576us/step - loss: 0.2692 - accuracy: 0.8784\n",
      "Epoch 43/200\n",
      "632/632 [==============================] - 0s 574us/step - loss: 0.2689 - accuracy: 0.8789\n",
      "Epoch 44/200\n",
      "632/632 [==============================] - 0s 618us/step - loss: 0.2667 - accuracy: 0.8803\n",
      "Epoch 45/200\n",
      "632/632 [==============================] - 0s 565us/step - loss: 0.2673 - accuracy: 0.8795\n",
      "Epoch 46/200\n",
      "632/632 [==============================] - 0s 550us/step - loss: 0.2668 - accuracy: 0.8811\n",
      "Epoch 47/200\n",
      "632/632 [==============================] - 0s 771us/step - loss: 0.2661 - accuracy: 0.8807\n",
      "Epoch 48/200\n",
      "632/632 [==============================] - 0s 712us/step - loss: 0.2670 - accuracy: 0.8793\n",
      "Epoch 49/200\n",
      "632/632 [==============================] - 0s 682us/step - loss: 0.2657 - accuracy: 0.8810\n",
      "Epoch 50/200\n",
      "632/632 [==============================] - 0s 595us/step - loss: 0.2648 - accuracy: 0.8816\n",
      "Epoch 51/200\n",
      "632/632 [==============================] - 1s 840us/step - loss: 0.2649 - accuracy: 0.8805\n",
      "Epoch 52/200\n",
      "632/632 [==============================] - 0s 762us/step - loss: 0.2662 - accuracy: 0.8811\n",
      "Epoch 53/200\n",
      "632/632 [==============================] - 0s 630us/step - loss: 0.2647 - accuracy: 0.8823\n",
      "Epoch 54/200\n",
      "632/632 [==============================] - 0s 775us/step - loss: 0.2642 - accuracy: 0.8830\n",
      "Epoch 55/200\n",
      "632/632 [==============================] - 0s 603us/step - loss: 0.2644 - accuracy: 0.8820\n",
      "Epoch 56/200\n",
      "632/632 [==============================] - 0s 582us/step - loss: 0.2645 - accuracy: 0.8805\n",
      "Epoch 57/200\n",
      "632/632 [==============================] - 0s 593us/step - loss: 0.2624 - accuracy: 0.8834\n",
      "Epoch 58/200\n",
      "632/632 [==============================] - 0s 738us/step - loss: 0.2624 - accuracy: 0.8828\n",
      "Epoch 59/200\n",
      "632/632 [==============================] - 0s 776us/step - loss: 0.2637 - accuracy: 0.8817\n",
      "Epoch 60/200\n",
      "632/632 [==============================] - 0s 718us/step - loss: 0.2629 - accuracy: 0.8828\n",
      "Epoch 61/200\n",
      "632/632 [==============================] - 1s 798us/step - loss: 0.2627 - accuracy: 0.8815\n",
      "Epoch 62/200\n",
      "632/632 [==============================] - 0s 640us/step - loss: 0.2622 - accuracy: 0.8820\n",
      "Epoch 63/200\n",
      "632/632 [==============================] - 0s 550us/step - loss: 0.2605 - accuracy: 0.8845\n",
      "Epoch 64/200\n",
      "632/632 [==============================] - 0s 543us/step - loss: 0.2604 - accuracy: 0.8838\n",
      "Epoch 65/200\n",
      "632/632 [==============================] - 0s 548us/step - loss: 0.2600 - accuracy: 0.8837\n",
      "Epoch 66/200\n",
      "632/632 [==============================] - 0s 522us/step - loss: 0.2619 - accuracy: 0.8821\n",
      "Epoch 67/200\n",
      "632/632 [==============================] - 0s 558us/step - loss: 0.2601 - accuracy: 0.8826\n",
      "Epoch 68/200\n",
      "632/632 [==============================] - 0s 563us/step - loss: 0.2603 - accuracy: 0.8840\n",
      "Epoch 69/200\n",
      "632/632 [==============================] - 0s 628us/step - loss: 0.2596 - accuracy: 0.8828\n",
      "Epoch 70/200\n",
      "632/632 [==============================] - 0s 536us/step - loss: 0.2583 - accuracy: 0.8854\n",
      "Epoch 71/200\n",
      "632/632 [==============================] - 0s 577us/step - loss: 0.2589 - accuracy: 0.8840\n",
      "Epoch 72/200\n",
      "632/632 [==============================] - 0s 557us/step - loss: 0.2594 - accuracy: 0.8841\n",
      "Epoch 73/200\n",
      "632/632 [==============================] - 0s 559us/step - loss: 0.2574 - accuracy: 0.8843\n",
      "Epoch 74/200\n",
      "632/632 [==============================] - 0s 526us/step - loss: 0.2591 - accuracy: 0.8833\n",
      "Epoch 75/200\n",
      "632/632 [==============================] - 0s 539us/step - loss: 0.2594 - accuracy: 0.8854\n",
      "Epoch 76/200\n",
      "632/632 [==============================] - 0s 545us/step - loss: 0.2576 - accuracy: 0.8853\n",
      "Epoch 77/200\n",
      "632/632 [==============================] - 0s 552us/step - loss: 0.2581 - accuracy: 0.8851\n",
      "Epoch 78/200\n",
      "632/632 [==============================] - 0s 534us/step - loss: 0.2555 - accuracy: 0.8866\n",
      "Epoch 79/200\n",
      "632/632 [==============================] - 0s 554us/step - loss: 0.2571 - accuracy: 0.8831\n",
      "Epoch 80/200\n",
      "632/632 [==============================] - 0s 567us/step - loss: 0.2560 - accuracy: 0.8845\n",
      "Epoch 81/200\n",
      "632/632 [==============================] - 0s 538us/step - loss: 0.2566 - accuracy: 0.8832\n",
      "Epoch 82/200\n",
      "632/632 [==============================] - 0s 561us/step - loss: 0.2554 - accuracy: 0.8857\n",
      "Epoch 83/200\n",
      "632/632 [==============================] - 0s 554us/step - loss: 0.2554 - accuracy: 0.8863\n",
      "Epoch 84/200\n",
      "632/632 [==============================] - 0s 530us/step - loss: 0.2557 - accuracy: 0.8865\n",
      "Epoch 85/200\n",
      "632/632 [==============================] - 0s 530us/step - loss: 0.2551 - accuracy: 0.8871\n",
      "Epoch 86/200\n",
      "632/632 [==============================] - 0s 551us/step - loss: 0.2537 - accuracy: 0.8845\n",
      "Epoch 87/200\n",
      "632/632 [==============================] - 0s 555us/step - loss: 0.2546 - accuracy: 0.8869\n",
      "Epoch 88/200\n",
      "632/632 [==============================] - 0s 534us/step - loss: 0.2547 - accuracy: 0.8859\n",
      "Epoch 89/200\n",
      "632/632 [==============================] - 0s 551us/step - loss: 0.2543 - accuracy: 0.8860\n",
      "Epoch 90/200\n",
      "632/632 [==============================] - 0s 521us/step - loss: 0.2528 - accuracy: 0.8847\n",
      "Epoch 91/200\n",
      "632/632 [==============================] - 0s 532us/step - loss: 0.2536 - accuracy: 0.8846\n",
      "Epoch 92/200\n",
      "632/632 [==============================] - 0s 541us/step - loss: 0.2548 - accuracy: 0.8845\n",
      "Epoch 93/200\n",
      "632/632 [==============================] - 0s 546us/step - loss: 0.2534 - accuracy: 0.8869\n",
      "Epoch 94/200\n",
      "632/632 [==============================] - 0s 537us/step - loss: 0.2539 - accuracy: 0.8864\n",
      "Epoch 95/200\n",
      "632/632 [==============================] - 0s 648us/step - loss: 0.2538 - accuracy: 0.8867\n",
      "Epoch 96/200\n",
      "632/632 [==============================] - 0s 555us/step - loss: 0.2522 - accuracy: 0.8856\n",
      "Epoch 97/200\n",
      "632/632 [==============================] - 0s 548us/step - loss: 0.2539 - accuracy: 0.8857\n",
      "Epoch 98/200\n",
      "632/632 [==============================] - 0s 536us/step - loss: 0.2530 - accuracy: 0.8877\n",
      "Epoch 99/200\n",
      "632/632 [==============================] - 0s 588us/step - loss: 0.2525 - accuracy: 0.8850\n",
      "Epoch 100/200\n",
      "632/632 [==============================] - 0s 560us/step - loss: 0.2518 - accuracy: 0.8876\n",
      "Epoch 101/200\n",
      "632/632 [==============================] - 0s 541us/step - loss: 0.2509 - accuracy: 0.8878\n",
      "Epoch 102/200\n",
      "632/632 [==============================] - 0s 556us/step - loss: 0.2504 - accuracy: 0.8860\n",
      "Epoch 103/200\n",
      "632/632 [==============================] - 0s 531us/step - loss: 0.2511 - accuracy: 0.8867\n",
      "Epoch 104/200\n",
      "632/632 [==============================] - 0s 587us/step - loss: 0.2521 - accuracy: 0.8875\n",
      "Epoch 105/200\n",
      "632/632 [==============================] - 0s 521us/step - loss: 0.2496 - accuracy: 0.8876\n",
      "Epoch 106/200\n",
      "632/632 [==============================] - 0s 539us/step - loss: 0.2505 - accuracy: 0.8875\n",
      "Epoch 107/200\n",
      "632/632 [==============================] - 0s 565us/step - loss: 0.2491 - accuracy: 0.8878\n",
      "Epoch 108/200\n",
      "632/632 [==============================] - 0s 615us/step - loss: 0.2502 - accuracy: 0.8864\n",
      "Epoch 109/200\n",
      "632/632 [==============================] - 0s 595us/step - loss: 0.2491 - accuracy: 0.8862\n",
      "Epoch 110/200\n",
      "632/632 [==============================] - 0s 585us/step - loss: 0.2498 - accuracy: 0.8889\n",
      "Epoch 111/200\n",
      "632/632 [==============================] - 0s 558us/step - loss: 0.2513 - accuracy: 0.8881\n",
      "Epoch 112/200\n",
      "632/632 [==============================] - 0s 520us/step - loss: 0.2494 - accuracy: 0.8880\n",
      "Epoch 113/200\n",
      "632/632 [==============================] - 0s 523us/step - loss: 0.2503 - accuracy: 0.8875\n",
      "Epoch 114/200\n",
      "632/632 [==============================] - 0s 563us/step - loss: 0.2476 - accuracy: 0.8869\n",
      "Epoch 115/200\n",
      "632/632 [==============================] - 0s 649us/step - loss: 0.2493 - accuracy: 0.8885\n",
      "Epoch 116/200\n",
      "632/632 [==============================] - 0s 624us/step - loss: 0.2488 - accuracy: 0.8882\n",
      "Epoch 117/200\n",
      "632/632 [==============================] - 0s 570us/step - loss: 0.2471 - accuracy: 0.8884\n",
      "Epoch 118/200\n",
      "632/632 [==============================] - 0s 582us/step - loss: 0.2482 - accuracy: 0.8884\n",
      "Epoch 119/200\n",
      "632/632 [==============================] - 0s 678us/step - loss: 0.2486 - accuracy: 0.8870\n",
      "Epoch 120/200\n",
      "632/632 [==============================] - 0s 602us/step - loss: 0.2473 - accuracy: 0.8879\n",
      "Epoch 121/200\n",
      "632/632 [==============================] - 0s 638us/step - loss: 0.2470 - accuracy: 0.8876\n",
      "Epoch 122/200\n",
      "632/632 [==============================] - 0s 517us/step - loss: 0.2481 - accuracy: 0.8880\n",
      "Epoch 123/200\n",
      "632/632 [==============================] - 0s 521us/step - loss: 0.2469 - accuracy: 0.8894\n",
      "Epoch 124/200\n",
      "632/632 [==============================] - 0s 596us/step - loss: 0.2454 - accuracy: 0.8903\n",
      "Epoch 125/200\n",
      "632/632 [==============================] - 0s 621us/step - loss: 0.2471 - accuracy: 0.8892\n",
      "Epoch 126/200\n",
      "632/632 [==============================] - 0s 662us/step - loss: 0.2459 - accuracy: 0.8901\n",
      "Epoch 127/200\n",
      "632/632 [==============================] - 0s 669us/step - loss: 0.2457 - accuracy: 0.8890\n",
      "Epoch 128/200\n",
      "632/632 [==============================] - 0s 611us/step - loss: 0.2468 - accuracy: 0.8900\n",
      "Epoch 129/200\n",
      "632/632 [==============================] - 0s 708us/step - loss: 0.2457 - accuracy: 0.8887\n",
      "Epoch 130/200\n",
      "632/632 [==============================] - 0s 593us/step - loss: 0.2454 - accuracy: 0.8904\n",
      "Epoch 131/200\n",
      "632/632 [==============================] - 0s 591us/step - loss: 0.2445 - accuracy: 0.8903\n",
      "Epoch 132/200\n",
      "632/632 [==============================] - 0s 575us/step - loss: 0.2460 - accuracy: 0.8901\n",
      "Epoch 133/200\n",
      "632/632 [==============================] - 0s 532us/step - loss: 0.2442 - accuracy: 0.8902\n",
      "Epoch 134/200\n",
      "632/632 [==============================] - 0s 524us/step - loss: 0.2449 - accuracy: 0.8904\n",
      "Epoch 135/200\n",
      "632/632 [==============================] - 0s 570us/step - loss: 0.2450 - accuracy: 0.8887\n",
      "Epoch 136/200\n",
      "632/632 [==============================] - 0s 523us/step - loss: 0.2436 - accuracy: 0.8908\n",
      "Epoch 137/200\n",
      "632/632 [==============================] - 0s 630us/step - loss: 0.2442 - accuracy: 0.8917\n",
      "Epoch 138/200\n",
      "632/632 [==============================] - 0s 656us/step - loss: 0.2425 - accuracy: 0.8925\n",
      "Epoch 139/200\n",
      "632/632 [==============================] - 0s 592us/step - loss: 0.2450 - accuracy: 0.8901\n",
      "Epoch 140/200\n",
      "632/632 [==============================] - 0s 551us/step - loss: 0.2464 - accuracy: 0.8896\n",
      "Epoch 141/200\n",
      "632/632 [==============================] - 0s 602us/step - loss: 0.2425 - accuracy: 0.8922\n",
      "Epoch 142/200\n",
      "632/632 [==============================] - 0s 559us/step - loss: 0.2434 - accuracy: 0.8900\n",
      "Epoch 143/200\n",
      "632/632 [==============================] - 0s 547us/step - loss: 0.2427 - accuracy: 0.8907\n",
      "Epoch 144/200\n",
      "632/632 [==============================] - 0s 588us/step - loss: 0.2422 - accuracy: 0.8913\n",
      "Epoch 145/200\n",
      "632/632 [==============================] - 0s 581us/step - loss: 0.2435 - accuracy: 0.8892\n",
      "Epoch 146/200\n",
      "632/632 [==============================] - 0s 558us/step - loss: 0.2428 - accuracy: 0.8924\n",
      "Epoch 147/200\n",
      "632/632 [==============================] - 0s 630us/step - loss: 0.2419 - accuracy: 0.8919\n",
      "Epoch 148/200\n",
      "632/632 [==============================] - 0s 551us/step - loss: 0.2423 - accuracy: 0.8912\n",
      "Epoch 149/200\n",
      "632/632 [==============================] - 0s 557us/step - loss: 0.2424 - accuracy: 0.8918\n",
      "Epoch 150/200\n",
      "632/632 [==============================] - 0s 630us/step - loss: 0.2421 - accuracy: 0.8920\n",
      "Epoch 151/200\n",
      "632/632 [==============================] - 0s 592us/step - loss: 0.2417 - accuracy: 0.8928\n",
      "Epoch 152/200\n",
      "632/632 [==============================] - 0s 588us/step - loss: 0.2421 - accuracy: 0.8912\n",
      "Epoch 153/200\n",
      "632/632 [==============================] - 0s 617us/step - loss: 0.2407 - accuracy: 0.8904\n",
      "Epoch 154/200\n",
      "632/632 [==============================] - 0s 589us/step - loss: 0.2408 - accuracy: 0.8927\n",
      "Epoch 155/200\n",
      "632/632 [==============================] - 0s 560us/step - loss: 0.2411 - accuracy: 0.8939\n",
      "Epoch 156/200\n",
      "632/632 [==============================] - 0s 524us/step - loss: 0.2402 - accuracy: 0.8930\n",
      "Epoch 157/200\n"
     ]
    },
    {
     "name": "stdout",
     "output_type": "stream",
     "text": [
      "632/632 [==============================] - 0s 558us/step - loss: 0.2406 - accuracy: 0.8935\n",
      "Epoch 158/200\n",
      "632/632 [==============================] - 0s 557us/step - loss: 0.2417 - accuracy: 0.8904\n",
      "Epoch 159/200\n",
      "632/632 [==============================] - 0s 575us/step - loss: 0.2409 - accuracy: 0.8927\n",
      "Epoch 160/200\n",
      "632/632 [==============================] - 0s 621us/step - loss: 0.2395 - accuracy: 0.8938\n",
      "Epoch 161/200\n",
      "632/632 [==============================] - 0s 590us/step - loss: 0.2404 - accuracy: 0.8933\n",
      "Epoch 162/200\n",
      "632/632 [==============================] - 0s 542us/step - loss: 0.2400 - accuracy: 0.8914\n",
      "Epoch 163/200\n",
      "632/632 [==============================] - 0s 549us/step - loss: 0.2395 - accuracy: 0.8926\n",
      "Epoch 164/200\n",
      "632/632 [==============================] - 0s 546us/step - loss: 0.2400 - accuracy: 0.8917\n",
      "Epoch 165/200\n",
      "632/632 [==============================] - 0s 606us/step - loss: 0.2388 - accuracy: 0.8930\n",
      "Epoch 166/200\n",
      "632/632 [==============================] - 0s 539us/step - loss: 0.2407 - accuracy: 0.8925\n",
      "Epoch 167/200\n",
      "632/632 [==============================] - 0s 538us/step - loss: 0.2384 - accuracy: 0.8939\n",
      "Epoch 168/200\n",
      "632/632 [==============================] - 0s 598us/step - loss: 0.2388 - accuracy: 0.8937\n",
      "Epoch 169/200\n",
      "632/632 [==============================] - 0s 565us/step - loss: 0.2388 - accuracy: 0.8939\n",
      "Epoch 170/200\n",
      "632/632 [==============================] - 0s 525us/step - loss: 0.2419 - accuracy: 0.8925\n",
      "Epoch 171/200\n",
      "632/632 [==============================] - 0s 593us/step - loss: 0.2380 - accuracy: 0.8966\n",
      "Epoch 172/200\n",
      "632/632 [==============================] - 0s 624us/step - loss: 0.2388 - accuracy: 0.8926\n",
      "Epoch 173/200\n",
      "632/632 [==============================] - 0s 574us/step - loss: 0.2380 - accuracy: 0.8936\n",
      "Epoch 174/200\n",
      "632/632 [==============================] - 0s 562us/step - loss: 0.2388 - accuracy: 0.8936\n",
      "Epoch 175/200\n",
      "632/632 [==============================] - 0s 616us/step - loss: 0.2395 - accuracy: 0.8923\n",
      "Epoch 176/200\n",
      "632/632 [==============================] - 0s 554us/step - loss: 0.2388 - accuracy: 0.8945\n",
      "Epoch 177/200\n",
      "632/632 [==============================] - 0s 562us/step - loss: 0.2377 - accuracy: 0.8934\n",
      "Epoch 178/200\n",
      "632/632 [==============================] - 0s 575us/step - loss: 0.2379 - accuracy: 0.8929\n",
      "Epoch 179/200\n",
      "632/632 [==============================] - 0s 554us/step - loss: 0.2381 - accuracy: 0.8960\n",
      "Epoch 180/200\n",
      "632/632 [==============================] - 0s 570us/step - loss: 0.2357 - accuracy: 0.8958\n",
      "Epoch 181/200\n",
      "632/632 [==============================] - 0s 572us/step - loss: 0.2378 - accuracy: 0.8931\n",
      "Epoch 182/200\n",
      "632/632 [==============================] - 0s 556us/step - loss: 0.2372 - accuracy: 0.8940\n",
      "Epoch 183/200\n",
      "632/632 [==============================] - 0s 545us/step - loss: 0.2378 - accuracy: 0.8937\n",
      "Epoch 184/200\n",
      "632/632 [==============================] - 0s 600us/step - loss: 0.2371 - accuracy: 0.8931\n",
      "Epoch 185/200\n",
      "632/632 [==============================] - 0s 599us/step - loss: 0.2369 - accuracy: 0.8942\n",
      "Epoch 186/200\n",
      "632/632 [==============================] - 0s 590us/step - loss: 0.2371 - accuracy: 0.8942\n",
      "Epoch 187/200\n",
      "632/632 [==============================] - 0s 523us/step - loss: 0.2377 - accuracy: 0.8935\n",
      "Epoch 188/200\n",
      "632/632 [==============================] - 0s 558us/step - loss: 0.2366 - accuracy: 0.8944\n",
      "Epoch 189/200\n",
      "632/632 [==============================] - 0s 571us/step - loss: 0.2358 - accuracy: 0.8929\n",
      "Epoch 190/200\n",
      "632/632 [==============================] - 0s 551us/step - loss: 0.2360 - accuracy: 0.8953\n",
      "Epoch 191/200\n",
      "632/632 [==============================] - 0s 618us/step - loss: 0.2382 - accuracy: 0.8933\n",
      "Epoch 192/200\n",
      "632/632 [==============================] - 0s 609us/step - loss: 0.2390 - accuracy: 0.8926\n",
      "Epoch 193/200\n",
      "632/632 [==============================] - 0s 578us/step - loss: 0.2367 - accuracy: 0.8941\n",
      "Epoch 194/200\n",
      "632/632 [==============================] - 0s 555us/step - loss: 0.2343 - accuracy: 0.8943\n",
      "Epoch 195/200\n",
      "632/632 [==============================] - 0s 569us/step - loss: 0.2354 - accuracy: 0.8942\n",
      "Epoch 196/200\n",
      "632/632 [==============================] - 0s 557us/step - loss: 0.2368 - accuracy: 0.8910\n",
      "Epoch 197/200\n",
      "632/632 [==============================] - 0s 581us/step - loss: 0.2352 - accuracy: 0.8946\n",
      "Epoch 198/200\n",
      "632/632 [==============================] - 0s 542us/step - loss: 0.2344 - accuracy: 0.8947\n",
      "Epoch 199/200\n",
      "632/632 [==============================] - 0s 701us/step - loss: 0.2357 - accuracy: 0.8952\n",
      "Epoch 200/200\n",
      "632/632 [==============================] - 0s 597us/step - loss: 0.2344 - accuracy: 0.8953\n"
     ]
    },
    {
     "data": {
      "text/plain": [
       "<tensorflow.python.keras.callbacks.History at 0x239824fac40>"
      ]
     },
     "execution_count": 34,
     "metadata": {},
     "output_type": "execute_result"
    }
   ],
   "source": [
    "model = Sequential()\n",
    "model.add(Dense(20, activation='relu', kernel_initializer='he_normal', input_shape=(n_features,)))\n",
    "model.add(Dense(10, activation='relu', kernel_initializer='he_normal'))\n",
    "model.add(Dense(8, activation='relu', kernel_initializer='he_normal'))\n",
    "model.add(Dense(1, activation='sigmoid'))\n",
    "# compile the model\n",
    "model.compile(optimizer='adam', loss='binary_crossentropy', metrics=['accuracy'])\n",
    "# fit the model\n",
    "model.fit(X_train_num_cat_scaled, Y_train, epochs=200, batch_size=32, verbose=1)"
   ]
  },
  {
   "cell_type": "code",
   "execution_count": 35,
   "id": "d701443c",
   "metadata": {},
   "outputs": [
    {
     "data": {
      "text/plain": [
       "'n_features = X_test_num_cat_scaled.shape[1]\\nmodel = Sequential()\\nmodel.add(Dense(20, activation=\\'relu\\', kernel_initializer=\\'he_normal\\', input_shape=(n_features,)))\\nmodel.add(Dense(10, activation=\\'relu\\', kernel_initializer=\\'he_normal\\'))\\nmodel.add(Dense(8, activation=\\'relu\\', kernel_initializer=\\'he_normal\\'))\\nmodel.add(Dense(1, activation=\\'sigmoid\\'))\\n# compile the model\\nmodel.compile(optimizer=\\'adam\\', loss=\\'binary_crossentropy\\', metrics=[\\'accuracy\\'])\\n# fit the model\\nmodel.fit(X_train_num_cat_scaled, Y_train, epochs=200, batch_size=32, verbose=1)\\n\\nprint(\"\\n Accuracy: %.4f\" % (model.evaluate(X_test_num_cat_scaled, Y_test)))\\n\\n\\n# evaluate the model\\n#loss, acc = model.evaluate(X_test, Y_test, verbose=0)\\n#print(\\'Test Accuracy: %.3f\\' % acc)'"
      ]
     },
     "execution_count": 35,
     "metadata": {},
     "output_type": "execute_result"
    }
   ],
   "source": [
    "\"\"\"n_features = X_test_num_cat_scaled.shape[1]\n",
    "model = Sequential()\n",
    "model.add(Dense(20, activation='relu', kernel_initializer='he_normal', input_shape=(n_features,)))\n",
    "model.add(Dense(10, activation='relu', kernel_initializer='he_normal'))\n",
    "model.add(Dense(8, activation='relu', kernel_initializer='he_normal'))\n",
    "model.add(Dense(1, activation='sigmoid'))\n",
    "# compile the model\n",
    "model.compile(optimizer='adam', loss='binary_crossentropy', metrics=['accuracy'])\n",
    "# fit the model\n",
    "model.fit(X_train_num_cat_scaled, Y_train, epochs=200, batch_size=32, verbose=1)\n",
    "\n",
    "print(\"\\n Accuracy: %.4f\" % (model.evaluate(X_test_num_cat_scaled, Y_test)))\n",
    "\n",
    "\n",
    "# evaluate the model\n",
    "#loss, acc = model.evaluate(X_test, Y_test, verbose=0)\n",
    "#print('Test Accuracy: %.3f' % acc)\"\"\""
   ]
  },
  {
   "cell_type": "markdown",
   "id": "07e8ac73",
   "metadata": {},
   "source": [
    "\n"
   ]
  },
  {
   "cell_type": "markdown",
   "id": "cfac7968",
   "metadata": {},
   "source": [
    "<a id='LR'></a>\n",
    "\n",
    "### Logistic Regression CV (Accuracy: 84.9% / Precision: 70.7% / Recall: 58.7%)"
   ]
  },
  {
   "cell_type": "code",
   "execution_count": 36,
   "id": "c8aad9a2",
   "metadata": {},
   "outputs": [
    {
     "data": {
      "text/plain": [
       "0.8493349259090138"
      ]
     },
     "execution_count": 36,
     "metadata": {},
     "output_type": "execute_result"
    }
   ],
   "source": [
    "# 10-fold Cross Validation\n",
    "\n",
    "log_cl = LogisticRegression(solver=\"lbfgs\", C=10, max_iter=400, random_state=0)\n",
    "log_cl.fit(X_train_num_cat_scaled, Y_train)\n",
    "np.mean(cross_val_score(log_cl, X_train_num_cat_scaled, Y_train, cv=10, scoring='accuracy'))"
   ]
  },
  {
   "cell_type": "code",
   "execution_count": 37,
   "id": "208b6d5a",
   "metadata": {},
   "outputs": [
    {
     "name": "stdout",
     "output_type": "stream",
     "text": [
      "0.7074688796680498 0.5871717606543263\n"
     ]
    }
   ],
   "source": [
    "Y_train_pred = cross_val_predict(log_cl, X_train_num_cat_scaled, Y_train, cv=10)\n",
    "print(precision_score(Y_train, Y_train_pred), recall_score(Y_train, Y_train_pred))"
   ]
  },
  {
   "cell_type": "code",
   "execution_count": 38,
   "id": "b2acc42c",
   "metadata": {},
   "outputs": [
    {
     "data": {
      "image/png": "[encoded data removed]",
      "text/plain": [
       "<Figure size 432x288 with 1 Axes>"
      ]
     },
     "metadata": {
      "needs_background": "light"
     },
     "output_type": "display_data"
    }
   ],
   "source": [
    "# Precision vs. Recall based on thresholds\n",
    "\n",
    "Y_log_scores = cross_val_predict(log_cl, X_train_num_cat_scaled, Y_train, cv=10, method='decision_function')\n",
    "precisions_log, recalls_log, thresholds_log = precision_recall_curve(Y_train, Y_log_scores)\n",
    "prec_rec_threshold(precisions_log, recalls_log, thresholds_log)\n",
    "plt.show()"
   ]
  },
  {
   "cell_type": "code",
   "execution_count": 39,
   "id": "3d8d2dd9",
   "metadata": {},
   "outputs": [
    {
     "data": {
      "text/plain": [
       "'TEST (SCALED)\\n\\nsoftmax_reg = LogisticRegression(solver=\"lbfgs\", C=10, max_iter=3000, random_state=0)\\nsoftmax_reg.fit(X_train_num_cat_scaled, Y_train)\\n\\nprint(softmax_reg.score(X_train_num_cat_scaled, Y_train))   # train error\\nprint(softmax_reg.score(X_test_num_cat_scaled, Y_test))     # test error\\n\\npredictions = softmax_reg.predict(X_test_num_cat_scaled)\\nprint(classification_report(Y_test, predictions))\\n\\n'"
      ]
     },
     "execution_count": 39,
     "metadata": {},
     "output_type": "execute_result"
    }
   ],
   "source": [
    "\"\"\"TEST (SCALED)\n",
    "\n",
    "softmax_reg = LogisticRegression(solver=\"lbfgs\", C=10, max_iter=3000, random_state=0)\n",
    "softmax_reg.fit(X_train_num_cat_scaled, Y_train)\n",
    "\n",
    "print(softmax_reg.score(X_train_num_cat_scaled, Y_train))   # train error\n",
    "print(softmax_reg.score(X_test_num_cat_scaled, Y_test))     # test error\n",
    "\n",
    "predictions = softmax_reg.predict(X_test_num_cat_scaled)\n",
    "print(classification_report(Y_test, predictions))\n",
    "\n",
    "\"\"\""
   ]
  },
  {
   "cell_type": "code",
   "execution_count": 40,
   "id": "2d4d6e4d",
   "metadata": {},
   "outputs": [
    {
     "data": {
      "text/plain": [
       "\"Grid search / TEST (SCALED)\\n\\n\\nfrom sklearn.model_selection import GridSearchCV\\n\\n\\nparams = {'C':[1, 5, 10, 15, 50, 100], 'tol': [0.001, 0.0001, 0.005]}\\nlog_reg = LogisticRegression(solver='lbfgs', max_iter=500, penalty='l2')\\nclf = GridSearchCV(log_reg, params, refit='True', n_jobs=1, verbose=3, cv=5)\\nclf.fit(X_train, Y_train)\\n\\nprint(clf.score(X_train, Y_train))   # train error\\nprint(clf.score(X_test, Y_test))     # test error\\n\\npredictions = clf.predict(X_test)\\nprint(classification_report(Y_test, predictions))\\n\\nprint(clf.best_params_)\\n\\n\""
      ]
     },
     "execution_count": 40,
     "metadata": {},
     "output_type": "execute_result"
    }
   ],
   "source": [
    "\"\"\"Grid search / TEST (SCALED)\n",
    "\n",
    "\n",
    "from sklearn.model_selection import GridSearchCV\n",
    "\n",
    "\n",
    "params = {'C':[1, 5, 10, 15, 50, 100], 'tol': [0.001, 0.0001, 0.005]}\n",
    "log_reg = LogisticRegression(solver='lbfgs', max_iter=500, penalty='l2')\n",
    "clf = GridSearchCV(log_reg, params, refit='True', n_jobs=1, verbose=3, cv=5)\n",
    "clf.fit(X_train, Y_train)\n",
    "\n",
    "print(clf.score(X_train, Y_train))   # train error\n",
    "print(clf.score(X_test, Y_test))     # test error\n",
    "\n",
    "predictions = clf.predict(X_test)\n",
    "print(classification_report(Y_test, predictions))\n",
    "\n",
    "print(clf.best_params_)\n",
    "\n",
    "\"\"\""
   ]
  },
  {
   "cell_type": "markdown",
   "id": "f701feb4",
   "metadata": {},
   "source": [
    "\n"
   ]
  },
  {
   "cell_type": "markdown",
   "id": "c33a1bbe",
   "metadata": {},
   "source": [
    "<a id='SVM'></a>\n",
    "\n",
    "### Support Vector Machine (Accuracy: 82.8% / Precision: 71.2% / Recall: 42.7%)"
   ]
  },
  {
   "cell_type": "markdown",
   "id": "9f1ca7d1",
   "metadata": {},
   "source": [
    "- When the SVM model is overfitting, we can decrease C (the lower the C, the wider the margin and the larger the margin violation or error) to control the model. \n",
    "\n",
    "- 사실 대부분의 마진 오류 (margin violation - 즉, 샘플이 도로 중간이나 심지어 반대쪽에 있는 경우)은 결정 경계를 기준으로 올바른 클래스로 분류되기 때문에 보통 훈련 세트에서 예측 에러는 마진 오류보다 작다"
   ]
  },
  {
   "cell_type": "markdown",
   "id": "e76a3c28",
   "metadata": {},
   "source": [
    "- 다항식 특성을 추가하는 것은 간단하고 (SVM 뿐만 아니라) 모든 머신러닝 알고리즘에서 잘 작동합니다. 하지만 낮은차수의 다항식은 매우 복잡한 데이터셋을 잘 표현하지 못하고 높은 차수의 다항식은 굉장히 많은 특성을 추가하므로 모델을 느리게 만듭니다. \n",
    "\n",
    "- 다행히도 SVM 을 사용할 땐 kernel trick 이라는 거의 기적에 가까운 수학적 기교를 적용할 수 있습니다. 실제로는 특성을 추가하지 않으면서 다항식 특성을 많이 추가한 것과 같은 결과 얻을 수 있습니다. => 사실 어떤 특성도 추가하지 않기 때문에 엄청난 수의 특성 조합이 생기지 않습니다.  "
   ]
  },
  {
   "cell_type": "markdown",
   "id": "7f80a11e",
   "metadata": {},
   "source": [
    "- coef0: 모델이 높은 차수와 낮은 차수에 얼마나 영향을 받을지 조절 (기본값: 0)\n",
    "\n",
    "    - 다항식 커널은 차수가 높아질수록 1보다 작은 값과 1보다 큰 값의 차이가 크게 벌이지므로 coef0을 적절한 값으로 지정하면 고차항의 영향을 줄일 수 있음. \n",
    "    \n",
    "- gamma: gamma를 증가시키면 종 모양 그래프가 좁아져서 각 샘플의 영향 범위가 작아짐. 결정경계가 조금 더 불규칙해지고 각 샘플을 따라 구불구불하게 휘어짐. 작은 gamma 값은 종 모양 그래프를 만들며 샘플이 넓은 범위에 걸쳐 영향을 주므로 결정 경계가 더 부드러워짐\n",
    "    - 결국 하이퍼파라미터 gamma가 규제의 역할을 함. 모델이 과대적합을 경우엔 감소시켜야 하고 과소적합일 경우엔 증가시켜야 함 (C와 비슷)"
   ]
  },
  {
   "cell_type": "markdown",
   "id": "0c84f2d5",
   "metadata": {},
   "source": [
    "- 여러 가지 커널 중 어떤 것을 사용해야 할까? 경험적으로 봤을 때 언제나 선형 커널을 가장 먼저 시도해봐야됨. (LinearSVC가 SVC(kernel=\"linear\") 보다 훨씬 빠름을 기억). 특히 훈련 세트가 아주 크거나 특성 수가 많을 때 더욱 그럼. 훈련 세트가 너무 크지 않다면 가우시안 rfb 커널을 시도해보면 좋음. 대부분의 경우 이 커널이 잘 들어맞음. 시간과 컴퓨팅 성능이 충분하다면 (특히 훈련 데이터의 구조에 특화된 커널이 있는 경우) 교차 검증과 그리드 탐색을 사용해 다른 커널을 좀 더 시도해볼 수 있음. "
   ]
  },
  {
   "cell_type": "code",
   "execution_count": 41,
   "id": "f3eff4d4",
   "metadata": {},
   "outputs": [
    {
     "data": {
      "text/plain": [
       "0.8285104816831772"
      ]
     },
     "execution_count": 41,
     "metadata": {},
     "output_type": "execute_result"
    }
   ],
   "source": [
    "# 10-fold Cross validation\n",
    "\n",
    "svm_cl=SVC(random_state=1, coef0=0, C=1, gamma= 'scale', kernel='rbf', decision_function_shape='ovo')\n",
    "svm_cl.fit(X_train_num_cat_scaled, Y_train)\n",
    "np.mean(cross_val_score(svm_cl, X_train_num_cat_scaled, Y_train, cv=10, scoring='accuracy'))"
   ]
  },
  {
   "cell_type": "code",
   "execution_count": 42,
   "id": "b732c643",
   "metadata": {},
   "outputs": [
    {
     "name": "stdout",
     "output_type": "stream",
     "text": [
      "0.711669658886894 0.4266035299182092\n"
     ]
    }
   ],
   "source": [
    "Y_train_pred = cross_val_predict(svm_cl, X_train_num_cat_scaled, Y_train, cv=10)\n",
    "print(precision_score(Y_train, Y_train_pred), recall_score(Y_train, Y_train_pred))"
   ]
  },
  {
   "cell_type": "code",
   "execution_count": 43,
   "id": "eff305a9",
   "metadata": {},
   "outputs": [
    {
     "data": {
      "image/png": "[encoded data removed]",
      "text/plain": [
       "<Figure size 432x288 with 1 Axes>"
      ]
     },
     "metadata": {
      "needs_background": "light"
     },
     "output_type": "display_data"
    }
   ],
   "source": [
    "# Precision vs. Recall based on thresholds\n",
    "\n",
    "Y_svm_scores = cross_val_predict(svm_cl, X_train_num_cat_scaled, Y_train, cv=10, method='decision_function')\n",
    "precisions_svm, recalls_svm, thresholds_svm = precision_recall_curve(Y_train, Y_svm_scores)\n",
    "prec_rec_threshold(precisions_svm, recalls_svm, thresholds_svm)\n",
    "plt.show()"
   ]
  },
  {
   "cell_type": "markdown",
   "id": "6440dcef",
   "metadata": {},
   "source": [
    "\n"
   ]
  },
  {
   "cell_type": "markdown",
   "id": "b26ade52",
   "metadata": {},
   "source": [
    "<a id='SGD'></a>\n",
    "\n",
    "### SGD Classifier (Accuracy: 82.5% / Precision: 67.2% / Recall: 46.8%) "
   ]
  },
  {
   "cell_type": "code",
   "execution_count": 44,
   "id": "6f26fbff",
   "metadata": {},
   "outputs": [
    {
     "data": {
      "text/plain": [
       "0.8251976159328045"
      ]
     },
     "execution_count": 44,
     "metadata": {},
     "output_type": "execute_result"
    }
   ],
   "source": [
    "sgd_cl = SGDClassifier(max_iter=50, random_state=42)\n",
    "sgd_cl.fit(X_train_num_cat_scaled, Y_train)\n",
    "\n",
    "np.mean(cross_val_score(sgd_cl, X_train_num_cat_scaled, Y_train, cv=10, scoring='accuracy'))"
   ]
  },
  {
   "cell_type": "code",
   "execution_count": 45,
   "id": "06977d6c",
   "metadata": {},
   "outputs": [
    {
     "name": "stdout",
     "output_type": "stream",
     "text": [
      "0.6717109326744904 0.4681446405510116\n"
     ]
    }
   ],
   "source": [
    "Y_train_pred = cross_val_predict(sgd_cl, X_train_num_cat_scaled, Y_train, cv=10)\n",
    "print(precision_score(Y_train, Y_train_pred), recall_score(Y_train, Y_train_pred))"
   ]
  },
  {
   "cell_type": "code",
   "execution_count": 46,
   "id": "26ee82fd",
   "metadata": {},
   "outputs": [
    {
     "data": {
      "image/png": "[encoded data removed]",
      "text/plain": [
       "<Figure size 432x288 with 1 Axes>"
      ]
     },
     "metadata": {
      "needs_background": "light"
     },
     "output_type": "display_data"
    }
   ],
   "source": [
    "# Precision vs. Recall based on thresholds\n",
    "\n",
    "Y_sgd_scores = cross_val_predict(sgd_cl, X_train_num_cat_scaled, Y_train, cv=10, method='decision_function')\n",
    "precisions_sgd, recalls_sgd, thresholds_sgd = precision_recall_curve(Y_train, Y_sgd_scores)\n",
    "\n",
    "prec_rec_threshold(precisions_sgd, recalls_sgd, thresholds_sgd)\n",
    "plt.show()"
   ]
  },
  {
   "cell_type": "code",
   "execution_count": 48,
   "id": "847740aa",
   "metadata": {},
   "outputs": [
    {
     "data": {
      "text/plain": [
       "'# In order to increase the precision and allow a decrease in the recall, set the threshold greater than 0.5.\\n# This will give the precision greater than 0.77\\n\\nY_train_pred_90 = (Y_scores > 0.5)\\nprint(precision_score(Y_train, Y_train_pred_90), recall_score(Y_train, Y_train_pred_90))'"
      ]
     },
     "execution_count": 48,
     "metadata": {},
     "output_type": "execute_result"
    }
   ],
   "source": [
    "\"\"\"# In order to increase the precision and allow a decrease in the recall, set the threshold greater than 0.5.\n",
    "# This will give the precision greater than 0.77\n",
    "\n",
    "Y_train_pred_90 = (Y_scores > 0.5)\n",
    "print(precision_score(Y_train, Y_train_pred_90), recall_score(Y_train, Y_train_pred_90))\"\"\""
   ]
  },
  {
   "cell_type": "markdown",
   "id": "fe966c58",
   "metadata": {},
   "source": [
    "\n"
   ]
  },
  {
   "cell_type": "markdown",
   "id": "7696f185",
   "metadata": {},
   "source": [
    "<a id='KNN'></a>\n",
    "\n",
    "### KNN (Accuracy: 78.0% / Precision: 54.5% / Recall: 27.5%)"
   ]
  },
  {
   "cell_type": "code",
   "execution_count": 49,
   "id": "f58a6453",
   "metadata": {},
   "outputs": [
    {
     "data": {
      "text/plain": [
       "0.7806793260282368"
      ]
     },
     "execution_count": 49,
     "metadata": {},
     "output_type": "execute_result"
    }
   ],
   "source": [
    "knn_cl = KNeighborsClassifier(n_neighbors=9)\n",
    "knn_cl.fit(X_train_num_cat_scaled, Y_train)\n",
    "np.mean(cross_val_score(knn_cl, X_train_num_cat_scaled, Y_train, cv=10, scoring='accuracy'))"
   ]
  },
  {
   "cell_type": "code",
   "execution_count": 50,
   "id": "4da422c8",
   "metadata": {},
   "outputs": [
    {
     "name": "stdout",
     "output_type": "stream",
     "text": [
      "0.5452604611443211 0.2748600947051227\n"
     ]
    }
   ],
   "source": [
    "Y_train_pred = cross_val_predict(knn_cl, X_train_num_cat_scaled, Y_train, cv=10)\n",
    "print(precision_score(Y_train, Y_train_pred), recall_score(Y_train, Y_train_pred))"
   ]
  },
  {
   "cell_type": "markdown",
   "id": "6008cb3f",
   "metadata": {},
   "source": [
    "\n"
   ]
  },
  {
   "cell_type": "markdown",
   "id": "c29b3678",
   "metadata": {},
   "source": [
    "### Soft Voting (Scaled: 87.6%)"
   ]
  },
  {
   "cell_type": "code",
   "execution_count": null,
   "id": "df117621",
   "metadata": {},
   "outputs": [],
   "source": [
    "# Soft Voting (logistic regression, random forest, support vector machine)\n",
    "\n",
    "xgb_cl = xgb.XGBClassifier(eval_metric='error', use_label_encoder=False)\n",
    "log_cl = LogisticRegression(solver=\"lbfgs\", C=10, max_iter=3000)\n",
    "#rnd_clf = RandomForestClassifier(n_estimators=300, max_leaf_nodes=20, n_jobs=-1, oob_score=True)\n",
    "svm_cl = SVC(random_state=1, coef0=0, C=1, gamma= 'scale', kernel='rbf', decision_function_shape='ovo', probability=True)\n",
    "\n",
    "voting_cl = VotingClassifier(estimators = [('lr', log_cl), ('xgb', xgb_cl), ('svc', svm_cl)], voting='soft')\n",
    "voting_cl.fit(X_train_num_cat_scaled, Y_train)\n",
    "\n",
    "\n",
    "for clf in (log_cl, xgb_cl, svm_cl, voting_cl):\n",
    "    clf.fit(X_train_num_cat_scaled, Y_train)\n",
    "    Y_pred = clf.predict(X_test_num_cat_scaled)\n",
    "    print(clf.__class__.__name__, accuracy_score(Y_test, Y_pred))"
   ]
  },
  {
   "cell_type": "code",
   "execution_count": null,
   "id": "60f35eb0",
   "metadata": {},
   "outputs": [],
   "source": [
    "Y_train_pred = cross_val_predict(voting_cl, X_train_num_cat_scaled, Y_train, cv=10)\n",
    "print(precision_score(Y_train, Y_train_pred), recall_score(Y_train, Y_train_pred))"
   ]
  },
  {
   "cell_type": "code",
   "execution_count": null,
   "id": "489a6a84",
   "metadata": {},
   "outputs": [],
   "source": []
  },
  {
   "cell_type": "code",
   "execution_count": null,
   "id": "7287400e",
   "metadata": {},
   "outputs": [],
   "source": []
  },
  {
   "cell_type": "code",
   "execution_count": 85,
   "id": "59afb272",
   "metadata": {},
   "outputs": [
    {
     "ename": "ValueError",
     "evalue": "The estimator Sequential should be a classifier.",
     "output_type": "error",
     "traceback": [
      "\u001b[1;31m---------------------------------------------------------------------------\u001b[0m",
      "\u001b[1;31mValueError\u001b[0m                                Traceback (most recent call last)",
      "\u001b[1;32m<ipython-input-85-5813aa8c9be2>\u001b[0m in \u001b[0;36m<module>\u001b[1;34m\u001b[0m\n\u001b[0;32m      6\u001b[0m \u001b[1;33m\u001b[0m\u001b[0m\n\u001b[0;32m      7\u001b[0m \u001b[0mvoting_cl\u001b[0m \u001b[1;33m=\u001b[0m \u001b[0mVotingClassifier\u001b[0m\u001b[1;33m(\u001b[0m\u001b[0mestimators\u001b[0m \u001b[1;33m=\u001b[0m \u001b[1;33m[\u001b[0m\u001b[1;33m(\u001b[0m\u001b[1;34m'rnd'\u001b[0m\u001b[1;33m,\u001b[0m \u001b[0mrnd_cl\u001b[0m\u001b[1;33m)\u001b[0m\u001b[1;33m,\u001b[0m \u001b[1;33m(\u001b[0m\u001b[1;34m'xgb'\u001b[0m\u001b[1;33m,\u001b[0m \u001b[0mxgb_cl\u001b[0m\u001b[1;33m)\u001b[0m\u001b[1;33m,\u001b[0m \u001b[1;33m(\u001b[0m\u001b[1;34m'svc'\u001b[0m\u001b[1;33m,\u001b[0m \u001b[0mmodel\u001b[0m\u001b[1;33m)\u001b[0m\u001b[1;33m]\u001b[0m\u001b[1;33m,\u001b[0m \u001b[0mvoting\u001b[0m\u001b[1;33m=\u001b[0m\u001b[1;34m'soft'\u001b[0m\u001b[1;33m)\u001b[0m\u001b[1;33m\u001b[0m\u001b[1;33m\u001b[0m\u001b[0m\n\u001b[1;32m----> 8\u001b[1;33m \u001b[0mvoting_cl\u001b[0m\u001b[1;33m.\u001b[0m\u001b[0mfit\u001b[0m\u001b[1;33m(\u001b[0m\u001b[0mX_train_num_cat_scaled\u001b[0m\u001b[1;33m,\u001b[0m \u001b[0mY_train\u001b[0m\u001b[1;33m)\u001b[0m\u001b[1;33m\u001b[0m\u001b[1;33m\u001b[0m\u001b[0m\n\u001b[0m\u001b[0;32m      9\u001b[0m \u001b[1;33m\u001b[0m\u001b[0m\n\u001b[0;32m     10\u001b[0m \u001b[1;33m\u001b[0m\u001b[0m\n",
      "\u001b[1;32m~\\Anaconda3\\lib\\site-packages\\sklearn\\ensemble\\_voting.py\u001b[0m in \u001b[0;36mfit\u001b[1;34m(self, X, y, sample_weight)\u001b[0m\n\u001b[0;32m    290\u001b[0m         \u001b[0mtransformed_y\u001b[0m \u001b[1;33m=\u001b[0m \u001b[0mself\u001b[0m\u001b[1;33m.\u001b[0m\u001b[0mle_\u001b[0m\u001b[1;33m.\u001b[0m\u001b[0mtransform\u001b[0m\u001b[1;33m(\u001b[0m\u001b[0my\u001b[0m\u001b[1;33m)\u001b[0m\u001b[1;33m\u001b[0m\u001b[1;33m\u001b[0m\u001b[0m\n\u001b[0;32m    291\u001b[0m \u001b[1;33m\u001b[0m\u001b[0m\n\u001b[1;32m--> 292\u001b[1;33m         \u001b[1;32mreturn\u001b[0m \u001b[0msuper\u001b[0m\u001b[1;33m(\u001b[0m\u001b[1;33m)\u001b[0m\u001b[1;33m.\u001b[0m\u001b[0mfit\u001b[0m\u001b[1;33m(\u001b[0m\u001b[0mX\u001b[0m\u001b[1;33m,\u001b[0m \u001b[0mtransformed_y\u001b[0m\u001b[1;33m,\u001b[0m \u001b[0msample_weight\u001b[0m\u001b[1;33m)\u001b[0m\u001b[1;33m\u001b[0m\u001b[1;33m\u001b[0m\u001b[0m\n\u001b[0m\u001b[0;32m    293\u001b[0m \u001b[1;33m\u001b[0m\u001b[0m\n\u001b[0;32m    294\u001b[0m     \u001b[1;32mdef\u001b[0m \u001b[0mpredict\u001b[0m\u001b[1;33m(\u001b[0m\u001b[0mself\u001b[0m\u001b[1;33m,\u001b[0m \u001b[0mX\u001b[0m\u001b[1;33m)\u001b[0m\u001b[1;33m:\u001b[0m\u001b[1;33m\u001b[0m\u001b[1;33m\u001b[0m\u001b[0m\n",
      "\u001b[1;32m~\\Anaconda3\\lib\\site-packages\\sklearn\\ensemble\\_voting.py\u001b[0m in \u001b[0;36mfit\u001b[1;34m(self, X, y, sample_weight)\u001b[0m\n\u001b[0;32m     64\u001b[0m     \u001b[1;32mdef\u001b[0m \u001b[0mfit\u001b[0m\u001b[1;33m(\u001b[0m\u001b[0mself\u001b[0m\u001b[1;33m,\u001b[0m \u001b[0mX\u001b[0m\u001b[1;33m,\u001b[0m \u001b[0my\u001b[0m\u001b[1;33m,\u001b[0m \u001b[0msample_weight\u001b[0m\u001b[1;33m=\u001b[0m\u001b[1;32mNone\u001b[0m\u001b[1;33m)\u001b[0m\u001b[1;33m:\u001b[0m\u001b[1;33m\u001b[0m\u001b[1;33m\u001b[0m\u001b[0m\n\u001b[0;32m     65\u001b[0m         \u001b[1;34m\"\"\"Get common fit operations.\"\"\"\u001b[0m\u001b[1;33m\u001b[0m\u001b[1;33m\u001b[0m\u001b[0m\n\u001b[1;32m---> 66\u001b[1;33m         \u001b[0mnames\u001b[0m\u001b[1;33m,\u001b[0m \u001b[0mclfs\u001b[0m \u001b[1;33m=\u001b[0m \u001b[0mself\u001b[0m\u001b[1;33m.\u001b[0m\u001b[0m_validate_estimators\u001b[0m\u001b[1;33m(\u001b[0m\u001b[1;33m)\u001b[0m\u001b[1;33m\u001b[0m\u001b[1;33m\u001b[0m\u001b[0m\n\u001b[0m\u001b[0;32m     67\u001b[0m \u001b[1;33m\u001b[0m\u001b[0m\n\u001b[0;32m     68\u001b[0m         if (self.weights is not None and\n",
      "\u001b[1;32m~\\Anaconda3\\lib\\site-packages\\sklearn\\ensemble\\_base.py\u001b[0m in \u001b[0;36m_validate_estimators\u001b[1;34m(self)\u001b[0m\n\u001b[0;32m    239\u001b[0m         \u001b[1;32mfor\u001b[0m \u001b[0mest\u001b[0m \u001b[1;32min\u001b[0m \u001b[0mestimators\u001b[0m\u001b[1;33m:\u001b[0m\u001b[1;33m\u001b[0m\u001b[1;33m\u001b[0m\u001b[0m\n\u001b[0;32m    240\u001b[0m             \u001b[1;32mif\u001b[0m \u001b[0mest\u001b[0m \u001b[1;33m!=\u001b[0m \u001b[1;34m'drop'\u001b[0m \u001b[1;32mand\u001b[0m \u001b[1;32mnot\u001b[0m \u001b[0mis_estimator_type\u001b[0m\u001b[1;33m(\u001b[0m\u001b[0mest\u001b[0m\u001b[1;33m)\u001b[0m\u001b[1;33m:\u001b[0m\u001b[1;33m\u001b[0m\u001b[1;33m\u001b[0m\u001b[0m\n\u001b[1;32m--> 241\u001b[1;33m                 raise ValueError(\n\u001b[0m\u001b[0;32m    242\u001b[0m                     \"The estimator {} should be a {}.\".format(\n\u001b[0;32m    243\u001b[0m                         \u001b[0mest\u001b[0m\u001b[1;33m.\u001b[0m\u001b[0m__class__\u001b[0m\u001b[1;33m.\u001b[0m\u001b[0m__name__\u001b[0m\u001b[1;33m,\u001b[0m \u001b[0mis_estimator_type\u001b[0m\u001b[1;33m.\u001b[0m\u001b[0m__name__\u001b[0m\u001b[1;33m[\u001b[0m\u001b[1;36m3\u001b[0m\u001b[1;33m:\u001b[0m\u001b[1;33m]\u001b[0m\u001b[1;33m\u001b[0m\u001b[1;33m\u001b[0m\u001b[0m\n",
      "\u001b[1;31mValueError\u001b[0m: The estimator Sequential should be a classifier."
     ]
    }
   ],
   "source": [
    "# Soft Voting (logistic regression, random forest, support vector machine)\n",
    "\n",
    "xgb_cl = xgb.XGBClassifier(eval_metric='error', use_label_encoder=False)\n",
    "rnd_cl = RandomForestClassifier(n_estimators=300, max_leaf_nodes=20, n_jobs=-1, oob_score=True)\n",
    "svm_cl = SVC(random_state=1, coef0=0, C=1, gamma= 'scale', kernel='rbf', decision_function_shape='ovo', probability=True)\n",
    "\n",
    "voting_cl = VotingClassifier(estimators = [('rnd', rnd_cl), ('xgb', xgb_cl), ('svc', svm_cl)], voting='soft')\n",
    "voting_cl.fit(X_train_num_cat_scaled, Y_train)\n",
    "\n",
    "\n",
    "for clf in (rnd_cl, xgb_cl, svm_cl, voting_cl):\n",
    "    clf.fit(X_train_num_cat_scaled, Y_train)\n",
    "    Y_pred = clf.predict(X_test_num_cat_scaled)\n",
    "    print(clf.__class__.__name__, accuracy_score(Y_test, Y_pred))"
   ]
  },
  {
   "cell_type": "code",
   "execution_count": null,
   "id": "b620e340",
   "metadata": {},
   "outputs": [],
   "source": []
  },
  {
   "cell_type": "code",
   "execution_count": null,
   "id": "552297c7",
   "metadata": {},
   "outputs": [],
   "source": []
  },
  {
   "cell_type": "code",
   "execution_count": null,
   "id": "52e39cd9",
   "metadata": {},
   "outputs": [],
   "source": []
  },
  {
   "cell_type": "code",
   "execution_count": null,
   "id": "bbc3e986",
   "metadata": {},
   "outputs": [],
   "source": []
  },
  {
   "cell_type": "code",
   "execution_count": null,
   "id": "775ec564",
   "metadata": {},
   "outputs": [],
   "source": []
  },
  {
   "cell_type": "code",
   "execution_count": null,
   "id": "6e4c131a",
   "metadata": {},
   "outputs": [],
   "source": []
  },
  {
   "cell_type": "code",
   "execution_count": null,
   "id": "e3dac8e9",
   "metadata": {},
   "outputs": [],
   "source": []
  },
  {
   "cell_type": "code",
   "execution_count": null,
   "id": "4472d202",
   "metadata": {},
   "outputs": [],
   "source": []
  }
 ],
 "metadata": {
  "kernelspec": {
   "display_name": "Python 3",
   "language": "python",
   "name": "python3"
  },
  "language_info": {
   "codemirror_mode": {
    "name": "ipython",
    "version": 3
   },
   "file_extension": ".py",
   "mimetype": "text/x-python",
   "name": "python",
   "nbconvert_exporter": "python",
   "pygments_lexer": "ipython3",
   "version": "3.8.8"
  }
 },
 "nbformat": 4,
 "nbformat_minor": 5
}
