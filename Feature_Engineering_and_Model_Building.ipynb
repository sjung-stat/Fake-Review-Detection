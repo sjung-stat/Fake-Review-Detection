{
 "cells": [
  {
   "cell_type": "markdown",
   "id": "ba5884dd",
   "metadata": {},
   "source": [
    "<a id='FEMB'></a>\n",
    "\n",
    "# Restaurant Fake Review Detection # 3\n",
    "\n",
    "- __[Feature Engineering](#FE)__\n",
    "- __[Model Building](#MB)__\n",
    "\n",
    "    - [Text Analysis (CNN, LSTM)](#TA)\n",
    "\n",
    "    - [Classification Algorithms](#CA)\n",
    "    \n",
    "    \n",
    "To navigate to each section and subsection, please use this [link](https://nbviewer.jupyter.org/github/sjung-stat/Fake-Review-Detection/blob/main/Feature_Engineering_and_Model_Building.ipynb) where you can use embedded internal links within this notebook. "
   ]
  },
  {
   "cell_type": "markdown",
   "id": "f6070cd5",
   "metadata": {},
   "source": [
    "<a id='FE'></a>\n",
    "\n",
    "# Feature Engineering"
   ]
  },
  {
   "cell_type": "code",
   "execution_count": 1,
   "id": "a021a614",
   "metadata": {},
   "outputs": [],
   "source": [
    "# Import libraries required for analysis\n",
    "\n",
    "import sqlite3\n",
    "import pandas as pd\n",
    "import numpy as np\n",
    "import seaborn as sns\n",
    "import matplotlib.pyplot as plt\n",
    "from operator import attrgetter\n",
    "import re\n",
    "import string\n",
    "from sklearn.feature_extraction.text import CountVectorizer\n",
    "from wordcloud import WordCloud\n",
    "from textblob import TextBlob"
   ]
  },
  {
   "cell_type": "code",
   "execution_count": 2,
   "id": "306ae586",
   "metadata": {},
   "outputs": [],
   "source": [
    "df_join = pd.read_pickle(\"./org_df.pkl\")"
   ]
  },
  {
   "cell_type": "markdown",
   "id": "ed649451",
   "metadata": {},
   "source": [
    "\n"
   ]
  },
  {
   "cell_type": "markdown",
   "id": "feb31995",
   "metadata": {},
   "source": [
    "\n"
   ]
  },
  {
   "cell_type": "code",
   "execution_count": 3,
   "id": "e96fce7d",
   "metadata": {},
   "outputs": [],
   "source": [
    "# Find out the maximum number of reviews each reviewer has left in a day and drop the reviewerID.\n",
    "\n",
    "max_temp = df_join.groupby(['reviewerID','date'])['reviewerID'].count().reset_index(name='count')\n",
    "max_temp_new = max_temp.groupby(\"reviewerID\", as_index = False).max()\n",
    "\n",
    "df_join = pd.merge(df_join,\n",
    "                 max_temp_new[['reviewerID', 'count']],\n",
    "                 on='reviewerID')\n",
    "df_join.rename({'count': 'maxReview_a_day'}, axis=1, inplace=True)  # rename the count column"
   ]
  },
  {
   "cell_type": "code",
   "execution_count": 4,
   "id": "ed42e189",
   "metadata": {},
   "outputs": [
    {
     "data": {
      "text/html": [
       "<div>\n",
       "<style scoped>\n",
       "    .dataframe tbody tr th:only-of-type {\n",
       "        vertical-align: middle;\n",
       "    }\n",
       "\n",
       "    .dataframe tbody tr th {\n",
       "        vertical-align: top;\n",
       "    }\n",
       "\n",
       "    .dataframe thead th {\n",
       "        text-align: right;\n",
       "    }\n",
       "</style>\n",
       "<table border=\"1\" class=\"dataframe\">\n",
       "  <thead>\n",
       "    <tr style=\"text-align: right;\">\n",
       "      <th></th>\n",
       "      <th>date</th>\n",
       "      <th>reviewContent</th>\n",
       "      <th>rating</th>\n",
       "      <th>flagged</th>\n",
       "      <th>reviewer_location</th>\n",
       "      <th>yelpJoinDate</th>\n",
       "      <th>reviewer_friendCount</th>\n",
       "      <th>reviewer_reviewCount</th>\n",
       "      <th>reviewer_firstCount</th>\n",
       "      <th>reviewer_usefulCount</th>\n",
       "      <th>reviewer_coolCount</th>\n",
       "      <th>reviewer_funnyCount</th>\n",
       "      <th>reviewer_complimentCount</th>\n",
       "      <th>reviewer_tipCount</th>\n",
       "      <th>reviewer_fanCount</th>\n",
       "      <th>restaurant_reviewCount</th>\n",
       "      <th>restaurant_rating</th>\n",
       "      <th>categories</th>\n",
       "      <th>PriceRange</th>\n",
       "      <th>maxReview_a_day</th>\n",
       "    </tr>\n",
       "  </thead>\n",
       "  <tbody>\n",
       "    <tr>\n",
       "      <th>7226</th>\n",
       "      <td>2012-04-12</td>\n",
       "      <td>probably the best meal i have ever had everyth...</td>\n",
       "      <td>5</td>\n",
       "      <td>N</td>\n",
       "      <td>Chicago, IL</td>\n",
       "      <td>2006-01</td>\n",
       "      <td>8</td>\n",
       "      <td>48</td>\n",
       "      <td>0</td>\n",
       "      <td>7</td>\n",
       "      <td>2</td>\n",
       "      <td>2</td>\n",
       "      <td>0</td>\n",
       "      <td>0</td>\n",
       "      <td>0</td>\n",
       "      <td>841</td>\n",
       "      <td>4.5</td>\n",
       "      <td>Restaurants, American (New)</td>\n",
       "      <td>Over $61</td>\n",
       "      <td>12</td>\n",
       "    </tr>\n",
       "    <tr>\n",
       "      <th>7227</th>\n",
       "      <td>2012-04-12</td>\n",
       "      <td>great atmosphere nice wines try the homemade r...</td>\n",
       "      <td>4</td>\n",
       "      <td>N</td>\n",
       "      <td>Chicago, IL</td>\n",
       "      <td>2006-01</td>\n",
       "      <td>8</td>\n",
       "      <td>48</td>\n",
       "      <td>0</td>\n",
       "      <td>7</td>\n",
       "      <td>2</td>\n",
       "      <td>2</td>\n",
       "      <td>0</td>\n",
       "      <td>0</td>\n",
       "      <td>0</td>\n",
       "      <td>578</td>\n",
       "      <td>4.0</td>\n",
       "      <td>Restaurants, Italian</td>\n",
       "      <td>$11-30</td>\n",
       "      <td>12</td>\n",
       "    </tr>\n",
       "    <tr>\n",
       "      <th>7228</th>\n",
       "      <td>2012-04-12</td>\n",
       "      <td>very good homemade pasta wonderful outdoor sea...</td>\n",
       "      <td>4</td>\n",
       "      <td>N</td>\n",
       "      <td>Chicago, IL</td>\n",
       "      <td>2006-01</td>\n",
       "      <td>8</td>\n",
       "      <td>48</td>\n",
       "      <td>0</td>\n",
       "      <td>7</td>\n",
       "      <td>2</td>\n",
       "      <td>2</td>\n",
       "      <td>0</td>\n",
       "      <td>0</td>\n",
       "      <td>0</td>\n",
       "      <td>481</td>\n",
       "      <td>4.0</td>\n",
       "      <td>Restaurants, Italian</td>\n",
       "      <td>$31-60</td>\n",
       "      <td>12</td>\n",
       "    </tr>\n",
       "    <tr>\n",
       "      <th>7229</th>\n",
       "      <td>2012-04-12</td>\n",
       "      <td>their pizza is very good i dont like their atm...</td>\n",
       "      <td>3</td>\n",
       "      <td>N</td>\n",
       "      <td>Chicago, IL</td>\n",
       "      <td>2006-01</td>\n",
       "      <td>8</td>\n",
       "      <td>48</td>\n",
       "      <td>0</td>\n",
       "      <td>7</td>\n",
       "      <td>2</td>\n",
       "      <td>2</td>\n",
       "      <td>0</td>\n",
       "      <td>0</td>\n",
       "      <td>0</td>\n",
       "      <td>1543</td>\n",
       "      <td>4.0</td>\n",
       "      <td>Other</td>\n",
       "      <td>$11-30</td>\n",
       "      <td>12</td>\n",
       "    </tr>\n",
       "    <tr>\n",
       "      <th>7230</th>\n",
       "      <td>2012-04-12</td>\n",
       "      <td>great sandwiches worth the quickly moving line...</td>\n",
       "      <td>4</td>\n",
       "      <td>N</td>\n",
       "      <td>Chicago, IL</td>\n",
       "      <td>2006-01</td>\n",
       "      <td>8</td>\n",
       "      <td>48</td>\n",
       "      <td>0</td>\n",
       "      <td>7</td>\n",
       "      <td>2</td>\n",
       "      <td>2</td>\n",
       "      <td>0</td>\n",
       "      <td>0</td>\n",
       "      <td>0</td>\n",
       "      <td>1461</td>\n",
       "      <td>4.0</td>\n",
       "      <td>Restaurants, Mexican</td>\n",
       "      <td>$11-30</td>\n",
       "      <td>12</td>\n",
       "    </tr>\n",
       "    <tr>\n",
       "      <th>7231</th>\n",
       "      <td>2012-04-12</td>\n",
       "      <td>my favorite chinese restaurant in chicago best...</td>\n",
       "      <td>4</td>\n",
       "      <td>N</td>\n",
       "      <td>Chicago, IL</td>\n",
       "      <td>2006-01</td>\n",
       "      <td>8</td>\n",
       "      <td>48</td>\n",
       "      <td>0</td>\n",
       "      <td>7</td>\n",
       "      <td>2</td>\n",
       "      <td>2</td>\n",
       "      <td>0</td>\n",
       "      <td>0</td>\n",
       "      <td>0</td>\n",
       "      <td>607</td>\n",
       "      <td>4.0</td>\n",
       "      <td>Restaurants, Chinese</td>\n",
       "      <td>$11-30</td>\n",
       "      <td>12</td>\n",
       "    </tr>\n",
       "    <tr>\n",
       "      <th>7232</th>\n",
       "      <td>2012-04-12</td>\n",
       "      <td>i started out liking this place much more but ...</td>\n",
       "      <td>3</td>\n",
       "      <td>N</td>\n",
       "      <td>Chicago, IL</td>\n",
       "      <td>2006-01</td>\n",
       "      <td>8</td>\n",
       "      <td>48</td>\n",
       "      <td>0</td>\n",
       "      <td>7</td>\n",
       "      <td>2</td>\n",
       "      <td>2</td>\n",
       "      <td>0</td>\n",
       "      <td>0</td>\n",
       "      <td>0</td>\n",
       "      <td>947</td>\n",
       "      <td>4.0</td>\n",
       "      <td>Other</td>\n",
       "      <td>$11-30</td>\n",
       "      <td>12</td>\n",
       "    </tr>\n",
       "    <tr>\n",
       "      <th>7233</th>\n",
       "      <td>2012-04-12</td>\n",
       "      <td>this place is steady its got a nice fun atmosp...</td>\n",
       "      <td>4</td>\n",
       "      <td>N</td>\n",
       "      <td>Chicago, IL</td>\n",
       "      <td>2006-01</td>\n",
       "      <td>8</td>\n",
       "      <td>48</td>\n",
       "      <td>0</td>\n",
       "      <td>7</td>\n",
       "      <td>2</td>\n",
       "      <td>2</td>\n",
       "      <td>0</td>\n",
       "      <td>0</td>\n",
       "      <td>0</td>\n",
       "      <td>702</td>\n",
       "      <td>4.0</td>\n",
       "      <td>Other</td>\n",
       "      <td>$31-60</td>\n",
       "      <td>12</td>\n",
       "    </tr>\n",
       "    <tr>\n",
       "      <th>7234</th>\n",
       "      <td>2012-04-12</td>\n",
       "      <td>uninspired nice atmosphere and service but the...</td>\n",
       "      <td>3</td>\n",
       "      <td>N</td>\n",
       "      <td>Chicago, IL</td>\n",
       "      <td>2006-01</td>\n",
       "      <td>8</td>\n",
       "      <td>48</td>\n",
       "      <td>0</td>\n",
       "      <td>7</td>\n",
       "      <td>2</td>\n",
       "      <td>2</td>\n",
       "      <td>0</td>\n",
       "      <td>0</td>\n",
       "      <td>0</td>\n",
       "      <td>581</td>\n",
       "      <td>4.0</td>\n",
       "      <td>Restaurants, American (New)</td>\n",
       "      <td>Over $61</td>\n",
       "      <td>12</td>\n",
       "    </tr>\n",
       "    <tr>\n",
       "      <th>7235</th>\n",
       "      <td>2012-04-12</td>\n",
       "      <td>if you can get over the occasionally terrible ...</td>\n",
       "      <td>4</td>\n",
       "      <td>N</td>\n",
       "      <td>Chicago, IL</td>\n",
       "      <td>2006-01</td>\n",
       "      <td>8</td>\n",
       "      <td>48</td>\n",
       "      <td>0</td>\n",
       "      <td>7</td>\n",
       "      <td>2</td>\n",
       "      <td>2</td>\n",
       "      <td>0</td>\n",
       "      <td>0</td>\n",
       "      <td>0</td>\n",
       "      <td>684</td>\n",
       "      <td>3.5</td>\n",
       "      <td>Other</td>\n",
       "      <td>$11-30</td>\n",
       "      <td>12</td>\n",
       "    </tr>\n",
       "    <tr>\n",
       "      <th>7236</th>\n",
       "      <td>2012-04-12</td>\n",
       "      <td>good pho nothing amazing but good pho</td>\n",
       "      <td>3</td>\n",
       "      <td>N</td>\n",
       "      <td>Chicago, IL</td>\n",
       "      <td>2006-01</td>\n",
       "      <td>8</td>\n",
       "      <td>48</td>\n",
       "      <td>0</td>\n",
       "      <td>7</td>\n",
       "      <td>2</td>\n",
       "      <td>2</td>\n",
       "      <td>0</td>\n",
       "      <td>0</td>\n",
       "      <td>0</td>\n",
       "      <td>800</td>\n",
       "      <td>4.0</td>\n",
       "      <td>Other</td>\n",
       "      <td>Under $10</td>\n",
       "      <td>12</td>\n",
       "    </tr>\n",
       "    <tr>\n",
       "      <th>7237</th>\n",
       "      <td>2012-04-12</td>\n",
       "      <td>overrated for brunch really didnt love the food</td>\n",
       "      <td>3</td>\n",
       "      <td>N</td>\n",
       "      <td>Chicago, IL</td>\n",
       "      <td>2006-01</td>\n",
       "      <td>8</td>\n",
       "      <td>48</td>\n",
       "      <td>0</td>\n",
       "      <td>7</td>\n",
       "      <td>2</td>\n",
       "      <td>2</td>\n",
       "      <td>0</td>\n",
       "      <td>0</td>\n",
       "      <td>0</td>\n",
       "      <td>1303</td>\n",
       "      <td>4.0</td>\n",
       "      <td>Other</td>\n",
       "      <td>$31-60</td>\n",
       "      <td>12</td>\n",
       "    </tr>\n",
       "  </tbody>\n",
       "</table>\n",
       "</div>"
      ],
      "text/plain": [
       "           date                                      reviewContent  rating  \\\n",
       "7226 2012-04-12  probably the best meal i have ever had everyth...       5   \n",
       "7227 2012-04-12  great atmosphere nice wines try the homemade r...       4   \n",
       "7228 2012-04-12  very good homemade pasta wonderful outdoor sea...       4   \n",
       "7229 2012-04-12  their pizza is very good i dont like their atm...       3   \n",
       "7230 2012-04-12  great sandwiches worth the quickly moving line...       4   \n",
       "7231 2012-04-12  my favorite chinese restaurant in chicago best...       4   \n",
       "7232 2012-04-12  i started out liking this place much more but ...       3   \n",
       "7233 2012-04-12  this place is steady its got a nice fun atmosp...       4   \n",
       "7234 2012-04-12  uninspired nice atmosphere and service but the...       3   \n",
       "7235 2012-04-12  if you can get over the occasionally terrible ...       4   \n",
       "7236 2012-04-12              good pho nothing amazing but good pho       3   \n",
       "7237 2012-04-12    overrated for brunch really didnt love the food       3   \n",
       "\n",
       "     flagged reviewer_location yelpJoinDate  reviewer_friendCount  \\\n",
       "7226       N       Chicago, IL      2006-01                     8   \n",
       "7227       N       Chicago, IL      2006-01                     8   \n",
       "7228       N       Chicago, IL      2006-01                     8   \n",
       "7229       N       Chicago, IL      2006-01                     8   \n",
       "7230       N       Chicago, IL      2006-01                     8   \n",
       "7231       N       Chicago, IL      2006-01                     8   \n",
       "7232       N       Chicago, IL      2006-01                     8   \n",
       "7233       N       Chicago, IL      2006-01                     8   \n",
       "7234       N       Chicago, IL      2006-01                     8   \n",
       "7235       N       Chicago, IL      2006-01                     8   \n",
       "7236       N       Chicago, IL      2006-01                     8   \n",
       "7237       N       Chicago, IL      2006-01                     8   \n",
       "\n",
       "      reviewer_reviewCount  reviewer_firstCount  reviewer_usefulCount  \\\n",
       "7226                    48                    0                     7   \n",
       "7227                    48                    0                     7   \n",
       "7228                    48                    0                     7   \n",
       "7229                    48                    0                     7   \n",
       "7230                    48                    0                     7   \n",
       "7231                    48                    0                     7   \n",
       "7232                    48                    0                     7   \n",
       "7233                    48                    0                     7   \n",
       "7234                    48                    0                     7   \n",
       "7235                    48                    0                     7   \n",
       "7236                    48                    0                     7   \n",
       "7237                    48                    0                     7   \n",
       "\n",
       "      reviewer_coolCount  reviewer_funnyCount  reviewer_complimentCount  \\\n",
       "7226                   2                    2                         0   \n",
       "7227                   2                    2                         0   \n",
       "7228                   2                    2                         0   \n",
       "7229                   2                    2                         0   \n",
       "7230                   2                    2                         0   \n",
       "7231                   2                    2                         0   \n",
       "7232                   2                    2                         0   \n",
       "7233                   2                    2                         0   \n",
       "7234                   2                    2                         0   \n",
       "7235                   2                    2                         0   \n",
       "7236                   2                    2                         0   \n",
       "7237                   2                    2                         0   \n",
       "\n",
       "      reviewer_tipCount  reviewer_fanCount  restaurant_reviewCount  \\\n",
       "7226                  0                  0                     841   \n",
       "7227                  0                  0                     578   \n",
       "7228                  0                  0                     481   \n",
       "7229                  0                  0                    1543   \n",
       "7230                  0                  0                    1461   \n",
       "7231                  0                  0                     607   \n",
       "7232                  0                  0                     947   \n",
       "7233                  0                  0                     702   \n",
       "7234                  0                  0                     581   \n",
       "7235                  0                  0                     684   \n",
       "7236                  0                  0                     800   \n",
       "7237                  0                  0                    1303   \n",
       "\n",
       "      restaurant_rating                   categories PriceRange  \\\n",
       "7226                4.5  Restaurants, American (New)   Over $61   \n",
       "7227                4.0         Restaurants, Italian     $11-30   \n",
       "7228                4.0         Restaurants, Italian     $31-60   \n",
       "7229                4.0                        Other     $11-30   \n",
       "7230                4.0         Restaurants, Mexican     $11-30   \n",
       "7231                4.0         Restaurants, Chinese     $11-30   \n",
       "7232                4.0                        Other     $11-30   \n",
       "7233                4.0                        Other     $31-60   \n",
       "7234                4.0  Restaurants, American (New)   Over $61   \n",
       "7235                3.5                        Other     $11-30   \n",
       "7236                4.0                        Other  Under $10   \n",
       "7237                4.0                        Other     $31-60   \n",
       "\n",
       "      maxReview_a_day  \n",
       "7226               12  \n",
       "7227               12  \n",
       "7228               12  \n",
       "7229               12  \n",
       "7230               12  \n",
       "7231               12  \n",
       "7232               12  \n",
       "7233               12  \n",
       "7234               12  \n",
       "7235               12  \n",
       "7236               12  \n",
       "7237               12  "
      ]
     },
     "execution_count": 4,
     "metadata": {},
     "output_type": "execute_result"
    }
   ],
   "source": [
    "# Reviews left by a reviewer whose maxReview_a_day = 12\n",
    "\n",
    "max_review = df_join.loc[df_join['maxReview_a_day'].idxmax()].reviewerID   \n",
    "df_join.loc[df_join['reviewerID']==max_review, df_join.columns != 'reviewerID']"
   ]
  },
  {
   "cell_type": "markdown",
   "id": "ec4c08d3",
   "metadata": {},
   "source": [
    "\n"
   ]
  },
  {
   "cell_type": "markdown",
   "id": "2c0a7718",
   "metadata": {},
   "source": [
    "\n"
   ]
  },
  {
   "cell_type": "code",
   "execution_count": 5,
   "id": "1eacf75f",
   "metadata": {},
   "outputs": [],
   "source": [
    "# Calcuate the standard deviation of ratings of each reviewer.\n",
    "\n",
    "meansd = df_join.groupby(['reviewerID'], as_index=False).agg({'rating':['std']})\n",
    "meansd.columns = ['reviewerID', 'rating_std']\n",
    "df_join = pd.merge(df_join, meansd[['reviewerID', 'rating_std']], on='reviewerID')\n",
    "\n",
    "df_join['rating_std'] = df_join['rating_std'].fillna(0)"
   ]
  },
  {
   "cell_type": "markdown",
   "id": "fd93ede4",
   "metadata": {},
   "source": [
    "\n"
   ]
  },
  {
   "cell_type": "markdown",
   "id": "613d8a25",
   "metadata": {},
   "source": [
    "\n"
   ]
  },
  {
   "cell_type": "code",
   "execution_count": 6,
   "id": "2fea1dc7",
   "metadata": {},
   "outputs": [],
   "source": [
    "# Calculate the time differences between 'date' and 'yelpJoinDate', and remove 'yelpJoinDate' and 'date_mo_yr'. \n",
    "\n",
    "df_join['date_mo_yr'] = pd.to_datetime(df_join['date']).dt.to_period('M')\n",
    "df_join['sinceJoin_months'] = (df_join['date_mo_yr'] - df_join['yelpJoinDate']).apply(attrgetter('n'))\n",
    "\n",
    "df_join = df_join.drop(['yelpJoinDate', 'date_mo_yr'], axis=1)"
   ]
  },
  {
   "cell_type": "markdown",
   "id": "125c1abc",
   "metadata": {},
   "source": [
    "\n"
   ]
  },
  {
   "cell_type": "markdown",
   "id": "d4e1c103",
   "metadata": {},
   "source": [
    "\n"
   ]
  },
  {
   "cell_type": "code",
   "execution_count": 7,
   "id": "c35c7d41",
   "metadata": {},
   "outputs": [],
   "source": [
    "# Count the number of words and uppercase letters in each reviewContent.\n",
    "\n",
    "df_join['wordCount'] = df_join.reviewContent.apply(lambda x: len(x.split()))\n",
    "df_join['uppercaseCount'] = df_join.reviewContent.apply(lambda x: sum(1 for c in x if c.isupper()))"
   ]
  },
  {
   "cell_type": "markdown",
   "id": "ba9da626",
   "metadata": {},
   "source": [
    "\n"
   ]
  },
  {
   "cell_type": "markdown",
   "id": "af504e95",
   "metadata": {},
   "source": [
    "\n"
   ]
  },
  {
   "cell_type": "markdown",
   "id": "4dad6c79",
   "metadata": {},
   "source": [
    "Most of the reviewers are in Chicago, IL. Rather than having all infrequent location information, create a new column 'reviewer_restaurant_loc_match' to indicate whether reviewers are in Chicago or not as the restaurants in this dataset are in the Chicago area. "
   ]
  },
  {
   "cell_type": "code",
   "execution_count": 8,
   "id": "5c6212a4",
   "metadata": {},
   "outputs": [],
   "source": [
    "# Rename 'reviewer_location' to 'reviewer_restaurant_loc_match'\n",
    "df_join.rename(columns = {'reviewer_location':'reviewer_restaurant_loc_match'}, inplace = True)\n",
    "\n",
    "# Compare reviewer's location & restuarant location (Chicago, IL) and see if they match (Y/N)\n",
    "for i in range(df_join.shape[0]):\n",
    "    if df_join.loc[df_join.index[i], 'reviewer_restaurant_loc_match'] == 'Chicago, IL':\n",
    "        df_join.loc[df_join.index[i], 'reviewer_restaurant_loc_match'] = 'Y'\n",
    "    else:\n",
    "        df_join.loc[df_join.index[i], 'reviewer_restaurant_loc_match'] = 'N'"
   ]
  },
  {
   "cell_type": "markdown",
   "id": "99756c1e",
   "metadata": {},
   "source": [
    "\n"
   ]
  },
  {
   "cell_type": "markdown",
   "id": "7342ce71",
   "metadata": {},
   "source": [
    "\n"
   ]
  },
  {
   "cell_type": "code",
   "execution_count": 9,
   "id": "dfbb7ea2",
   "metadata": {},
   "outputs": [],
   "source": [
    "# Create two columns (polarity and subjectivity) using sentiment analysis with review contents.\n",
    "\n",
    "pol = lambda x: TextBlob(x).sentiment.polarity\n",
    "sub = lambda x: TextBlob(x).sentiment.subjectivity\n",
    "\n",
    "df_join[\"polarity\"] = df_join[\"reviewContent\"].apply(pol)\n",
    "df_join[\"subjectivity\"] = df_join[\"reviewContent\"].apply(sub)"
   ]
  },
  {
   "cell_type": "markdown",
   "id": "4c39ef3f",
   "metadata": {},
   "source": [
    "\n"
   ]
  },
  {
   "cell_type": "markdown",
   "id": "4324387f",
   "metadata": {},
   "source": [
    "\n"
   ]
  },
  {
   "cell_type": "markdown",
   "id": "06da062c",
   "metadata": {},
   "source": [
    "The 'reviewer_usefulCount', 'reviewer_coolCount', 'reviewer_funnyCount', 'reviewer_complimentCount', 'reviewer_tipCount' have very high correlations with each other. Hence, we create a new feature 'reviewer_upvoteCount' by summing the above features, and drop them to avoid multicolliearity."
   ]
  },
  {
   "cell_type": "code",
   "execution_count": 10,
   "id": "5c04fb56",
   "metadata": {},
   "outputs": [],
   "source": [
    "# Drop columns to avoid multicolliearity. \n",
    "\n",
    "df_join['reviewer_upvoteCount'] = df_join['reviewer_usefulCount'] + df_join['reviewer_coolCount'] + df_join['reviewer_funnyCount'] + df_join['reviewer_complimentCount'] + df_join['reviewer_tipCount']\n",
    "df_join = df_join.drop(['reviewer_usefulCount', 'reviewer_coolCount', 'reviewer_funnyCount', 'reviewer_complimentCount', 'reviewer_tipCount'], axis=1)"
   ]
  },
  {
   "cell_type": "markdown",
   "id": "66670d1f",
   "metadata": {},
   "source": [
    "\n"
   ]
  },
  {
   "cell_type": "markdown",
   "id": "d366cd9d",
   "metadata": {},
   "source": [
    "\n"
   ]
  },
  {
   "cell_type": "markdown",
   "id": "ca33bbc3",
   "metadata": {},
   "source": [
    "Also, the 'reviewer_fanCount' and 'reviewer_friendCount' have a correlation of 0.89. Both of them represent the number of connections of each reviewer. We keep the 'reviewer_friendCount' and drop the 'reviewer_fanCount'."
   ]
  },
  {
   "cell_type": "code",
   "execution_count": 11,
   "id": "f955562e",
   "metadata": {},
   "outputs": [],
   "source": [
    "# Drop the 'reviewer_fanCount'.\n",
    "\n",
    "df_join = df_join.drop(['reviewer_fanCount'], axis=1)"
   ]
  },
  {
   "cell_type": "markdown",
   "id": "88255abf",
   "metadata": {},
   "source": [
    "\n"
   ]
  },
  {
   "cell_type": "markdown",
   "id": "154b8593",
   "metadata": {},
   "source": [
    "\n"
   ]
  },
  {
   "cell_type": "code",
   "execution_count": 12,
   "id": "b1a7920f",
   "metadata": {},
   "outputs": [],
   "source": [
    "# Create 'month', 'day', 'weekday' columns using the 'date' column. \n",
    "\n",
    "df_join['month'] = df_join.date.dt.month\n",
    "df_join['day'] = df_join.date.dt.day\n",
    "df_join['weekday'] = df_join.date.dt.day_name()"
   ]
  },
  {
   "cell_type": "markdown",
   "id": "29f763cf",
   "metadata": {},
   "source": [
    "\n"
   ]
  },
  {
   "cell_type": "markdown",
   "id": "12c1d2d8",
   "metadata": {},
   "source": [
    "\n"
   ]
  },
  {
   "cell_type": "code",
   "execution_count": 13,
   "id": "a7ccc3f6",
   "metadata": {},
   "outputs": [],
   "source": [
    "# Lastly, drop 'reviewerID' and 'date'. \n",
    "\n",
    "df_join = df_join.drop(['reviewerID', 'date'], axis=1)"
   ]
  },
  {
   "cell_type": "markdown",
   "id": "af07e6e7",
   "metadata": {},
   "source": [
    "\n"
   ]
  },
  {
   "cell_type": "markdown",
   "id": "2383a5d5",
   "metadata": {},
   "source": [
    "\n"
   ]
  },
  {
   "cell_type": "code",
   "execution_count": 14,
   "id": "7eb2655b",
   "metadata": {},
   "outputs": [],
   "source": [
    "# One Hot Encoding (3 attributes)\n",
    "df_encoded = pd.get_dummies(data=df_join, columns=['categories', 'PriceRange', 'weekday'])\n",
    "\n",
    "\n",
    "\n",
    "# Label Encoding (1 attribute, 1 class)\n",
    "from sklearn import preprocessing\n",
    "\n",
    "le = preprocessing.LabelEncoder()\n",
    "df_encoded['reviewer_restaurant_loc_match'] = le.fit_transform(df_encoded.reviewer_restaurant_loc_match.values)\n",
    "\n",
    "le = preprocessing.LabelEncoder()\n",
    "df_encoded['flagged'] = le.fit_transform(df_encoded.flagged.values)\n"
   ]
  },
  {
   "cell_type": "markdown",
   "id": "994322df",
   "metadata": {},
   "source": [
    "\n"
   ]
  },
  {
   "cell_type": "markdown",
   "id": "9f5891b0",
   "metadata": {},
   "source": [
    "\n"
   ]
  },
  {
   "cell_type": "markdown",
   "id": "ac122d66",
   "metadata": {},
   "source": [
    "Now we have 37 attributes including the response with approximately 27,000 reviews. "
   ]
  },
  {
   "cell_type": "code",
   "execution_count": 15,
   "id": "1d705687",
   "metadata": {},
   "outputs": [
    {
     "name": "stdout",
     "output_type": "stream",
     "text": [
      "<class 'pandas.core.frame.DataFrame'>\n",
      "Int64Index: 26956 entries, 0 to 26955\n",
      "Data columns (total 38 columns):\n",
      " #   Column                                   Non-Null Count  Dtype  \n",
      "---  ------                                   --------------  -----  \n",
      " 0   reviewContent                            26956 non-null  object \n",
      " 1   rating                                   26956 non-null  int64  \n",
      " 2   flagged                                  26956 non-null  int32  \n",
      " 3   reviewer_restaurant_loc_match            26956 non-null  int32  \n",
      " 4   reviewer_friendCount                     26956 non-null  int64  \n",
      " 5   reviewer_reviewCount                     26956 non-null  int64  \n",
      " 6   reviewer_firstCount                      26956 non-null  int64  \n",
      " 7   restaurant_reviewCount                   26956 non-null  int64  \n",
      " 8   restaurant_rating                        26956 non-null  float64\n",
      " 9   maxReview_a_day                          26956 non-null  int64  \n",
      " 10  rating_std                               26956 non-null  float64\n",
      " 11  sinceJoin_months                         26956 non-null  int64  \n",
      " 12  wordCount                                26956 non-null  int64  \n",
      " 13  uppercaseCount                           26956 non-null  int64  \n",
      " 14  polarity                                 26956 non-null  float64\n",
      " 15  subjectivity                             26956 non-null  float64\n",
      " 16  reviewer_upvoteCount                     26956 non-null  int64  \n",
      " 17  month                                    26956 non-null  int64  \n",
      " 18  day                                      26956 non-null  int64  \n",
      " 19  categories_Other                         26956 non-null  uint8  \n",
      " 20  categories_Restaurants, American (New)   26956 non-null  uint8  \n",
      " 21  categories_Restaurants, Chinese          26956 non-null  uint8  \n",
      " 22  categories_Restaurants, Italian          26956 non-null  uint8  \n",
      " 23  categories_Restaurants, Mexican          26956 non-null  uint8  \n",
      " 24  categories_Restaurants, Modern European  26956 non-null  uint8  \n",
      " 25  categories_Restaurants, Pizza            26956 non-null  uint8  \n",
      " 26  categories_Restaurants, Steakhouses      26956 non-null  uint8  \n",
      " 27  PriceRange_$11-30                        26956 non-null  uint8  \n",
      " 28  PriceRange_$31-60                        26956 non-null  uint8  \n",
      " 29  PriceRange_Over $61                      26956 non-null  uint8  \n",
      " 30  PriceRange_Under $10                     26956 non-null  uint8  \n",
      " 31  weekday_Friday                           26956 non-null  uint8  \n",
      " 32  weekday_Monday                           26956 non-null  uint8  \n",
      " 33  weekday_Saturday                         26956 non-null  uint8  \n",
      " 34  weekday_Sunday                           26956 non-null  uint8  \n",
      " 35  weekday_Thursday                         26956 non-null  uint8  \n",
      " 36  weekday_Tuesday                          26956 non-null  uint8  \n",
      " 37  weekday_Wednesday                        26956 non-null  uint8  \n",
      "dtypes: float64(4), int32(2), int64(12), object(1), uint8(19)\n",
      "memory usage: 5.4+ MB\n"
     ]
    }
   ],
   "source": [
    "df_encoded.info()"
   ]
  },
  {
   "cell_type": "markdown",
   "id": "18cb18a8",
   "metadata": {},
   "source": [
    "\n"
   ]
  },
  {
   "cell_type": "markdown",
   "id": "abca0485",
   "metadata": {},
   "source": [
    "\n"
   ]
  },
  {
   "cell_type": "code",
   "execution_count": 16,
   "id": "0c065622",
   "metadata": {},
   "outputs": [
    {
     "name": "stdout",
     "output_type": "stream",
     "text": [
      "(20217, 37) (6739, 37) (20217,) (6739,)\n"
     ]
    }
   ],
   "source": [
    "# Split data into training and test sets.\n",
    "\n",
    "from sklearn.model_selection import train_test_split\n",
    "from sklearn.metrics import classification_report\n",
    "\n",
    "\n",
    "X = df_encoded.drop(['flagged'], axis=1)\n",
    "Y = df_encoded['flagged'].values\n",
    "\n",
    "X_train, X_test, Y_train, Y_test = train_test_split(X, Y, test_size=0.25, random_state=42)\n",
    "print(X_train.shape, X_test.shape, Y_train.shape, Y_test.shape)"
   ]
  },
  {
   "cell_type": "markdown",
   "id": "f143ec5b",
   "metadata": {},
   "source": [
    "\n"
   ]
  },
  {
   "cell_type": "markdown",
   "id": "5683e291",
   "metadata": {},
   "source": [
    "\n"
   ]
  },
  {
   "cell_type": "code",
   "execution_count": 17,
   "id": "fcb8a62c",
   "metadata": {},
   "outputs": [],
   "source": [
    "# Separate 'reviewContent' from the training and test sets.\n",
    "\n",
    "X_train_num_cat = X_train.drop('reviewContent', axis=1)\n",
    "X_train_text = X_train['reviewContent'].copy()\n",
    "\n",
    "X_test_num_cat = X_test.drop('reviewContent', axis=1)\n",
    "X_test_text = X_test['reviewContent'].copy()"
   ]
  },
  {
   "cell_type": "markdown",
   "id": "f38f6bbe",
   "metadata": {},
   "source": [
    "\n"
   ]
  },
  {
   "cell_type": "markdown",
   "id": "dd6d9159",
   "metadata": {},
   "source": [
    "\n"
   ]
  },
  {
   "cell_type": "code",
   "execution_count": 18,
   "id": "1b00a27f",
   "metadata": {},
   "outputs": [],
   "source": [
    "# Feature scaling (min-max sclaing)\n",
    "\n",
    "from sklearn.preprocessing import MinMaxScaler\n",
    "from pandas import DataFrame\n",
    "\n",
    "minmaxscale = MinMaxScaler()\n",
    "\n",
    "col_names = X_train_num_cat.columns\n",
    "\n",
    "X_train_num_cat_scaled = minmaxscale.fit_transform(X_train_num_cat)\n",
    "X_train_num_cat_scaled = DataFrame(X_train_num_cat_scaled, columns = col_names)\n",
    "\n",
    "X_test_num_cat_scaled = minmaxscale.transform(X_test_num_cat)\n",
    "X_test_num_cat_scaled = DataFrame(X_test_num_cat_scaled, columns = col_names)"
   ]
  },
  {
   "cell_type": "code",
   "execution_count": 19,
   "id": "43435073",
   "metadata": {},
   "outputs": [
    {
     "data": {
      "text/html": [
       "<div>\n",
       "<style scoped>\n",
       "    .dataframe tbody tr th:only-of-type {\n",
       "        vertical-align: middle;\n",
       "    }\n",
       "\n",
       "    .dataframe tbody tr th {\n",
       "        vertical-align: top;\n",
       "    }\n",
       "\n",
       "    .dataframe thead th {\n",
       "        text-align: right;\n",
       "    }\n",
       "</style>\n",
       "<table border=\"1\" class=\"dataframe\">\n",
       "  <thead>\n",
       "    <tr style=\"text-align: right;\">\n",
       "      <th></th>\n",
       "      <th>rating</th>\n",
       "      <th>reviewer_restaurant_loc_match</th>\n",
       "      <th>reviewer_friendCount</th>\n",
       "      <th>reviewer_reviewCount</th>\n",
       "      <th>reviewer_firstCount</th>\n",
       "      <th>restaurant_reviewCount</th>\n",
       "      <th>restaurant_rating</th>\n",
       "      <th>maxReview_a_day</th>\n",
       "      <th>rating_std</th>\n",
       "      <th>sinceJoin_months</th>\n",
       "      <th>...</th>\n",
       "      <th>PriceRange_$31-60</th>\n",
       "      <th>PriceRange_Over $61</th>\n",
       "      <th>PriceRange_Under $10</th>\n",
       "      <th>weekday_Friday</th>\n",
       "      <th>weekday_Monday</th>\n",
       "      <th>weekday_Saturday</th>\n",
       "      <th>weekday_Sunday</th>\n",
       "      <th>weekday_Thursday</th>\n",
       "      <th>weekday_Tuesday</th>\n",
       "      <th>weekday_Wednesday</th>\n",
       "    </tr>\n",
       "  </thead>\n",
       "  <tbody>\n",
       "    <tr>\n",
       "      <th>0</th>\n",
       "      <td>0.50</td>\n",
       "      <td>0.0</td>\n",
       "      <td>0.002975</td>\n",
       "      <td>0.020307</td>\n",
       "      <td>0.003476</td>\n",
       "      <td>0.268339</td>\n",
       "      <td>0.000000</td>\n",
       "      <td>0.0</td>\n",
       "      <td>0.000000</td>\n",
       "      <td>0.317647</td>\n",
       "      <td>...</td>\n",
       "      <td>0.0</td>\n",
       "      <td>0.0</td>\n",
       "      <td>0.0</td>\n",
       "      <td>0.0</td>\n",
       "      <td>0.0</td>\n",
       "      <td>0.0</td>\n",
       "      <td>0.0</td>\n",
       "      <td>0.0</td>\n",
       "      <td>1.0</td>\n",
       "      <td>0.0</td>\n",
       "    </tr>\n",
       "    <tr>\n",
       "      <th>1</th>\n",
       "      <td>0.00</td>\n",
       "      <td>1.0</td>\n",
       "      <td>0.000000</td>\n",
       "      <td>0.005364</td>\n",
       "      <td>0.001159</td>\n",
       "      <td>0.443919</td>\n",
       "      <td>0.333333</td>\n",
       "      <td>0.0</td>\n",
       "      <td>0.000000</td>\n",
       "      <td>0.352941</td>\n",
       "      <td>...</td>\n",
       "      <td>0.0</td>\n",
       "      <td>0.0</td>\n",
       "      <td>0.0</td>\n",
       "      <td>0.0</td>\n",
       "      <td>1.0</td>\n",
       "      <td>0.0</td>\n",
       "      <td>0.0</td>\n",
       "      <td>0.0</td>\n",
       "      <td>0.0</td>\n",
       "      <td>0.0</td>\n",
       "    </tr>\n",
       "    <tr>\n",
       "      <th>2</th>\n",
       "      <td>1.00</td>\n",
       "      <td>1.0</td>\n",
       "      <td>0.001275</td>\n",
       "      <td>0.039847</td>\n",
       "      <td>0.002317</td>\n",
       "      <td>0.191197</td>\n",
       "      <td>0.333333</td>\n",
       "      <td>0.0</td>\n",
       "      <td>0.350382</td>\n",
       "      <td>0.047059</td>\n",
       "      <td>...</td>\n",
       "      <td>0.0</td>\n",
       "      <td>0.0</td>\n",
       "      <td>0.0</td>\n",
       "      <td>1.0</td>\n",
       "      <td>0.0</td>\n",
       "      <td>0.0</td>\n",
       "      <td>0.0</td>\n",
       "      <td>0.0</td>\n",
       "      <td>0.0</td>\n",
       "      <td>0.0</td>\n",
       "    </tr>\n",
       "    <tr>\n",
       "      <th>3</th>\n",
       "      <td>0.75</td>\n",
       "      <td>1.0</td>\n",
       "      <td>0.002125</td>\n",
       "      <td>0.001149</td>\n",
       "      <td>0.000000</td>\n",
       "      <td>0.426881</td>\n",
       "      <td>0.333333</td>\n",
       "      <td>0.0</td>\n",
       "      <td>0.000000</td>\n",
       "      <td>0.000000</td>\n",
       "      <td>...</td>\n",
       "      <td>1.0</td>\n",
       "      <td>0.0</td>\n",
       "      <td>0.0</td>\n",
       "      <td>0.0</td>\n",
       "      <td>0.0</td>\n",
       "      <td>0.0</td>\n",
       "      <td>1.0</td>\n",
       "      <td>0.0</td>\n",
       "      <td>0.0</td>\n",
       "      <td>0.0</td>\n",
       "    </tr>\n",
       "    <tr>\n",
       "      <th>4</th>\n",
       "      <td>0.75</td>\n",
       "      <td>1.0</td>\n",
       "      <td>0.000000</td>\n",
       "      <td>0.007280</td>\n",
       "      <td>0.002317</td>\n",
       "      <td>0.158069</td>\n",
       "      <td>0.333333</td>\n",
       "      <td>0.0</td>\n",
       "      <td>0.000000</td>\n",
       "      <td>0.564706</td>\n",
       "      <td>...</td>\n",
       "      <td>0.0</td>\n",
       "      <td>0.0</td>\n",
       "      <td>0.0</td>\n",
       "      <td>0.0</td>\n",
       "      <td>1.0</td>\n",
       "      <td>0.0</td>\n",
       "      <td>0.0</td>\n",
       "      <td>0.0</td>\n",
       "      <td>0.0</td>\n",
       "      <td>0.0</td>\n",
       "    </tr>\n",
       "  </tbody>\n",
       "</table>\n",
       "<p>5 rows × 36 columns</p>\n",
       "</div>"
      ],
      "text/plain": [
       "   rating  reviewer_restaurant_loc_match  reviewer_friendCount  \\\n",
       "0    0.50                            0.0              0.002975   \n",
       "1    0.00                            1.0              0.000000   \n",
       "2    1.00                            1.0              0.001275   \n",
       "3    0.75                            1.0              0.002125   \n",
       "4    0.75                            1.0              0.000000   \n",
       "\n",
       "   reviewer_reviewCount  reviewer_firstCount  restaurant_reviewCount  \\\n",
       "0              0.020307             0.003476                0.268339   \n",
       "1              0.005364             0.001159                0.443919   \n",
       "2              0.039847             0.002317                0.191197   \n",
       "3              0.001149             0.000000                0.426881   \n",
       "4              0.007280             0.002317                0.158069   \n",
       "\n",
       "   restaurant_rating  maxReview_a_day  rating_std  sinceJoin_months  ...  \\\n",
       "0           0.000000              0.0    0.000000          0.317647  ...   \n",
       "1           0.333333              0.0    0.000000          0.352941  ...   \n",
       "2           0.333333              0.0    0.350382          0.047059  ...   \n",
       "3           0.333333              0.0    0.000000          0.000000  ...   \n",
       "4           0.333333              0.0    0.000000          0.564706  ...   \n",
       "\n",
       "   PriceRange_$31-60  PriceRange_Over $61  PriceRange_Under $10  \\\n",
       "0                0.0                  0.0                   0.0   \n",
       "1                0.0                  0.0                   0.0   \n",
       "2                0.0                  0.0                   0.0   \n",
       "3                1.0                  0.0                   0.0   \n",
       "4                0.0                  0.0                   0.0   \n",
       "\n",
       "   weekday_Friday  weekday_Monday  weekday_Saturday  weekday_Sunday  \\\n",
       "0             0.0             0.0               0.0             0.0   \n",
       "1             0.0             1.0               0.0             0.0   \n",
       "2             1.0             0.0               0.0             0.0   \n",
       "3             0.0             0.0               0.0             1.0   \n",
       "4             0.0             1.0               0.0             0.0   \n",
       "\n",
       "   weekday_Thursday  weekday_Tuesday  weekday_Wednesday  \n",
       "0               0.0              1.0                0.0  \n",
       "1               0.0              0.0                0.0  \n",
       "2               0.0              0.0                0.0  \n",
       "3               0.0              0.0                0.0  \n",
       "4               0.0              0.0                0.0  \n",
       "\n",
       "[5 rows x 36 columns]"
      ]
     },
     "execution_count": 19,
     "metadata": {},
     "output_type": "execute_result"
    }
   ],
   "source": [
    "X_train_num_cat_scaled.head()"
   ]
  },
  {
   "cell_type": "code",
   "execution_count": 20,
   "id": "2f49de9f",
   "metadata": {
    "scrolled": true
   },
   "outputs": [
    {
     "data": {
      "text/html": [
       "<div>\n",
       "<style scoped>\n",
       "    .dataframe tbody tr th:only-of-type {\n",
       "        vertical-align: middle;\n",
       "    }\n",
       "\n",
       "    .dataframe tbody tr th {\n",
       "        vertical-align: top;\n",
       "    }\n",
       "\n",
       "    .dataframe thead th {\n",
       "        text-align: right;\n",
       "    }\n",
       "</style>\n",
       "<table border=\"1\" class=\"dataframe\">\n",
       "  <thead>\n",
       "    <tr style=\"text-align: right;\">\n",
       "      <th></th>\n",
       "      <th>rating</th>\n",
       "      <th>reviewer_restaurant_loc_match</th>\n",
       "      <th>reviewer_friendCount</th>\n",
       "      <th>reviewer_reviewCount</th>\n",
       "      <th>reviewer_firstCount</th>\n",
       "      <th>restaurant_reviewCount</th>\n",
       "      <th>restaurant_rating</th>\n",
       "      <th>maxReview_a_day</th>\n",
       "      <th>rating_std</th>\n",
       "      <th>sinceJoin_months</th>\n",
       "      <th>...</th>\n",
       "      <th>PriceRange_$31-60</th>\n",
       "      <th>PriceRange_Over $61</th>\n",
       "      <th>PriceRange_Under $10</th>\n",
       "      <th>weekday_Friday</th>\n",
       "      <th>weekday_Monday</th>\n",
       "      <th>weekday_Saturday</th>\n",
       "      <th>weekday_Sunday</th>\n",
       "      <th>weekday_Thursday</th>\n",
       "      <th>weekday_Tuesday</th>\n",
       "      <th>weekday_Wednesday</th>\n",
       "    </tr>\n",
       "  </thead>\n",
       "  <tbody>\n",
       "    <tr>\n",
       "      <th>0</th>\n",
       "      <td>0.75</td>\n",
       "      <td>1.0</td>\n",
       "      <td>0.010625</td>\n",
       "      <td>0.172031</td>\n",
       "      <td>0.022016</td>\n",
       "      <td>0.327970</td>\n",
       "      <td>0.333333</td>\n",
       "      <td>0.090909</td>\n",
       "      <td>0.253546</td>\n",
       "      <td>0.411765</td>\n",
       "      <td>...</td>\n",
       "      <td>1.0</td>\n",
       "      <td>0.0</td>\n",
       "      <td>0.0</td>\n",
       "      <td>0.0</td>\n",
       "      <td>1.0</td>\n",
       "      <td>0.0</td>\n",
       "      <td>0.0</td>\n",
       "      <td>0.0</td>\n",
       "      <td>0.0</td>\n",
       "      <td>0.0</td>\n",
       "    </tr>\n",
       "    <tr>\n",
       "      <th>1</th>\n",
       "      <td>1.00</td>\n",
       "      <td>0.0</td>\n",
       "      <td>0.024012</td>\n",
       "      <td>0.052490</td>\n",
       "      <td>0.030127</td>\n",
       "      <td>0.191197</td>\n",
       "      <td>0.333333</td>\n",
       "      <td>0.000000</td>\n",
       "      <td>0.000000</td>\n",
       "      <td>0.152941</td>\n",
       "      <td>...</td>\n",
       "      <td>0.0</td>\n",
       "      <td>0.0</td>\n",
       "      <td>0.0</td>\n",
       "      <td>0.0</td>\n",
       "      <td>0.0</td>\n",
       "      <td>0.0</td>\n",
       "      <td>0.0</td>\n",
       "      <td>0.0</td>\n",
       "      <td>1.0</td>\n",
       "      <td>0.0</td>\n",
       "    </tr>\n",
       "    <tr>\n",
       "      <th>2</th>\n",
       "      <td>1.00</td>\n",
       "      <td>0.0</td>\n",
       "      <td>0.003612</td>\n",
       "      <td>0.062835</td>\n",
       "      <td>0.013905</td>\n",
       "      <td>0.323237</td>\n",
       "      <td>0.333333</td>\n",
       "      <td>0.000000</td>\n",
       "      <td>0.000000</td>\n",
       "      <td>0.000000</td>\n",
       "      <td>...</td>\n",
       "      <td>0.0</td>\n",
       "      <td>0.0</td>\n",
       "      <td>1.0</td>\n",
       "      <td>0.0</td>\n",
       "      <td>0.0</td>\n",
       "      <td>0.0</td>\n",
       "      <td>0.0</td>\n",
       "      <td>0.0</td>\n",
       "      <td>0.0</td>\n",
       "      <td>1.0</td>\n",
       "    </tr>\n",
       "    <tr>\n",
       "      <th>3</th>\n",
       "      <td>1.00</td>\n",
       "      <td>1.0</td>\n",
       "      <td>0.000000</td>\n",
       "      <td>0.001916</td>\n",
       "      <td>0.000000</td>\n",
       "      <td>0.287269</td>\n",
       "      <td>0.333333</td>\n",
       "      <td>0.000000</td>\n",
       "      <td>0.000000</td>\n",
       "      <td>0.000000</td>\n",
       "      <td>...</td>\n",
       "      <td>1.0</td>\n",
       "      <td>0.0</td>\n",
       "      <td>0.0</td>\n",
       "      <td>0.0</td>\n",
       "      <td>0.0</td>\n",
       "      <td>0.0</td>\n",
       "      <td>0.0</td>\n",
       "      <td>0.0</td>\n",
       "      <td>0.0</td>\n",
       "      <td>1.0</td>\n",
       "    </tr>\n",
       "    <tr>\n",
       "      <th>4</th>\n",
       "      <td>0.50</td>\n",
       "      <td>0.0</td>\n",
       "      <td>0.000425</td>\n",
       "      <td>0.005364</td>\n",
       "      <td>0.000000</td>\n",
       "      <td>0.323237</td>\n",
       "      <td>0.333333</td>\n",
       "      <td>0.000000</td>\n",
       "      <td>0.000000</td>\n",
       "      <td>0.011765</td>\n",
       "      <td>...</td>\n",
       "      <td>0.0</td>\n",
       "      <td>0.0</td>\n",
       "      <td>1.0</td>\n",
       "      <td>0.0</td>\n",
       "      <td>1.0</td>\n",
       "      <td>0.0</td>\n",
       "      <td>0.0</td>\n",
       "      <td>0.0</td>\n",
       "      <td>0.0</td>\n",
       "      <td>0.0</td>\n",
       "    </tr>\n",
       "  </tbody>\n",
       "</table>\n",
       "<p>5 rows × 36 columns</p>\n",
       "</div>"
      ],
      "text/plain": [
       "   rating  reviewer_restaurant_loc_match  reviewer_friendCount  \\\n",
       "0    0.75                            1.0              0.010625   \n",
       "1    1.00                            0.0              0.024012   \n",
       "2    1.00                            0.0              0.003612   \n",
       "3    1.00                            1.0              0.000000   \n",
       "4    0.50                            0.0              0.000425   \n",
       "\n",
       "   reviewer_reviewCount  reviewer_firstCount  restaurant_reviewCount  \\\n",
       "0              0.172031             0.022016                0.327970   \n",
       "1              0.052490             0.030127                0.191197   \n",
       "2              0.062835             0.013905                0.323237   \n",
       "3              0.001916             0.000000                0.287269   \n",
       "4              0.005364             0.000000                0.323237   \n",
       "\n",
       "   restaurant_rating  maxReview_a_day  rating_std  sinceJoin_months  ...  \\\n",
       "0           0.333333         0.090909    0.253546          0.411765  ...   \n",
       "1           0.333333         0.000000    0.000000          0.152941  ...   \n",
       "2           0.333333         0.000000    0.000000          0.000000  ...   \n",
       "3           0.333333         0.000000    0.000000          0.000000  ...   \n",
       "4           0.333333         0.000000    0.000000          0.011765  ...   \n",
       "\n",
       "   PriceRange_$31-60  PriceRange_Over $61  PriceRange_Under $10  \\\n",
       "0                1.0                  0.0                   0.0   \n",
       "1                0.0                  0.0                   0.0   \n",
       "2                0.0                  0.0                   1.0   \n",
       "3                1.0                  0.0                   0.0   \n",
       "4                0.0                  0.0                   1.0   \n",
       "\n",
       "   weekday_Friday  weekday_Monday  weekday_Saturday  weekday_Sunday  \\\n",
       "0             0.0             1.0               0.0             0.0   \n",
       "1             0.0             0.0               0.0             0.0   \n",
       "2             0.0             0.0               0.0             0.0   \n",
       "3             0.0             0.0               0.0             0.0   \n",
       "4             0.0             1.0               0.0             0.0   \n",
       "\n",
       "   weekday_Thursday  weekday_Tuesday  weekday_Wednesday  \n",
       "0               0.0              0.0                0.0  \n",
       "1               0.0              1.0                0.0  \n",
       "2               0.0              0.0                1.0  \n",
       "3               0.0              0.0                1.0  \n",
       "4               0.0              0.0                0.0  \n",
       "\n",
       "[5 rows x 36 columns]"
      ]
     },
     "execution_count": 20,
     "metadata": {},
     "output_type": "execute_result"
    }
   ],
   "source": [
    "X_test_num_cat_scaled.head()"
   ]
  },
  {
   "cell_type": "markdown",
   "id": "16944b19",
   "metadata": {},
   "source": [
    "\n"
   ]
  },
  {
   "cell_type": "markdown",
   "id": "c57decc9",
   "metadata": {},
   "source": [
    "\n"
   ]
  },
  {
   "cell_type": "markdown",
   "id": "763b1aae",
   "metadata": {},
   "source": [
    "<a id='MB'></a>\n",
    "\n",
    "# Model Building"
   ]
  },
  {
   "cell_type": "code",
   "execution_count": 21,
   "id": "55fdb5cf",
   "metadata": {},
   "outputs": [
    {
     "name": "stdout",
     "output_type": "stream",
     "text": [
      "Total number of genuine reviews:  20750 \n",
      "Total number of fake reviews:  6206 \n",
      "Baseline model (initial guess) - Accuracy:  76.98 %\n"
     ]
    }
   ],
   "source": [
    "print(\"Total number of genuine reviews: \", np.count_nonzero(Y == 0), \"\\nTotal number of fake reviews: \", np.count_nonzero(Y == 1), \"\\nBaseline model (initial guess) - Accuracy: \", round(np.count_nonzero(Y == 0) / Y.shape[0], 4) * 100, '%')"
   ]
  },
  {
   "cell_type": "markdown",
   "id": "45b6ff0c",
   "metadata": {},
   "source": [
    "<a id='TA'></a>\n",
    "\n",
    "## Text Analysis (Natural Language Processing & Deep Learning)"
   ]
  },
  {
   "cell_type": "markdown",
   "id": "0d3d84f2",
   "metadata": {},
   "source": [
    "My original idea was to build a classifier using only text data (reviewContent) with Natural Language Processing and Deep Learning techniques, and add the binary outcomes (Fake / Genuine) to the original dataset as a new column, so that I can take into account the raw text data, in addition to the characteristics of text data (word count, polarity score, uppercase letter count, etc). \n",
    "\n",
    "Unfortunately, the text classifier is overfitting even after numerous attempts to resolve the problem by dropping out nodes, adjusting embedding size, etc. So the outcome from this classifier will not be used since the results would negatively affect the performance if the new feature is added to the original dataset. \n",
    "\n",
    "But I am leaving the code/results in this notebook so I can come back to this later and retry improving it, or get feedbacks from other experts. "
   ]
  },
  {
   "cell_type": "code",
   "execution_count": 22,
   "id": "506b9844",
   "metadata": {},
   "outputs": [],
   "source": [
    "from tensorflow.keras.preprocessing.text import Tokenizer\n",
    "from tensorflow.keras.preprocessing.sequence import pad_sequences\n",
    "from tensorflow.keras.layers import Dense, Flatten, Embedding, LSTM\n",
    "\n",
    "# Tokenization - train\n",
    "docs_train = X_train_text.astype(str).values.tolist()\n",
    "token = Tokenizer(num_words = 500)\n",
    "token.fit_on_texts(docs_train)\n",
    "X_train_seq = token.texts_to_sequences(docs_train)\n",
    "\n",
    "# Padding (make each list of the same length) - train\n",
    "padded_X_train = pad_sequences(X_train_seq, 100)"
   ]
  },
  {
   "cell_type": "code",
   "execution_count": 23,
   "id": "26ce974e",
   "metadata": {},
   "outputs": [],
   "source": [
    "# Tokenization & Padding - test\n",
    "docs_test = X_test_text.astype(str).values.tolist()\n",
    "x_test_seq = token.texts_to_sequences(docs_test)\n",
    "padded_X_test = pad_sequences(x_test_seq, 100) "
   ]
  },
  {
   "cell_type": "code",
   "execution_count": 24,
   "id": "978e1905",
   "metadata": {},
   "outputs": [
    {
     "name": "stdout",
     "output_type": "stream",
     "text": [
      "Epoch 1/10\n",
      "203/203 [==============================] - 21s 96ms/step - loss: 0.5154 - accuracy: 0.7689 - val_loss: 0.5003 - val_accuracy: 0.7685\n",
      "Epoch 2/10\n",
      "203/203 [==============================] - 18s 91ms/step - loss: 0.4870 - accuracy: 0.7717 - val_loss: 0.5113 - val_accuracy: 0.7704\n",
      "Epoch 3/10\n",
      "203/203 [==============================] - 19s 94ms/step - loss: 0.4781 - accuracy: 0.7759 - val_loss: 0.5162 - val_accuracy: 0.7457\n",
      "Epoch 4/10\n",
      "203/203 [==============================] - 20s 97ms/step - loss: 0.4662 - accuracy: 0.7809 - val_loss: 0.5058 - val_accuracy: 0.7598\n",
      "Epoch 5/10\n",
      "203/203 [==============================] - 20s 96ms/step - loss: 0.4546 - accuracy: 0.7867 - val_loss: 0.5026 - val_accuracy: 0.7626\n",
      "Epoch 6/10\n",
      "203/203 [==============================] - 20s 98ms/step - loss: 0.4338 - accuracy: 0.7976 - val_loss: 0.5186 - val_accuracy: 0.7437\n",
      "Epoch 7/10\n",
      "203/203 [==============================] - 20s 100ms/step - loss: 0.4050 - accuracy: 0.8111 - val_loss: 0.5767 - val_accuracy: 0.6913\n",
      "Epoch 8/10\n",
      "203/203 [==============================] - 20s 101ms/step - loss: 0.3625 - accuracy: 0.8343 - val_loss: 0.5780 - val_accuracy: 0.7256\n",
      "Epoch 9/10\n",
      "203/203 [==============================] - 20s 99ms/step - loss: 0.3180 - accuracy: 0.8585 - val_loss: 0.6745 - val_accuracy: 0.6749\n",
      "Epoch 10/10\n",
      "203/203 [==============================] - 20s 101ms/step - loss: 0.2728 - accuracy: 0.8818 - val_loss: 0.7657 - val_accuracy: 0.6630\n",
      "211/211 [==============================] - 5s 22ms/step - loss: 0.7657 - accuracy: 0.6630\n",
      "\n",
      " Accuracy: 0.6630\n"
     ]
    },
    {
     "data": {
      "image/png": "[encoded data removed]",
      "text/plain": [
       "<Figure size 432x288 with 1 Axes>"
      ]
     },
     "metadata": {
      "needs_background": "light"
     },
     "output_type": "display_data"
    }
   ],
   "source": [
    "# Using CNN and LSTM\n",
    "import matplotlib.pyplot as plt\n",
    "import numpy\n",
    "from tensorflow.keras.preprocessing import sequence\n",
    "from tensorflow.keras.layers import Dense, Dropout, Activation\n",
    "from tensorflow.keras.layers import LSTM\n",
    "from tensorflow.keras.layers import Conv1D, MaxPooling1D\n",
    "from tensorflow.keras.models import Sequential\n",
    "\n",
    "\n",
    "model = Sequential()\n",
    "model.add(Embedding(500, 100))\n",
    "model.add(Dropout(0.2))\n",
    "model.add(Conv1D(64, 5, padding='valid', activation='relu', strides=1))\n",
    "model.add(MaxPooling1D(pool_size=4))\n",
    "model.add(LSTM(300))\n",
    "model.add(Dense(1))\n",
    "model.add(Activation('sigmoid'))\n",
    "\n",
    "model.compile(optimizer='adam', loss='binary_crossentropy', metrics=['accuracy'])\n",
    "\n",
    "record = model.fit(padded_X_train, Y_train, batch_size=100, epochs=10, validation_data=(padded_X_test, Y_test))\n",
    "print(\"\\n Accuracy: %.4f\" % (model.evaluate(padded_X_test, Y_test)[1]))\n",
    "\n",
    "\n",
    "Y_val_loss = record.history['val_loss']\n",
    "Y_loss = record.history['loss']\n",
    "X_len = numpy.arange(len(Y_loss))\n",
    "plt.plot(X_len, Y_val_loss, marker='.', c=\"red\", label=\"Loss from Test\")\n",
    "plt.plot(X_len, Y_loss, marker='.', c=\"blue\", label=\"Loss from Train\")\n",
    "\n",
    "plt.legend(loc=\"upper left\")\n",
    "plt.grid()\n",
    "plt.xlabel('epoch')\n",
    "plt.ylabel('loss')\n",
    "plt.show()"
   ]
  },
  {
   "cell_type": "markdown",
   "id": "c593c9cc",
   "metadata": {},
   "source": [
    "\n"
   ]
  },
  {
   "cell_type": "markdown",
   "id": "5fe5591e",
   "metadata": {},
   "source": [
    "<a id='CA'></a>\n",
    "\n",
    "## Classification Algorithms"
   ]
  },
  {
   "cell_type": "markdown",
   "id": "b854b162",
   "metadata": {},
   "source": [
    "For classification problems, there are several metrics in addition to accuracy, which can be used to evaluate classifiers, such as recall and precision.\n",
    "\n",
    "\n",
    "- Recall = $\\frac{TP}{TP + FN}$\n",
    "\n",
    "- Precision = $\\frac{TP}{TP + FP}$\n",
    "\n",
    "\n",
    "where TP: true positive, FP: false positive, and FN: false negative which can be obtained from confusion matrix. \n",
    "\n",
    "The relative importance of recall and precision dependes on situations. In the context of this problem where the goal is to filter out fake reviews and hide them from other users, it would be better to show only genuine reviews even if some of genuine reviews could be filtered out due to classifiers' errors, than failing to filter out fake reviews and letting other users to see them because a single review could bring a negative effect to businesses and customers. In this case, high precision is desired instead of high recall. So in addition to accuracy, I put more weight on precision than recall. \n",
    "\n",
    "The following is the summary of the classification results based on 10-fold cross validations:\n",
    "\n",
    "- [XGBoost](#XGB) (Accuracy: 90.5% / Precision: 80.1% / Recall: 77.8%)\n",
    "- [Random Forest](#RF) (Accuracy: 88.3% / Precision: 78.1% / Recall: 67.8%)\n",
    "- [Neural Networks](#NN) (Accuracy: 87.3% / Precision: 72.9% / Recall: 70.1%)\n",
    "- [Logistic Regression](#LR) (Accuracy: 84.9% / Precision: 70.7% / Recall: 58.7%)\n",
    "- [Support Vector Machine](#SVM) (Accuracy: 82.8% / Precision: 71.2% / Recall: 42.7%)\n",
    "- [SGD Classifier](#SGD) (Accuracy: 82.5% / Precision: 67.2% / Recall: 46.8%)\n",
    "\n",
    "The three models that give the best results are selected for hyperparameter tunings to improve the performance. Also, XGBoost and random forest are combined using soft voting to make a single classifier. The new model has the following classification results based on 10-fold cross validation:\n",
    "\n",
    "- [Soft Voting (XGBoost & Random Forest)](#SV) (Accuracy: 90.7% / Precision: 81.1% / Recall: 77.5%)\n",
    "\n",
    "Finally, we observe the feature importance plots generated by XGBoost and random forest [here](#FI). "
   ]
  },
  {
   "cell_type": "markdown",
   "id": "54c24c16",
   "metadata": {},
   "source": [
    "\n"
   ]
  },
  {
   "cell_type": "code",
   "execution_count": 25,
   "id": "2272fe9a",
   "metadata": {},
   "outputs": [],
   "source": [
    "from sklearn.model_selection import cross_val_score, cross_val_predict, cross_validate\n",
    "from sklearn.metrics import accuracy_score, confusion_matrix, precision_score, recall_score, precision_recall_curve, make_scorer\n",
    "from sklearn.model_selection import GridSearchCV\n",
    "from sklearn.model_selection import RandomizedSearchCV\n",
    "import warnings\n",
    "\n",
    "\n",
    "from sklearn.linear_model import SGDClassifier\n",
    "from sklearn.linear_model import LogisticRegression\n",
    "from sklearn.svm import SVC\n",
    "from tensorflow.keras.models import Sequential\n",
    "from tensorflow.keras.layers import Dense\n",
    "import tensorflow as tf\n",
    "from tensorflow.keras.wrappers.scikit_learn import KerasClassifier\n",
    "from sklearn.ensemble import RandomForestClassifier\n",
    "import xgboost as xgb\n",
    "from sklearn.neighbors import KNeighborsClassifier\n",
    "from catboost import CatBoostClassifier\n",
    "import lightgbm as lgb\n",
    "from sklearn.ensemble import VotingClassifier"
   ]
  },
  {
   "cell_type": "code",
   "execution_count": 26,
   "id": "d8dfaedf",
   "metadata": {},
   "outputs": [],
   "source": [
    "def prec_rec_threshold(precisions, recalls, thresholds):\n",
    "    \"\"\"\n",
    "    Plot precisions and recalls based on thresholds\n",
    "    \"\"\"\n",
    "    \n",
    "    plt.plot(thresholds, precisions[:-1], 'g--', label=\"Precision\")\n",
    "    plt.plot(thresholds, recalls[:-1], 'y-', label=\"Recall\")\n",
    "    plt.xlabel(\"Threshold\")\n",
    "    plt.legend(loc=\"center left\")\n",
    "    plt.ylim([0, 1])"
   ]
  },
  {
   "cell_type": "markdown",
   "id": "ec3df85c",
   "metadata": {},
   "source": [
    "\n"
   ]
  },
  {
   "cell_type": "markdown",
   "id": "5b7f9a70",
   "metadata": {},
   "source": [
    "<a id='XGB'></a>\n",
    "\n",
    "### XGBoost (Accuracy: 90.5% / Precision: 80.1% / Recall: 77.8%)"
   ]
  },
  {
   "cell_type": "code",
   "execution_count": 27,
   "id": "900022f4",
   "metadata": {},
   "outputs": [],
   "source": [
    "# 10-fold Cross Validation\n",
    "\n",
    "xgb_cl = xgb.XGBClassifier(objective= 'binary:logistic', eval_metric='error', use_label_encoder=False)\n",
    "xgb_cl.fit(X_train_num_cat_scaled, Y_train)\n",
    "Y_train_pred = cross_val_predict(xgb_cl, X_train_num_cat_scaled, Y_train, cv=10)"
   ]
  },
  {
   "cell_type": "code",
   "execution_count": 28,
   "id": "9b0f765c",
   "metadata": {},
   "outputs": [
    {
     "name": "stdout",
     "output_type": "stream",
     "text": [
      "Accuracy:  0.9045353413294924\n",
      "Precision:  0.8005754758742807\n",
      "Recall:  0.7785191562634525\n"
     ]
    }
   ],
   "source": [
    "print(\"Accuracy: \", np.mean(cross_val_score(xgb_cl, X_train_num_cat_scaled, Y_train, cv=10, scoring='accuracy')))\n",
    "print(\"Precision: \", precision_score(Y_train, Y_train_pred))\n",
    "print(\"Recall: \", recall_score(Y_train, Y_train_pred))"
   ]
  },
  {
   "cell_type": "markdown",
   "id": "0afcba19",
   "metadata": {},
   "source": [
    "\n"
   ]
  },
  {
   "cell_type": "code",
   "execution_count": 29,
   "id": "d6be4f4e",
   "metadata": {},
   "outputs": [
    {
     "name": "stdout",
     "output_type": "stream",
     "text": [
      "Fitting 5 folds for each of 20 candidates, totalling 100 fits\n"
     ]
    },
    {
     "data": {
      "text/plain": [
       "({'max_depth': 5, 'min_child_weight': 3}, 0.9055745077704488)"
      ]
     },
     "execution_count": 29,
     "metadata": {},
     "output_type": "execute_result"
    }
   ],
   "source": [
    "# Hyperparameter Tuning (1st)\n",
    "# Tune 'max_depth' and 'min_child_weight' with wide steps\n",
    "\n",
    "xgb_cl = xgb.XGBClassifier(learning_rate = 0.1, objective= 'binary:logistic', n_estimators = 180, \n",
    "                           scale_pos_weight=1, eval_metric='error', use_label_encoder=False)\n",
    "param_1 = {\n",
    "    'max_depth': range(1, 10, 2),\n",
    "    'min_child_weight' : range(1, 8, 2)\n",
    "}\n",
    "\n",
    "grid_search_1 = GridSearchCV(estimator = xgb_cl, param_grid = param_1, scoring = 'accuracy', n_jobs = -1, cv = 5, verbose=True)\n",
    "grid_search_1.fit(X_train_num_cat_scaled, Y_train)\n",
    "grid_search_1.best_params_, grid_search_1.best_score_"
   ]
  },
  {
   "cell_type": "code",
   "execution_count": 30,
   "id": "910d609b",
   "metadata": {},
   "outputs": [
    {
     "name": "stdout",
     "output_type": "stream",
     "text": [
      "Fitting 5 folds for each of 9 candidates, totalling 45 fits\n"
     ]
    },
    {
     "data": {
      "text/plain": [
       "({'max_depth': 5, 'min_child_weight': 2}, 0.9060196727904992)"
      ]
     },
     "execution_count": 30,
     "metadata": {},
     "output_type": "execute_result"
    }
   ],
   "source": [
    "# Hyperparameter Tuning (2nd)\n",
    "# Tune 'max_depth' and 'min_child_weight' with small steps\n",
    "\n",
    "xgb_cl = xgb.XGBClassifier(learning_rate = 0.1, objective= 'binary:logistic', n_estimators = 180, \n",
    "                           scale_pos_weight=1, eval_metric='error', use_label_encoder=False)\n",
    "param_2 = {\n",
    "    'max_depth': [4,5,6],\n",
    "    'min_child_weight' : [2,3,4]\n",
    "}\n",
    "\n",
    "grid_search_2 = GridSearchCV(estimator = xgb_cl, param_grid = param_2, scoring = 'accuracy', n_jobs = -1, cv = 5, verbose=True)\n",
    "grid_search_2.fit(X_train_num_cat_scaled, Y_train)\n",
    "grid_search_2.best_params_, grid_search_2.best_score_"
   ]
  },
  {
   "cell_type": "code",
   "execution_count": 31,
   "id": "3d9e6c8c",
   "metadata": {},
   "outputs": [
    {
     "name": "stdout",
     "output_type": "stream",
     "text": [
      "Fitting 5 folds for each of 5 candidates, totalling 25 fits\n"
     ]
    },
    {
     "data": {
      "text/plain": [
       "({'gamma': 0.0}, 0.9060196727904992)"
      ]
     },
     "execution_count": 31,
     "metadata": {},
     "output_type": "execute_result"
    }
   ],
   "source": [
    "# Hyperparameter Tuning (3rd)\n",
    "# Tune 'gamma' \n",
    "\n",
    "xgb_cl = xgb.XGBClassifier(max_depth = 5, min_child_weight = 2, \n",
    "                           learning_rate = 0.1, objective= 'binary:logistic', n_estimators = 180, \n",
    "                           scale_pos_weight=1, eval_metric='error', use_label_encoder=False)\n",
    "param_3 = {\n",
    "    'gamma' : [0.0, 0.1, 0.2, 0.3, 0.4]\n",
    "}\n",
    "\n",
    "grid_search_3 = GridSearchCV(estimator = xgb_cl, param_grid = param_3, scoring = 'accuracy', n_jobs = -1, cv = 5, verbose=True)\n",
    "grid_search_3.fit(X_train_num_cat_scaled, Y_train)\n",
    "grid_search_3.best_params_, grid_search_3.best_score_"
   ]
  },
  {
   "cell_type": "code",
   "execution_count": 32,
   "id": "97393703",
   "metadata": {},
   "outputs": [
    {
     "name": "stdout",
     "output_type": "stream",
     "text": [
      "Fitting 5 folds for each of 36 candidates, totalling 180 fits\n"
     ]
    },
    {
     "data": {
      "text/plain": [
       "({'colsample_bytree': 0.5, 'subsample': 1.0}, 0.9064153084313953)"
      ]
     },
     "execution_count": 32,
     "metadata": {},
     "output_type": "execute_result"
    }
   ],
   "source": [
    "# Hyperparameter Tuning (4th)\n",
    "# Tune 'subsample' and 'colsample_bytree'\n",
    "\n",
    "xgb_cl = xgb.XGBClassifier(gamma = 0.0, max_depth = 5, min_child_weight = 2, \n",
    "                           learning_rate = 0.1, objective= 'binary:logistic', n_estimators = 180, \n",
    "                           scale_pos_weight=1, eval_metric='error', use_label_encoder=False)\n",
    "param_4 = {\n",
    "    'subsample' : [0.5, 0.6, 0.7, 0.8, 0.9, 1.0],\n",
    "    'colsample_bytree' : [0.5, 0.6, 0.7, 0.8, 0.9, 1.0]\n",
    "}\n",
    "\n",
    "grid_search_4 = GridSearchCV(estimator = xgb_cl, param_grid = param_4, scoring = 'accuracy', n_jobs = -1, cv = 5, verbose=True)\n",
    "grid_search_4.fit(X_train_num_cat_scaled, Y_train)\n",
    "grid_search_4.best_params_, grid_search_4.best_score_"
   ]
  },
  {
   "cell_type": "code",
   "execution_count": 33,
   "id": "54fab8b9",
   "metadata": {},
   "outputs": [
    {
     "name": "stdout",
     "output_type": "stream",
     "text": [
      "Fitting 5 folds for each of 25 candidates, totalling 125 fits\n"
     ]
    },
    {
     "data": {
      "text/plain": [
       "({'learning_rate': 0.15, 'n_estimators': 180}, 0.9082950395024018)"
      ]
     },
     "execution_count": 33,
     "metadata": {},
     "output_type": "execute_result"
    }
   ],
   "source": [
    "# Hyperparameter Tuning (5th)\n",
    "# Tune 'subsample' and 'colsample_bytree' \n",
    "\n",
    "xgb_cl = xgb.XGBClassifier(colsample_bytree = 0.5, subsample = 1.0, gamma = 0.0, max_depth = 5, min_child_weight = 2, \n",
    "                           objective= 'binary:logistic',  \n",
    "                           scale_pos_weight=1, eval_metric='error', use_label_encoder=False)\n",
    "param_5 = {\n",
    "    'n_estimators' : [160, 170, 180, 190, 200],\n",
    "    'learning_rate' : [0.01, 0.05, 0.1, 0.15, 0.3]\n",
    "}\n",
    "\n",
    "grid_search_5 = GridSearchCV(estimator = xgb_cl, param_grid = param_5, scoring = 'accuracy', n_jobs = -1, cv = 5, verbose=True)\n",
    "grid_search_5.fit(X_train_num_cat_scaled, Y_train)\n",
    "grid_search_5.best_params_, grid_search_5.best_score_"
   ]
  },
  {
   "cell_type": "code",
   "execution_count": 34,
   "id": "bfa3d039",
   "metadata": {},
   "outputs": [
    {
     "name": "stdout",
     "output_type": "stream",
     "text": [
      "Fitting 5 folds for each of 15 candidates, totalling 75 fits\n"
     ]
    },
    {
     "data": {
      "text/plain": [
       "({'learning_rate': 0.17, 'n_estimators': 170}, 0.9083940615632201)"
      ]
     },
     "execution_count": 34,
     "metadata": {},
     "output_type": "execute_result"
    }
   ],
   "source": [
    "# Hyperparameter Tuning (6th)\n",
    "# Tune 'subsample' and 'colsample_bytree' \n",
    "\n",
    "xgb_cl = xgb.XGBClassifier(colsample_bytree = 0.5, subsample = 1.0, gamma = 0.0, max_depth = 5, min_child_weight = 2, \n",
    "                           objective= 'binary:logistic',  \n",
    "                           scale_pos_weight=1, eval_metric='error', use_label_encoder=False)\n",
    "param_6 = {\n",
    "    'n_estimators' : [170, 175, 180],\n",
    "    'learning_rate' : [0.13, 0.14, 0.15, 0.16, 0.17]\n",
    "}\n",
    "\n",
    "grid_search_6 = GridSearchCV(estimator = xgb_cl, param_grid = param_6, scoring = 'accuracy', n_jobs = -1, cv = 5, verbose=True)\n",
    "grid_search_6.fit(X_train_num_cat_scaled, Y_train)\n",
    "grid_search_6.best_params_, grid_search_6.best_score_"
   ]
  },
  {
   "cell_type": "markdown",
   "id": "f867ad11",
   "metadata": {},
   "source": [
    "\n"
   ]
  },
  {
   "cell_type": "code",
   "execution_count": 27,
   "id": "e67aa0bb",
   "metadata": {},
   "outputs": [],
   "source": [
    "# 10-fold Cross Validation with tuned hyperparameters \n",
    "\n",
    "xgb_cl = xgb.XGBClassifier(learning_rate = 0.17, n_estimators = 170, colsample_bytree = 0.5, \n",
    "                           subsample = 1.0, gamma = 0.0, max_depth = 5, min_child_weight = 2, objective= 'binary:logistic',  \n",
    "                           scale_pos_weight=1, eval_metric='error', use_label_encoder=False)\n",
    "xgb_cl.fit(X_train_num_cat_scaled, Y_train)\n",
    "Y_train_pred = cross_val_predict(xgb_cl, X_train_num_cat_scaled, Y_train, cv=10)"
   ]
  },
  {
   "cell_type": "code",
   "execution_count": 36,
   "id": "52476ccf",
   "metadata": {},
   "outputs": [
    {
     "name": "stdout",
     "output_type": "stream",
     "text": [
      "Accuracy:  0.9082450295634708\n",
      "Precision:  0.8094921268573964\n",
      "Recall:  0.785622040464916\n"
     ]
    }
   ],
   "source": [
    "print(\"Accuracy: \", np.mean(cross_val_score(xgb_cl, X_train_num_cat_scaled, Y_train, cv=10, scoring='accuracy')))\n",
    "print(\"Precision: \", precision_score(Y_train, Y_train_pred))\n",
    "print(\"Recall: \", recall_score(Y_train, Y_train_pred))"
   ]
  },
  {
   "cell_type": "markdown",
   "id": "0555ad46",
   "metadata": {},
   "source": [
    "Although all metrics (accuracy, precision, and recall) have increased after hyperparameter tuning, it is not a huge improvement. "
   ]
  },
  {
   "cell_type": "markdown",
   "id": "d20e4a5e",
   "metadata": {},
   "source": [
    "\n"
   ]
  },
  {
   "cell_type": "markdown",
   "id": "c05307f7",
   "metadata": {},
   "source": [
    "<a id='RF'></a>\n",
    "\n",
    "### Random Forest (Accuracy: 88.3% / Precision: 78.3% / Recall: 68.0%)"
   ]
  },
  {
   "cell_type": "code",
   "execution_count": 37,
   "id": "9c4d1456",
   "metadata": {},
   "outputs": [],
   "source": [
    "# 10-fold Cross Validation\n",
    "\n",
    "rnd_cl = RandomForestClassifier(n_estimators=300, max_leaf_nodes=20, n_jobs=-1, oob_score=True, max_features = \"auto\")\n",
    "rnd_cl.fit(X_train_num_cat_scaled, Y_train)\n",
    "Y_train_pred = cross_val_predict(rnd_cl, X_train_num_cat_scaled, Y_train, cv=10)"
   ]
  },
  {
   "cell_type": "code",
   "execution_count": 38,
   "id": "bbdf6172",
   "metadata": {},
   "outputs": [
    {
     "name": "stdout",
     "output_type": "stream",
     "text": [
      "Accuracy:  0.8830690460354214\n",
      "Precision:  0.7828458106098165\n",
      "Recall:  0.6797244941885493\n"
     ]
    }
   ],
   "source": [
    "print(\"Accuracy: \", np.mean(cross_val_score(rnd_cl, X_train_num_cat_scaled, Y_train, cv=10, scoring='accuracy')))\n",
    "print(\"Precision: \", precision_score(Y_train, Y_train_pred))\n",
    "print(\"Recall: \", recall_score(Y_train, Y_train_pred))"
   ]
  },
  {
   "cell_type": "markdown",
   "id": "6f8724f9",
   "metadata": {},
   "source": [
    "\n"
   ]
  },
  {
   "cell_type": "code",
   "execution_count": 39,
   "id": "f722cc28",
   "metadata": {},
   "outputs": [
    {
     "name": "stdout",
     "output_type": "stream",
     "text": [
      "Fitting 5 folds for each of 100 candidates, totalling 500 fits\n"
     ]
    },
    {
     "data": {
      "text/plain": [
       "({'n_estimators': 200,\n",
       "  'min_samples_split': 4,\n",
       "  'min_samples_leaf': 1,\n",
       "  'max_depth': 20},\n",
       " 0.8950883222959515)"
      ]
     },
     "execution_count": 39,
     "metadata": {},
     "output_type": "execute_result"
    }
   ],
   "source": [
    "# Hyperparameter Tuning (1st)\n",
    "\n",
    "rnd_cl = RandomForestClassifier(n_jobs=-1, oob_score=True)\n",
    "random_param = {'n_estimators': range(200, 1000, 100),\n",
    "               'max_depth': range(10, 100, 10),\n",
    "               'min_samples_split': range(2,10,1),\n",
    "               'min_samples_leaf': range(1,5,1)}\n",
    "\n",
    "random_search1 = RandomizedSearchCV(estimator = rnd_cl, param_distributions = random_param, \n",
    "                               n_iter = 100, cv = 5, verbose=2, n_jobs = -1)\n",
    "random_search1.fit(X_train_num_cat_scaled, Y_train)\n",
    "random_search1.best_params_, random_search1.best_score_"
   ]
  },
  {
   "cell_type": "code",
   "execution_count": 40,
   "id": "3b9bc48d",
   "metadata": {},
   "outputs": [
    {
     "name": "stdout",
     "output_type": "stream",
     "text": [
      "Fitting 5 folds for each of 30 candidates, totalling 150 fits\n"
     ]
    },
    {
     "data": {
      "text/plain": [
       "({'max_depth': 45, 'n_estimators': 670}, 0.8960281939477032)"
      ]
     },
     "execution_count": 40,
     "metadata": {},
     "output_type": "execute_result"
    }
   ],
   "source": [
    "# Hyperparameter Tuning (2nd)\n",
    "# Tune 'max_depth' and 'n_estimators' with small steps\n",
    "\n",
    "rnd_cl = RandomForestClassifier(min_samples_split = 2, min_samples_leaf = 1, \n",
    "                                n_jobs=-1, oob_score=True, max_features = \"auto\")\n",
    "\n",
    "param_2 = {\n",
    "    'n_estimators' : range(650, 750, 10),\n",
    "    'max_depth' : [45, 50, 55]\n",
    "}\n",
    "\n",
    "grid_search_2 = GridSearchCV(estimator = rnd_cl, param_grid = param_2, scoring = 'accuracy', n_jobs = -1, cv = 5, verbose=True)\n",
    "grid_search_2.fit(X_train_num_cat_scaled, Y_train)\n",
    "grid_search_2.best_params_, grid_search_2.best_score_"
   ]
  },
  {
   "cell_type": "markdown",
   "id": "ef7cfe21",
   "metadata": {},
   "source": [
    "\n"
   ]
  },
  {
   "cell_type": "code",
   "execution_count": 41,
   "id": "e8755ef5",
   "metadata": {},
   "outputs": [],
   "source": [
    "# 10-fold Cross Validation with tuned hyperparameters \n",
    "\n",
    "rnd_cl = RandomForestClassifier(max_depth = 45, n_estimators = 670, min_samples_split = 2, min_samples_leaf = 1, \n",
    "                                n_jobs=-1, oob_score=True, max_features = \"auto\")\n",
    "rnd_cl.fit(X_train_num_cat_scaled, Y_train)\n",
    "Y_train_pred = cross_val_predict(rnd_cl, X_train_num_cat_scaled, Y_train, cv=10)"
   ]
  },
  {
   "cell_type": "code",
   "execution_count": 42,
   "id": "c79e9778",
   "metadata": {},
   "outputs": [
    {
     "name": "stdout",
     "output_type": "stream",
     "text": [
      "Accuracy:  0.8963249382962573\n",
      "Precision:  0.7952865064695009\n",
      "Recall:  0.7408523461041756\n"
     ]
    }
   ],
   "source": [
    "print(\"Accuracy: \", np.mean(cross_val_score(rnd_cl, X_train_num_cat_scaled, Y_train, cv=10, scoring='accuracy')))\n",
    "print(\"Precision: \", precision_score(Y_train, Y_train_pred))\n",
    "print(\"Recall: \", recall_score(Y_train, Y_train_pred))"
   ]
  },
  {
   "cell_type": "markdown",
   "id": "6283a864",
   "metadata": {},
   "source": [
    "\n"
   ]
  },
  {
   "cell_type": "markdown",
   "id": "5d2e9018",
   "metadata": {},
   "source": [
    "<a id='NN'></a>\n",
    "\n",
    "### Neural Networks (Accuracy: 88.1% / Precision: 76.9% / Recall: 69.2%)"
   ]
  },
  {
   "cell_type": "code",
   "execution_count": 114,
   "id": "4d08d389",
   "metadata": {},
   "outputs": [],
   "source": [
    "def create_network():\n",
    "    n_features = X_train_num_cat_scaled.shape[1]\n",
    "    model = Sequential()\n",
    "    model.add(Dense(20, activation='relu', input_dim=n_features))\n",
    "    model.add(Dropout(0.2))\n",
    "    model.add(Dense(10, activation='relu'))\n",
    "    model.add(Dense(8, activation='relu'))\n",
    "    model.add(Dense(1, activation='sigmoid'))\n",
    "    model.compile(optimizer='adam', loss='binary_crossentropy', metrics=['accuracy'])\n",
    "    \n",
    "    return model"
   ]
  },
  {
   "cell_type": "code",
   "execution_count": 113,
   "id": "2c282f42",
   "metadata": {},
   "outputs": [
    {
     "name": "stdout",
     "output_type": "stream",
     "text": [
      "Accuracy:  0.8813862945501512\n",
      "Precision:  0.7693960254217955\n",
      "Recall:  0.6917361861714761\n"
     ]
    }
   ],
   "source": [
    "warnings.filterwarnings(\"ignore\")\n",
    "\n",
    "neural_network = KerasClassifier(build_fn=create_network, \n",
    "                                 epochs=100, \n",
    "                                 batch_size=32, \n",
    "                                 verbose=0)\n",
    "\n",
    "scoring = {'precision' : make_scorer(precision_score),\n",
    "           'recall' : make_scorer(recall_score),\n",
    "           'accuracy': make_scorer(accuracy_score)}\n",
    "\n",
    "results = cross_validate(neural_network, X_train_num_cat_scaled, Y_train, scoring = scoring, cv=10, return_train_score=True)\n",
    "\n",
    "print(\"Accuracy: \", np.mean(results['test_accuracy']))\n",
    "print(\"Precision: \", np.mean(results['test_precision']))\n",
    "print(\"Recall: \", np.mean(results['test_recall']))"
   ]
  },
  {
   "cell_type": "markdown",
   "id": "18296678",
   "metadata": {},
   "source": [
    "\n"
   ]
  },
  {
   "cell_type": "code",
   "execution_count": 27,
   "id": "0fce87c1",
   "metadata": {},
   "outputs": [
    {
     "name": "stdout",
     "output_type": "stream",
     "text": [
      "Fitting 5 folds for each of 100 candidates, totalling 500 fits\n"
     ]
    },
    {
     "data": {
      "text/plain": [
       "({'neurons': 25, 'epochs': 700, 'drop_out': 0.3, 'batch_size': 80},\n",
       " 0.8850965857505798)"
      ]
     },
     "execution_count": 27,
     "metadata": {},
     "output_type": "execute_result"
    }
   ],
   "source": [
    "# Hyperparameter tuning (Random Search)\n",
    "\n",
    "warnings.filterwarnings(\"ignore\")\n",
    "\n",
    "def create_network_random(neurons=15, drop_out=0.1):\n",
    "    n_features = X_train_num_cat_scaled.shape[1]\n",
    "    model = Sequential()\n",
    "    model.add(Dense(neurons, activation='relu', input_dim=n_features))\n",
    "    model.add(Dropout(drop_out))\n",
    "    model.add(Dense(10, activation='relu'))\n",
    "    model.add(Dense(8, activation='relu'))\n",
    "    model.add(Dense(1, activation='sigmoid'))\n",
    "    model.compile(optimizer='adam', loss='binary_crossentropy', metrics=['accuracy'])\n",
    "    \n",
    "    return model\n",
    "\n",
    "neural_network_random = KerasClassifier(build_fn=create_network_random, verbose=0)\n",
    "param_1 = {\n",
    "    'batch_size' : range(40, 100, 20),\n",
    "    'epochs' : range(100, 1000, 100),\n",
    "    'neurons' : [15, 20, 25, 30, 35],\n",
    "    'drop_out' : [0.0, 0.1, 0.2, 0.3, 0.4, 0.5]\n",
    "}\n",
    "\n",
    "random_search1 = RandomizedSearchCV(estimator = neural_network_random, param_distributions = param_1, \n",
    "                               n_iter = 100, cv = 5, verbose=2, n_jobs = -1)\n",
    "random_search1.fit(X_train_num_cat_scaled, Y_train)\n",
    "random_search1.best_params_, random_search1.best_score_"
   ]
  },
  {
   "cell_type": "code",
   "execution_count": 27,
   "id": "d551ba66",
   "metadata": {},
   "outputs": [
    {
     "name": "stdout",
     "output_type": "stream",
     "text": [
      "Fitting 5 folds for each of 81 candidates, totalling 405 fits\n"
     ]
    },
    {
     "data": {
      "text/plain": [
       "({'batch_size': 75, 'drop_out': 0.35, 'epochs': 750, 'neurons': 27},\n",
       " 0.8863335855674153)"
      ]
     },
     "execution_count": 27,
     "metadata": {},
     "output_type": "execute_result"
    }
   ],
   "source": [
    "# Hyperparameter Tuning (Grid Search based on the previous outcome)\n",
    "\n",
    "warnings.filterwarnings(\"ignore\")\n",
    "\n",
    "def create_network_random(neurons=15, drop_out=0.1):\n",
    "    n_features = X_train_num_cat_scaled.shape[1]\n",
    "    model = Sequential()\n",
    "    model.add(Dense(neurons, activation='relu', input_dim=n_features))\n",
    "    model.add(Dropout(drop_out))\n",
    "    model.add(Dense(10, activation='relu'))\n",
    "    model.add(Dense(8, activation='relu'))\n",
    "    model.add(Dense(1, activation='sigmoid'))\n",
    "    model.compile(optimizer='adam', loss='binary_crossentropy', metrics=['accuracy'])\n",
    "    \n",
    "    return model\n",
    "\n",
    "neural_network = KerasClassifier(build_fn=create_network_random, verbose=0)\n",
    "param_2 = {\n",
    "    'batch_size' : [75, 80, 85],\n",
    "    'epochs' : [650, 700, 750],\n",
    "    'neurons' : [23, 25, 27],\n",
    "    'drop_out' : [0.25, 0.3, 0.35]\n",
    "}\n",
    "\n",
    "grid_search_1 = GridSearchCV(estimator = neural_network, param_grid = param_2, scoring = 'accuracy', n_jobs = -1, cv = 5, verbose=2)\n",
    "grid_search_1.fit(X_train_num_cat_scaled, Y_train)\n",
    "grid_search_1.best_params_, grid_search_1.best_score_"
   ]
  },
  {
   "cell_type": "markdown",
   "id": "fe76bc62",
   "metadata": {},
   "source": [
    "\n"
   ]
  },
  {
   "cell_type": "code",
   "execution_count": 33,
   "id": "a9b0bb68",
   "metadata": {},
   "outputs": [],
   "source": [
    "# 10-fold Cross Validation with tuned hyperparameters \n",
    "\n",
    "def create_network_do():\n",
    "    n_features = X_train_num_cat_scaled.shape[1]\n",
    "    model = Sequential()\n",
    "    model.add(Dense(27, activation='relu', input_dim=n_features))\n",
    "    model.add(Dropout(0.35))\n",
    "    model.add(Dense(10, activation='relu'))\n",
    "    model.add(Dense(8, activation='relu'))\n",
    "    model.add(Dense(1, activation='sigmoid'))\n",
    "    model.compile(optimizer='adam', loss='binary_crossentropy', metrics=['accuracy'])\n",
    "    \n",
    "    return model"
   ]
  },
  {
   "cell_type": "code",
   "execution_count": 34,
   "id": "e459b998",
   "metadata": {},
   "outputs": [
    {
     "name": "stdout",
     "output_type": "stream",
     "text": [
      "Accuracy:  0.8865800783171359\n",
      "Precision:  0.7662271219475117\n",
      "Recall:  0.7302884599170013\n"
     ]
    }
   ],
   "source": [
    "warnings.filterwarnings(\"ignore\")\n",
    "\n",
    "neural_network_do = KerasClassifier(build_fn=create_network_do, \n",
    "                                 epochs=750, \n",
    "                                 batch_size=75, \n",
    "                                 verbose=0)\n",
    "\n",
    "scoring = {'precision' : make_scorer(precision_score),\n",
    "           'recall' : make_scorer(recall_score),\n",
    "           'accuracy': make_scorer(accuracy_score)}\n",
    "\n",
    "results = cross_validate(neural_network_do, X_train_num_cat_scaled, Y_train, scoring = scoring, cv=10, return_train_score=True)\n",
    "\n",
    "print(\"Accuracy: \", np.mean(results['test_accuracy']))\n",
    "print(\"Precision: \", np.mean(results['test_precision']))\n",
    "print(\"Recall: \", np.mean(results['test_recall']))\n"
   ]
  },
  {
   "cell_type": "markdown",
   "id": "07e8ac73",
   "metadata": {},
   "source": [
    "\n"
   ]
  },
  {
   "cell_type": "markdown",
   "id": "cfac7968",
   "metadata": {},
   "source": [
    "<a id='LR'></a>\n",
    "\n",
    "### Logistic Regression CV (Accuracy: 84.9% / Precision: 70.8% / Recall: 58.7%)"
   ]
  },
  {
   "cell_type": "code",
   "execution_count": 28,
   "id": "ea44b9bb",
   "metadata": {},
   "outputs": [
    {
     "name": "stdout",
     "output_type": "stream",
     "text": [
      "Accuracy:  0.8493349259090138\n",
      "Precision:  0.707794323642162\n",
      "Recall:  0.5871825176121617\n"
     ]
    }
   ],
   "source": [
    "# 10-fold Cross Validation\n",
    "\n",
    "log_cl = LogisticRegression(solver=\"lbfgs\", C=10, max_iter=400, random_state=0)\n",
    "log_cl.fit(X_train_num_cat_scaled, Y_train)\n",
    "\n",
    "scoring = {'precision' : make_scorer(precision_score),\n",
    "           'recall' : make_scorer(recall_score),\n",
    "           'accuracy': make_scorer(accuracy_score)}\n",
    "\n",
    "results = cross_validate(log_cl, X_train_num_cat_scaled, Y_train, scoring = scoring, cv=10, return_train_score=True)\n",
    "\n",
    "print(\"Accuracy: \", np.mean(results['test_accuracy']))\n",
    "print(\"Precision: \", np.mean(results['test_precision']))\n",
    "print(\"Recall: \", np.mean(results['test_recall']))"
   ]
  },
  {
   "cell_type": "code",
   "execution_count": 29,
   "id": "b2acc42c",
   "metadata": {},
   "outputs": [
    {
     "data": {
      "image/png": "[encoded data removed]",
      "text/plain": [
       "<Figure size 432x288 with 1 Axes>"
      ]
     },
     "metadata": {
      "needs_background": "light"
     },
     "output_type": "display_data"
    }
   ],
   "source": [
    "# Precision vs. Recall based on thresholds\n",
    "\n",
    "Y_log_scores = cross_val_predict(log_cl, X_train_num_cat_scaled, Y_train, cv=10, method='decision_function')\n",
    "precisions_log, recalls_log, thresholds_log = precision_recall_curve(Y_train, Y_log_scores)\n",
    "prec_rec_threshold(precisions_log, recalls_log, thresholds_log)\n",
    "plt.show()"
   ]
  },
  {
   "cell_type": "markdown",
   "id": "f701feb4",
   "metadata": {},
   "source": [
    "\n"
   ]
  },
  {
   "cell_type": "markdown",
   "id": "c33a1bbe",
   "metadata": {},
   "source": [
    "<a id='SVM'></a>\n",
    "\n",
    "### Support Vector Machine (Accuracy: 82.9% / Precision: 71.2% / Recall: 42.7%)"
   ]
  },
  {
   "cell_type": "code",
   "execution_count": 30,
   "id": "54cb8f7b",
   "metadata": {},
   "outputs": [
    {
     "name": "stdout",
     "output_type": "stream",
     "text": [
      "Accuracy:  0.8285104816831772\n",
      "Precision:  0.7119798739774621\n",
      "Recall:  0.42660965888023733\n"
     ]
    }
   ],
   "source": [
    "# 10-fold Cross validation\n",
    "\n",
    "svm_cl=SVC(random_state=1, coef0=0, C=1, gamma= 'scale', kernel='rbf', decision_function_shape='ovo')\n",
    "svm_cl.fit(X_train_num_cat_scaled, Y_train)\n",
    "\n",
    "scoring = {'precision' : make_scorer(precision_score),\n",
    "           'recall' : make_scorer(recall_score),\n",
    "           'accuracy': make_scorer(accuracy_score)}\n",
    "\n",
    "results = cross_validate(svm_cl, X_train_num_cat_scaled, Y_train, scoring = scoring, cv=10, return_train_score=True)\n",
    "\n",
    "print(\"Accuracy: \", np.mean(results['test_accuracy']))\n",
    "print(\"Precision: \", np.mean(results['test_precision']))\n",
    "print(\"Recall: \", np.mean(results['test_recall']))"
   ]
  },
  {
   "cell_type": "code",
   "execution_count": 31,
   "id": "eff305a9",
   "metadata": {},
   "outputs": [
    {
     "data": {
      "image/png": "[encoded data removed]",
      "text/plain": [
       "<Figure size 432x288 with 1 Axes>"
      ]
     },
     "metadata": {
      "needs_background": "light"
     },
     "output_type": "display_data"
    }
   ],
   "source": [
    "# Precision vs. Recall based on thresholds\n",
    "\n",
    "Y_svm_scores = cross_val_predict(svm_cl, X_train_num_cat_scaled, Y_train, cv=10, method='decision_function')\n",
    "precisions_svm, recalls_svm, thresholds_svm = precision_recall_curve(Y_train, Y_svm_scores)\n",
    "prec_rec_threshold(precisions_svm, recalls_svm, thresholds_svm)\n",
    "plt.show()"
   ]
  },
  {
   "cell_type": "markdown",
   "id": "6440dcef",
   "metadata": {},
   "source": [
    "\n"
   ]
  },
  {
   "cell_type": "markdown",
   "id": "b26ade52",
   "metadata": {},
   "source": [
    "<a id='SGD'></a>\n",
    "\n",
    "### SGD Classifier (Accuracy: 82.5% / Precision: 67.4% / Recall: 46.8%) "
   ]
  },
  {
   "cell_type": "code",
   "execution_count": 32,
   "id": "e1aa1524",
   "metadata": {},
   "outputs": [
    {
     "name": "stdout",
     "output_type": "stream",
     "text": [
      "Accuracy:  0.8251976159328045\n",
      "Precision:  0.674386603597164\n",
      "Recall:  0.46819011865035226\n"
     ]
    }
   ],
   "source": [
    "# 10-fold Cross validation\n",
    "\n",
    "sgd_cl = SGDClassifier(max_iter=50, random_state=42)\n",
    "sgd_cl.fit(X_train_num_cat_scaled, Y_train)\n",
    "\n",
    "scoring = {'precision' : make_scorer(precision_score),\n",
    "           'recall' : make_scorer(recall_score),\n",
    "           'accuracy': make_scorer(accuracy_score)}\n",
    "\n",
    "results = cross_validate(sgd_cl, X_train_num_cat_scaled, Y_train, scoring = scoring, cv=10, return_train_score=True)\n",
    "\n",
    "print(\"Accuracy: \", np.mean(results['test_accuracy']))\n",
    "print(\"Precision: \", np.mean(results['test_precision']))\n",
    "print(\"Recall: \", np.mean(results['test_recall']))"
   ]
  },
  {
   "cell_type": "code",
   "execution_count": 33,
   "id": "26ee82fd",
   "metadata": {},
   "outputs": [
    {
     "data": {
      "image/png": "[encoded data removed]",
      "text/plain": [
       "<Figure size 432x288 with 1 Axes>"
      ]
     },
     "metadata": {
      "needs_background": "light"
     },
     "output_type": "display_data"
    }
   ],
   "source": [
    "# Precision vs. Recall based on thresholds\n",
    "\n",
    "Y_sgd_scores = cross_val_predict(sgd_cl, X_train_num_cat_scaled, Y_train, cv=10, method='decision_function')\n",
    "precisions_sgd, recalls_sgd, thresholds_sgd = precision_recall_curve(Y_train, Y_sgd_scores)\n",
    "\n",
    "prec_rec_threshold(precisions_sgd, recalls_sgd, thresholds_sgd)\n",
    "plt.show()"
   ]
  },
  {
   "cell_type": "markdown",
   "id": "6008cb3f",
   "metadata": {},
   "source": [
    "\n"
   ]
  },
  {
   "cell_type": "markdown",
   "id": "c29b3678",
   "metadata": {},
   "source": [
    "<a id='SV'></a>\n",
    "\n",
    "### Soft Voting (Accuracy: 90.7% / Precision: 81.1% / Recall: 77.5%)"
   ]
  },
  {
   "cell_type": "code",
   "execution_count": 37,
   "id": "8009ae9d",
   "metadata": {},
   "outputs": [
    {
     "name": "stdout",
     "output_type": "stream",
     "text": [
      "XGBClassifier 0.9103724588217836\n",
      "RandomForestClassifier 0.892862442498887\n",
      "VotingClassifier 0.9065143196319929\n"
     ]
    }
   ],
   "source": [
    "# Soft Voting (XGBoost and random forest)\n",
    "\n",
    "xgb_cl = xgb.XGBClassifier(learning_rate = 0.17, n_estimators = 170, colsample_bytree = 0.5, \n",
    "                           subsample = 1.0, gamma = 0.0, max_depth = 5, min_child_weight = 2, objective= 'binary:logistic',  \n",
    "                           scale_pos_weight=1, eval_metric='error', use_label_encoder=False)\n",
    "rnd_cl = RandomForestClassifier(max_depth = 45, n_estimators = 670, min_samples_split = 2, min_samples_leaf = 1, \n",
    "                                n_jobs=-1, oob_score=True, max_features = \"auto\")\n",
    "\n",
    "voting_cl = VotingClassifier(estimators = [('xgb', xgb_cl), ('rf', rnd_cl)], voting='soft')\n",
    "voting_cl.fit(X_train_num_cat_scaled, Y_train)\n",
    "\n",
    "\n",
    "for clf in (xgb_cl, rnd_cl, voting_cl):\n",
    "    clf.fit(X_train_num_cat_scaled, Y_train)\n",
    "    Y_pred = clf.predict(X_test_num_cat_scaled)\n",
    "    print(clf.__class__.__name__, accuracy_score(Y_test, Y_pred))"
   ]
  },
  {
   "cell_type": "code",
   "execution_count": 39,
   "id": "92033dfc",
   "metadata": {},
   "outputs": [
    {
     "name": "stdout",
     "output_type": "stream",
     "text": [
      "Accuracy:  0.9067117472277975\n",
      "Precision:  0.8111472079585635\n",
      "Recall:  0.7748642009640341\n"
     ]
    }
   ],
   "source": [
    "scoring = {'precision' : make_scorer(precision_score),\n",
    "           'recall' : make_scorer(recall_score),\n",
    "           'accuracy': make_scorer(accuracy_score)}\n",
    "\n",
    "results = cross_validate(voting_cl, X_train_num_cat_scaled, Y_train, scoring = scoring, cv=10, return_train_score=True)\n",
    "\n",
    "print(\"Accuracy: \", np.mean(results['test_accuracy']))\n",
    "print(\"Precision: \", np.mean(results['test_precision']))\n",
    "print(\"Recall: \", np.mean(results['test_recall']))"
   ]
  },
  {
   "cell_type": "markdown",
   "id": "acbb2574",
   "metadata": {},
   "source": [
    "\n"
   ]
  },
  {
   "cell_type": "markdown",
   "id": "a5023583",
   "metadata": {},
   "source": [
    "In conclusion, after the hyperparameter tuning process, XGBoost produces the best result in all three metrics (accuracy, precision, and recall), followed by random forest, and neural network. The performance of the classifiers can be further improved by finding more optimal combinations of hyperparameters. \n",
    "\n",
    "XGBoost and the soft voting classifier have very similar results, so either one can be the final model. However, if you care more about precision rate than accuracy and recall rate, soft voting classifier can be used as it has slightly higher precision rate. "
   ]
  },
  {
   "cell_type": "markdown",
   "id": "cb6c3b31",
   "metadata": {},
   "source": [
    "<a id='FI'></a>\n",
    "\n",
    "### Feature Importance (XGBoost and Random Forest)"
   ]
  },
  {
   "cell_type": "code",
   "execution_count": 71,
   "id": "90038348",
   "metadata": {},
   "outputs": [
    {
     "data": {
      "image/png": "[encoded data removed]",
      "text/plain": [
       "<Figure size 1080x576 with 2 Axes>"
      ]
     },
     "metadata": {
      "needs_background": "light"
     },
     "output_type": "display_data"
    }
   ],
   "source": [
    "plt.subplots(figsize=(15, 8))\n",
    "\n",
    "plt.subplot(1, 2, 1)\n",
    "plt.barh(X_test_num_cat_scaled.columns, xgb_cl.feature_importances_[sort_col], color='c')\n",
    "plt.title(\"Feature Importance by XGBoost\", size=20)\n",
    "\n",
    "plt.subplot(1, 2, 2)\n",
    "plt.barh(X_test_num_cat_scaled.columns, rnd_cl.feature_importances_[sort_col_rf], color='b')\n",
    "plt.title(\"Feature Importance by Random Forest\", size=20)\n",
    "\n",
    "plt.tight_layout()"
   ]
  },
  {
   "cell_type": "markdown",
   "id": "2af89636",
   "metadata": {},
   "source": [
    "The feature important plots indicate that both XGBoost and random forest have the same order of feature importances. The weekday features come on top followed by the price ranges, and types of restaurants. However, the the score of each feature is different. "
   ]
  }
 ],
 "metadata": {
  "kernelspec": {
   "display_name": "Python 3",
   "language": "python",
   "name": "python3"
  },
  "language_info": {
   "codemirror_mode": {
    "name": "ipython",
    "version": 3
   },
   "file_extension": ".py",
   "mimetype": "text/x-python",
   "name": "python",
   "nbconvert_exporter": "python",
   "pygments_lexer": "ipython3",
   "version": "3.8.8"
  }
 },
 "nbformat": 4,
 "nbformat_minor": 5
}
